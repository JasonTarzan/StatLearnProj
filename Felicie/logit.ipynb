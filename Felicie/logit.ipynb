{
 "cells": [
  {
   "cell_type": "markdown",
   "metadata": {},
   "source": [
    "### Libraries and packages"
   ]
  },
  {
   "cell_type": "code",
   "execution_count": 1,
   "metadata": {},
   "outputs": [],
   "source": [
    "import numpy as np\n",
    "import pandas as pd\n",
    "import string\n",
    "import sklearn\n",
    "from sklearn.feature_extraction.text import CountVectorizer\n",
    "from sklearn.model_selection import *\n",
    "from sklearn.linear_model import LogisticRegression\n",
    "from sklearn.metrics import confusion_matrix\n",
    "from sklearn.ensemble import RandomForestClassifier\n",
    "from sklearn.metrics import roc_auc_score, roc_curve\n",
    "import matplotlib.pyplot as plt"
   ]
  },
  {
   "cell_type": "markdown",
   "metadata": {},
   "source": [
    "### Import of datas"
   ]
  },
  {
   "cell_type": "code",
   "execution_count": 2,
   "metadata": {},
   "outputs": [
    {
     "data": {
      "text/html": [
       "<div>\n",
       "<style scoped>\n",
       "    .dataframe tbody tr th:only-of-type {\n",
       "        vertical-align: middle;\n",
       "    }\n",
       "\n",
       "    .dataframe tbody tr th {\n",
       "        vertical-align: top;\n",
       "    }\n",
       "\n",
       "    .dataframe thead th {\n",
       "        text-align: right;\n",
       "    }\n",
       "</style>\n",
       "<table border=\"1\" class=\"dataframe\">\n",
       "  <thead>\n",
       "    <tr style=\"text-align: right;\">\n",
       "      <th></th>\n",
       "      <th>Unnamed: 0</th>\n",
       "      <th>username</th>\n",
       "      <th>user_handle</th>\n",
       "      <th>date</th>\n",
       "      <th>retweets</th>\n",
       "      <th>favorites</th>\n",
       "      <th>text</th>\n",
       "      <th>label</th>\n",
       "    </tr>\n",
       "  </thead>\n",
       "  <tbody>\n",
       "    <tr>\n",
       "      <th>0</th>\n",
       "      <td>0</td>\n",
       "      <td>WWF Climate &amp; Energy</td>\n",
       "      <td>climateWWF</td>\n",
       "      <td>2020-04-28</td>\n",
       "      <td>11</td>\n",
       "      <td>22</td>\n",
       "      <td>Economic recovery and national climate pledges...</td>\n",
       "      <td>0</td>\n",
       "    </tr>\n",
       "    <tr>\n",
       "      <th>1</th>\n",
       "      <td>1</td>\n",
       "      <td>WWF Climate &amp; Energy</td>\n",
       "      <td>climateWWF</td>\n",
       "      <td>2020-04-22</td>\n",
       "      <td>6</td>\n",
       "      <td>16</td>\n",
       "      <td>In this difficult time  it’s hard to connect w...</td>\n",
       "      <td>0</td>\n",
       "    </tr>\n",
       "    <tr>\n",
       "      <th>2</th>\n",
       "      <td>2</td>\n",
       "      <td>WWF Climate &amp; Energy</td>\n",
       "      <td>climateWWF</td>\n",
       "      <td>2020-04-01</td>\n",
       "      <td>43</td>\n",
       "      <td>69</td>\n",
       "      <td>The decision to postpone   COP    is unavoidab...</td>\n",
       "      <td>0</td>\n",
       "    </tr>\n",
       "    <tr>\n",
       "      <th>3</th>\n",
       "      <td>3</td>\n",
       "      <td>WWF Climate &amp; Energy</td>\n",
       "      <td>climateWWF</td>\n",
       "      <td>2020-03-30</td>\n",
       "      <td>24</td>\n",
       "      <td>30</td>\n",
       "      <td>Japan   the world’s fifth largest emitter of g...</td>\n",
       "      <td>0</td>\n",
       "    </tr>\n",
       "    <tr>\n",
       "      <th>4</th>\n",
       "      <td>4</td>\n",
       "      <td>WWF Climate &amp; Energy</td>\n",
       "      <td>climateWWF</td>\n",
       "      <td>2020-03-30</td>\n",
       "      <td>22</td>\n",
       "      <td>40</td>\n",
       "      <td>How can countries include   NatureBasedSolutio...</td>\n",
       "      <td>0</td>\n",
       "    </tr>\n",
       "  </tbody>\n",
       "</table>\n",
       "</div>"
      ],
      "text/plain": [
       "   Unnamed: 0              username user_handle        date retweets  \\\n",
       "0           0  WWF Climate & Energy  climateWWF  2020-04-28       11   \n",
       "1           1  WWF Climate & Energy  climateWWF  2020-04-22        6   \n",
       "2           2  WWF Climate & Energy  climateWWF  2020-04-01       43   \n",
       "3           3  WWF Climate & Energy  climateWWF  2020-03-30       24   \n",
       "4           4  WWF Climate & Energy  climateWWF  2020-03-30       22   \n",
       "\n",
       "  favorites                                               text  label  \n",
       "0        22  Economic recovery and national climate pledges...      0  \n",
       "1        16  In this difficult time  it’s hard to connect w...      0  \n",
       "2        69  The decision to postpone   COP    is unavoidab...      0  \n",
       "3        30  Japan   the world’s fifth largest emitter of g...      0  \n",
       "4        40  How can countries include   NatureBasedSolutio...      0  "
      ]
     },
     "execution_count": 2,
     "metadata": {},
     "output_type": "execute_result"
    }
   ],
   "source": [
    "data = pd.read_csv(\"/Users/FelicieBizeul/Desktop/ETUDES/ENSAI/Erasmus/SL/project/Try_bow/climate_change_tweets_sample_to_work_on.csv\")\n",
    "data.head()"
   ]
  },
  {
   "cell_type": "markdown",
   "metadata": {},
   "source": [
    "Here we use the file which already have been pre-processed, so our datas are cleans of '#' '@' etc"
   ]
  },
  {
   "cell_type": "markdown",
   "metadata": {},
   "source": [
    "### Define the train and test samples of X and Y"
   ]
  },
  {
   "cell_type": "code",
   "execution_count": 3,
   "metadata": {},
   "outputs": [
    {
     "name": "stdout",
     "output_type": "stream",
     "text": [
      "X_train.shape is :  (12066, 8)\n",
      "X_test.shape is :  (5943, 8)\n",
      "Y_train.shape is :  (12066,)\n",
      "Y_test.shape is :  (5943,)\n"
     ]
    }
   ],
   "source": [
    "X_train, X_test, Y_train, Y_test = train_test_split(data, data.label, test_size=0.33, random_state=42)\n",
    "\n",
    "print(\"X_train.shape is : \", X_train.shape)\n",
    "print(\"X_test.shape is : \", X_test.shape)\n",
    "print(\"Y_train.shape is : \", Y_train.shape)\n",
    "print(\"Y_test.shape is : \", Y_test.shape)"
   ]
  },
  {
   "cell_type": "markdown",
   "metadata": {},
   "source": [
    "### Instantiation of our bags of words"
   ]
  },
  {
   "cell_type": "code",
   "execution_count": 4,
   "metadata": {},
   "outputs": [],
   "source": [
    "# Declaration of the object with some conditions\n",
    "vectorizer = CountVectorizer(stop_words = 'english', binary=True, min_df = 10)\n",
    "\n",
    "# For create the document term matrix\n",
    "X_train = vectorizer.fit_transform(X_train[\"text\"])\n",
    "X_test = vectorizer.transform(X_test[\"text\"])"
   ]
  },
  {
   "cell_type": "markdown",
   "metadata": {},
   "source": [
    "## LOGIT"
   ]
  },
  {
   "cell_type": "markdown",
   "metadata": {},
   "source": [
    "### Logit without penalties    "
   ]
  },
  {
   "cell_type": "code",
   "execution_count": 5,
   "metadata": {},
   "outputs": [
    {
     "name": "stdout",
     "output_type": "stream",
     "text": [
      "Coef training: [[ 352.21624073  398.04499713 -206.42018779 ... -331.10995521\n",
      "    56.2247488  1205.85083984]]\n",
      "Training set score : 1.000\n",
      "Test set score : 0.907\n"
     ]
    }
   ],
   "source": [
    "logreg_without_penalties = LogisticRegression(penalty='none')\n",
    "\n",
    "fitlog = logreg_without_penalties.fit(X_train, Y_train)\n",
    "coef_log = fitlog.coef_\n",
    "score_train = logreg_without_penalties.score(X_train,Y_train)\n",
    "score_test = logreg_without_penalties.score(X_test,Y_test)\n",
    "\n",
    "print(\"Coef training: {}\".format(logreg_without_penalties.coef_))\n",
    "print(\"Training set score : {:.3f}\".format(score_train))\n",
    "print(\"Test set score : {:.3f}\".format(score_test))"
   ]
  },
  {
   "cell_type": "code",
   "execution_count": 6,
   "metadata": {},
   "outputs": [
    {
     "name": "stdout",
     "output_type": "stream",
     "text": [
      "Matrice de confusion : [[2154  261]\n",
      " [ 290 3238]]\n"
     ]
    }
   ],
   "source": [
    "# X predict on our sample test\n",
    "pred_logreg = logreg_without_penalties.predict(X_test)\n",
    "\n",
    "confusion = confusion_matrix(Y_test, pred_logreg)\n",
    "print(\"Matrice de confusion : {}\".format(confusion))"
   ]
  },
  {
   "cell_type": "markdown",
   "metadata": {},
   "source": [
    "### Lasso Penalty : With a l1 penalty for the general model"
   ]
  },
  {
   "cell_type": "code",
   "execution_count": 7,
   "metadata": {},
   "outputs": [
    {
     "data": {
      "image/png": "[encoded data removed]",
      "text/plain": [
       "<Figure size 432x288 with 1 Axes>"
      ]
     },
     "metadata": {
      "needs_background": "light"
     },
     "output_type": "display_data"
    },
    {
     "name": "stdout",
     "output_type": "stream",
     "text": [
      "the best lambda is :  0.9324 with an acc of :  0.9262398064062687\n"
     ]
    }
   ],
   "source": [
    "# Here we find the best lamda\n",
    "score_best = 0\n",
    "acc_l=[]\n",
    "lambda_best = 0\n",
    "log = np.logspace(start = -10,stop = 10, num = 100, base = 2)\n",
    "\n",
    "for i in log : \n",
    "    lasso_model_i = LogisticRegression(C=i,penalty='l1', solver='liblinear')\n",
    "    lasso_fit = lasso_model_i.fit(X_train,Y_train)\n",
    "    y_pred_val_i = lasso_model_i.predict(X_train)\n",
    "    score_i = cross_val_score(lasso_model_i, X_train, Y_train, cv=5, scoring='accuracy')\n",
    "    acc_i = np.mean(score_i)\n",
    "    acc_l.append(acc_i)\n",
    "    \n",
    "    if acc_i > score_best :\n",
    "        score_best = acc_i\n",
    "        lambda_best = i\n",
    "        \n",
    "plt.plot(log,acc_l)\n",
    "plt.xscale('log')\n",
    "plt.grid(True, which =\"both\",linestyle ='--')\n",
    "plt.show()\n",
    "\n",
    "print(\"the best lambda is : \", round(lambda_best,4), \"with an acc of : \",score_best)"
   ]
  },
  {
   "cell_type": "code",
   "execution_count": 8,
   "metadata": {},
   "outputs": [
    {
     "data": {
      "text/plain": [
       "LogisticRegression(C=0.9323799583681278, class_weight=None, dual=False,\n",
       "                   fit_intercept=True, intercept_scaling=1, l1_ratio=None,\n",
       "                   max_iter=100, multi_class='auto', n_jobs=None, penalty='l1',\n",
       "                   random_state=None, solver='liblinear', tol=0.0001, verbose=0,\n",
       "                   warm_start=False)"
      ]
     },
     "execution_count": 8,
     "metadata": {},
     "output_type": "execute_result"
    }
   ],
   "source": [
    "# Here is the best model with the best penalty for Lasso :\n",
    "best_model_lasso = LogisticRegression(C=lambda_best, penalty='l1',solver='liblinear')\n",
    "best_model_lasso.fit(X_train, Y_train)"
   ]
  },
  {
   "cell_type": "code",
   "execution_count": 9,
   "metadata": {},
   "outputs": [
    {
     "name": "stdout",
     "output_type": "stream",
     "text": [
      "Coef training: [[ 0.          0.          0.         ... -0.47377146  0.\n",
      "   2.73131574]]\n",
      "Training set score : 0.965\n",
      "Test set score : 0.926\n"
     ]
    }
   ],
   "source": [
    "coef_log_best_model_lasso = best_model_lasso.coef_\n",
    "score_train_best_model_lasso = best_model_lasso.score(X_train,Y_train)\n",
    "score_test_best_model_lasso = best_model_lasso.score(X_test,Y_test)\n",
    "\n",
    "print(\"Coef training: {}\".format(best_model_lasso.coef_))\n",
    "print(\"Training set score : {:.3f}\".format(score_train_best_model_lasso))\n",
    "print(\"Test set score : {:.3f}\".format(score_test_best_model_lasso))"
   ]
  },
  {
   "cell_type": "code",
   "execution_count": 10,
   "metadata": {},
   "outputs": [
    {
     "name": "stdout",
     "output_type": "stream",
     "text": [
      "Matrice de confusion : [[2227  188]\n",
      " [ 251 3277]]\n"
     ]
    }
   ],
   "source": [
    "# X predict on our test sample\n",
    "pred_best_model_lasso = best_model_lasso.predict(X_test)\n",
    "\n",
    "confusion_best_model_lasso = confusion_matrix(Y_test, pred_best_model_lasso)\n",
    "print(\"Matrice de confusion : {}\".format(confusion_best_model_lasso))"
   ]
  },
  {
   "cell_type": "markdown",
   "metadata": {},
   "source": [
    "### ROC curve for our two models to compare them"
   ]
  },
  {
   "cell_type": "code",
   "execution_count": 12,
   "metadata": {},
   "outputs": [],
   "source": [
    "logit_roc_auc_best_model_lasso = roc_auc_score(Y_test, best_model_lasso.predict(X_test))\n",
    "logit_roc_auc_without_penalty = roc_auc_score(Y_test, logreg_without_penalties.predict(X_test))"
   ]
  },
  {
   "cell_type": "code",
   "execution_count": 14,
   "metadata": {},
   "outputs": [
    {
     "data": {
      "image/png": "[encoded data removed]",
      "text/plain": [
       "<Figure size 432x288 with 1 Axes>"
      ]
     },
     "metadata": {
      "needs_background": "light"
     },
     "output_type": "display_data"
    }
   ],
   "source": [
    "fpr_b, tpr_b, thresholds_b = roc_curve(Y_test, best_model_lasso.predict_proba(X_test)[:,1])\n",
    "fpr, tpr, thresholds = roc_curve(Y_test, logreg_without_penalties.predict_proba(X_test)[:,1])\n",
    "\n",
    "plt.figure()\n",
    "plt.plot(fpr_b, tpr_b, label='L1 penalty (area = %0.2f)' % logit_roc_auc_best_model_lasso)\n",
    "plt.plot(fpr, tpr, label='General model (area = %0.2f)' % logit_roc_auc_without_penalty)\n",
    "plt.plot([0, 1], [0, 1],'r--')\n",
    "plt.xlim([0.0, 1.0])\n",
    "plt.ylim([0.0, 1.05])\n",
    "plt.xlabel('False Positive Rate')\n",
    "plt.ylabel('True Positive Rate')\n",
    "plt.title('Summary of ROC curve for logistique regression')\n",
    "plt.legend(loc=\"lower right\")\n",
    "plt.savefig('Log_ROC')\n",
    "plt.show()"
   ]
  },
  {
   "cell_type": "markdown",
   "metadata": {},
   "source": [
    "Here, the L1 penalty model is the best one without cross validation with our split of datas.\n",
    "We can perform a 5 cross validation on our two models. "
   ]
  },
  {
   "cell_type": "markdown",
   "metadata": {},
   "source": [
    "### 5 cross validation on our models"
   ]
  },
  {
   "cell_type": "code",
   "execution_count": 15,
   "metadata": {},
   "outputs": [],
   "source": [
    "#### Model logistic without penalty"
   ]
  },
  {
   "cell_type": "code",
   "execution_count": 16,
   "metadata": {},
   "outputs": [
    {
     "name": "stderr",
     "output_type": "stream",
     "text": [
      "/Users/FelicieBizeul/opt/anaconda3/lib/python3.7/site-packages/sklearn/linear_model/_logistic.py:940: ConvergenceWarning: lbfgs failed to converge (status=1):\n",
      "STOP: TOTAL NO. of ITERATIONS REACHED LIMIT.\n",
      "\n",
      "Increase the number of iterations (max_iter) or scale the data as shown in:\n",
      "    https://scikit-learn.org/stable/modules/preprocessing.html\n",
      "Please also refer to the documentation for alternative solver options:\n",
      "    https://scikit-learn.org/stable/modules/linear_model.html#logistic-regression\n",
      "  extra_warning_msg=_LOGISTIC_SOLVER_CONVERGENCE_MSG)\n"
     ]
    },
    {
     "name": "stdout",
     "output_type": "stream",
     "text": [
      "CV accuracy : [0.9067937  0.90385412 0.90509739 0.91504351 0.90965603]\n",
      "Mean CV accuracy : 0.91\n"
     ]
    }
   ],
   "source": [
    "scores_logreg_without_penalties = cross_val_score(LogisticRegression(penalty = 'none'), X_train, Y_train, cv = 5)\n",
    "print(\"CV accuracy : {}\".format(scores_logreg_without_penalties)) #Afficher la moyenne des scores\n",
    "print(\"Mean CV accuracy : {:.2f}\".format(np.mean(scores_logreg_without_penalties))) #Afficher la moyenne des scores"
   ]
  },
  {
   "cell_type": "code",
   "execution_count": 17,
   "metadata": {},
   "outputs": [],
   "source": [
    "#### Model logistic with lasso penalty"
   ]
  },
  {
   "cell_type": "code",
   "execution_count": 18,
   "metadata": {},
   "outputs": [
    {
     "name": "stdout",
     "output_type": "stream",
     "text": [
      "CV accuracy : [0.91673571 0.92457522 0.9241608  0.93493576 0.93120597]\n",
      "Mean CV accuracy : 0.93\n"
     ]
    }
   ],
   "source": [
    "scores_best_model_lasso  = cross_val_score(LogisticRegression(C=lambda_best, penalty='l1',solver='liblinear'), X_train, Y_train, cv = 5)\n",
    "print(\"CV accuracy : {}\".format(scores_best_model_lasso)) #Afficher la moyenne des scores\n",
    "print(\"Mean CV accuracy : {:.2f}\".format(np.mean(scores_best_model_lasso))) #Afficher la moyenne des scores"
   ]
  },
  {
   "cell_type": "markdown",
   "metadata": {},
   "source": [
    "The best model is the one with the lasso penalty even if with cross validation. "
   ]
  },
  {
   "cell_type": "code",
   "execution_count": null,
   "metadata": {},
   "outputs": [],
   "source": []
  }
 ],
 "metadata": {
  "kernelspec": {
   "display_name": "Python 3",
   "language": "python",
   "name": "python3"
  },
  "language_info": {
   "codemirror_mode": {
    "name": "ipython",
    "version": 3
   },
   "file_extension": ".py",
   "mimetype": "text/x-python",
   "name": "python",
   "nbconvert_exporter": "python",
   "pygments_lexer": "ipython3",
   "version": "3.7.6"
  }
 },
 "nbformat": 4,
 "nbformat_minor": 4
}
