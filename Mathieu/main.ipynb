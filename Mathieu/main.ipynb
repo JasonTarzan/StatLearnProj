{
 "cells": [
  {
   "cell_type": "markdown",
   "metadata": {},
   "source": [
    "# Master Notebook\n",
    "\n",
    "The aim of this notebook is to create a single strand of analysis with a coherent narrative. \n",
    "\n",
    "[Update the results on the Google Sheet](https://docs.google.com/spreadsheets/d/1tFsScPgzPsGqZCGhDM3cJgXysmp_lce1kUN76B2Rha8/edit?usp=sharing)\n",
    "\n",
    "### Aim for Final Version\n",
    "\n",
    "- Table of Vectorisation Methods * Classification Method * |Additional Methods| - Table of accuracies for different combinations of analysis methods as detailed in _Table of Analyses.xlsx_ (see `organisation/` directory)\n",
    "- Explanation/Exposition of methods\n",
    "- EDA - Visualise vector word representations out of different pre-processing; Basic descriptive statistics on final _input dataset_\n",
    "- Clear and clean pre-processing pipeline\n",
    "- Clear and clean grid search methods\n",
    "\n",
    "### Modelling Combinations\n",
    "\n",
    "#### Pre-processing\n",
    "\n",
    "- Components (methods) of `CleanText`\n",
    "    - In particular stemming\n",
    "\n",
    "#### Word Representations\n",
    "\n",
    "- Bag-of-Words - One-Hot (BOW)\n",
    "    - BOW n-grams with $n > 1$\n",
    "- Bag-of-Words - Frequencies (FBOW)\n",
    "- Term Frequency–Inverse Document Frequency (TF-IDF)\n",
    "- Word2Vec\n",
    "    - Skip-grams (SG)\n",
    "    - Continuous-Bag-of-Words CBOW\n",
    "- FastText\n",
    "- Bert\n",
    "\n",
    "#### Classifiers\n",
    "\n",
    "- Logistic Regression (Elastic Net)\n",
    "    - Search across penalisation weights (C) and l1-l2 ratios (l1_ratio)\n",
    "- Support Vector Machines (SVM)\n",
    "- Naive Bayes (NB)\n",
    "- Random Forests (RF)\n",
    "- Gradient Boosting (GB)\n",
    "- (Perceptron) (MLP)\n",
    "\n",
    "#### Additional Modelling Considerations\n",
    "\n",
    "- Scaled versus Unscaled data\n",
    "\n",
    "### Questions for the Team\n",
    "\n",
    "- Logistic Regression: Thoughts on mean accuracy as given by `LogisticRegression.score()`?\n",
    "- Logistic regression was fitted on individual words previously in Felicie's notebok. Given that we have a limited number of accounts, people might have tendencies to use the same words so our low train and test errors might come from here. Stemming reduces the training and test accuracies. **We should check if the components explaining a high degree of variation are individual words used by certain accounts.**\n",
    "- What should our cut-off for the minimum _document frequency_ of words be. The value 10 has been used, but 1 is the default with `CountVectorizer`.\n",
    "\n",
    "### Messages to the Team\n",
    "\n",
    "- The repo is public - This allows us to directly read data in by passing Pandas a URL\n",
    "- You can run code via AWS as if you're working locally. Follow [this tutorial](https://chrisalbon.com/aws/basics/run_project_jupyter_on_amazon_ec2/).\n",
    "\n",
    "### TODO\n",
    "\n",
    "- How has Felicie's approach to BOW vectorisation been realised by `sklearn.feature_extraction.text.CountVectorizer`? In particular, has any stemming been performed and if so via which algorithm? See the [docs](https://scikit-learn.org/stable/modules/generated/sklearn.feature_extraction.text.CountVectorizer.html#sklearn.feature_extraction.text.CountVectorizer)\n",
    "- Which dimensions explain the most variation? Inspect model coefficients; run PCA"
   ]
  },
  {
   "cell_type": "markdown",
   "metadata": {},
   "source": [
    "# Code"
   ]
  },
  {
   "cell_type": "code",
   "execution_count": 1,
   "metadata": {},
   "outputs": [],
   "source": [
    "# Start Fresh\n",
    "\n",
    "%reset -f"
   ]
  },
  {
   "cell_type": "code",
   "execution_count": 2,
   "metadata": {},
   "outputs": [],
   "source": [
    "# Imports and Set Options\n",
    "\n",
    "import csv  # for slang\n",
    "import os\n",
    "import re  # regex\n",
    "import string  # punct\n",
    "from pprint import pprint\n",
    "\n",
    "#import emoji  # for emoji\n",
    "#import gensim\n",
    "#import keras\n",
    "#import lightgbm as lgb\n",
    "import matplotlib.pyplot as plt\n",
    "import nltk\n",
    "import numpy as np\n",
    "import pandas as pd\n",
    "import seaborn as sns\n",
    "import sklearn\n",
    "#from gensim.models import Word2Vec\n",
    "from IPython.display import Image\n",
    "from matplotlib import pyplot as plt\n",
    "from nltk.corpus import stopwords  # stopwords\n",
    "from nltk.stem import PorterStemmer  # stemming\n",
    "from nltk.stem import SnowballStemmer\n",
    "from nltk.stem.wordnet import WordNetLemmatizer\n",
    "from nltk.tokenize import word_tokenize\n",
    "from sklearn import svm, tree\n",
    "from sklearn.base import BaseEstimator, TransformerMixin\n",
    "from sklearn.decomposition import PCA\n",
    "from sklearn.discriminant_analysis import LinearDiscriminantAnalysis\n",
    "from sklearn.ensemble import (AdaBoostClassifier, BaggingClassifier,\n",
    "                              GradientBoostingClassifier,\n",
    "                              RandomForestClassifier, RandomForestRegressor,\n",
    "                              StackingClassifier)\n",
    "from sklearn.feature_extraction.text import CountVectorizer, TfidfVectorizer\n",
    "from sklearn.linear_model import LogisticRegression, LogisticRegressionCV\n",
    "from sklearn.metrics import (accuracy_score, auc, average_precision_score,\n",
    "                             brier_score_loss, classification_report,\n",
    "                             confusion_matrix, f1_score, fbeta_score,\n",
    "                             make_scorer, plot_precision_recall_curve,\n",
    "                             precision_recall_curve, precision_score,\n",
    "                             recall_score, roc_auc_score, roc_curve)\n",
    "from sklearn.model_selection import (GridSearchCV, KFold, RandomizedSearchCV,\n",
    "                                     cross_val_score, train_test_split)\n",
    "from sklearn.naive_bayes import GaussianNB, MultinomialNB\n",
    "#from sklearn.neural_network import MLPClassifier\n",
    "from sklearn.preprocessing import MaxAbsScaler, MinMaxScaler\n",
    "#from sklearn.svm import SVC  # \"Support vector classifier\"\n",
    "#from sklearn.svm import LinearSVC\n",
    "#from sklearn.tree import DecisionTreeClassifier\n",
    "\n",
    "#import xgboost as xgb\n",
    "\n",
    "# pd.set_option('display.max_rows', 500)\n",
    "pd.set_option('display.max_columns', 500)\n",
    "pd.set_option('display.width', 1000)\n",
    "\n",
    "%matplotlib inline"
   ]
  },
  {
   "cell_type": "markdown",
   "metadata": {},
   "source": [
    "## Homemade Classes and Functions"
   ]
  },
  {
   "cell_type": "code",
   "execution_count": 3,
   "metadata": {},
   "outputs": [],
   "source": [
    "# Clean Text Class\n",
    "\n",
    "class CleanText(BaseEstimator, TransformerMixin):\n",
    "    \n",
    "    def remove_mentions(self, input_text):\n",
    "        '''\n",
    "        Remove mentions, like @Mplamplampla\n",
    "        '''\n",
    "        return re.sub(r'@+', '', input_text)\n",
    "    \n",
    "    def remove_urls(self, input_text):\n",
    "        '''\n",
    "        Remove the urls mention in a tweet\n",
    "        '''\n",
    "        input_text  = ' '.join([w for w in input_text.split(' ') if '.com' not in w])\n",
    "        return re.sub(r'http.?://[^\\s]+[\\s]?', '', input_text)\n",
    "    \n",
    "    def emoji_oneword(self, input_text):\n",
    "        # By compressing the underscore, the emoji is kept as one word\n",
    "        input_text = emoji.demojize(input_text)\n",
    "        input_text = input_text.replace('_','')\n",
    "        input_text = input_text.replace(':','')\n",
    "        return input_text\n",
    "    \n",
    "    def possessive_pronouns(self, input_text):\n",
    "        '''\n",
    "        Remove the possesive pronouns, because otherwise after tokenization we will end up with a word and an s\n",
    "        Example: government's --> [\"government\", \"s\"]\n",
    "        '''\n",
    "        return input_text.replace(\"'s\", \"\")\n",
    "    \n",
    "    def characters(self, input_text):\n",
    "        '''\n",
    "        Remove special and redundant characters that may appear on a tweet and that don't really help in our analysis\n",
    "        '''\n",
    "        input_text = input_text.replace(\"\\r\", \" \") # Carriage Return\n",
    "        input_text = input_text.replace(\"\\n\", \" \") # Newline\n",
    "        input_text = \" \".join(input_text.split()) # Double space\n",
    "        input_text = input_text.replace('\"', '') # Quotes\n",
    "        return input_text\n",
    "    \n",
    "    def remove_punctuation(self, input_text):\n",
    "        '''\n",
    "        Remove punctuation and specifically these symbols '!\"#$%&\\'()*+,-./:;<=>?@[\\\\]^_`{|}~'\n",
    "        '''\n",
    "        punct = string.punctuation # string with all the punctuation symbols '!\"#$%&\\'()*+,-./:;<=>?@[\\\\]^_`{|}~'\n",
    "        trantab = str.maketrans(punct, len(punct)*' ')  # Every punctuation symbol will be replaced by a space\n",
    "        return input_text.translate(trantab)\n",
    "    \n",
    "    def remove_digits(self, input_text):\n",
    "        '''\n",
    "        Remove numbers\n",
    "        '''\n",
    "        return re.sub('\\d+', '', input_text)\n",
    "    \n",
    "    def to_lower(self, input_text):\n",
    "        '''\n",
    "        Convert all the sentences(words) to lowercase\n",
    "        '''\n",
    "        return input_text.lower()\n",
    "    \n",
    "    def remove_stopwords(self, input_text):\n",
    "        '''\n",
    "        Remove stopwords (refers to the most common words in a language)\n",
    "        '''\n",
    "        stopwords_list = stopwords.words('english')\n",
    "        # Some words which might indicate a certain sentiment are kept via a whitelist\n",
    "        whitelist = [\"n't\", \"not\", \"no\"]\n",
    "        words = input_text.split() \n",
    "        clean_words = [word for word in words if (word not in stopwords_list or word in whitelist) and len(word) > 1] \n",
    "        return \" \".join(clean_words) \n",
    "    \n",
    "    def stemming(self, input_text):\n",
    "        '''\n",
    "        Reduce the words to their stem\n",
    "        '''\n",
    "        porter = PorterStemmer()\n",
    "        words = input_text.split() \n",
    "        stemmed_words = [porter.stem(word) for word in words]\n",
    "        return \" \".join(stemmed_words)\n",
    "    \n",
    "    def encode_decode(self, input_text):\n",
    "        '''\n",
    "        Remove weird characters that are result of encoding problems\n",
    "        '''\n",
    "        return  \" \".join([k.encode(\"ascii\", \"ignore\").decode() for k in input_text.split(\" \")])\n",
    "    \n",
    "    \n",
    "    def translator(self, input_text):\n",
    "        '''\n",
    "        Transform abbrevations to normal words\n",
    "        Example: asap --> as soon as possible\n",
    "        '''\n",
    "        input_text = input_text.split(\" \")\n",
    "        j = 0\n",
    "        for _str in input_text:\n",
    "            # File path which consists of Abbreviations.\n",
    "            fileName = r\"slang.txt\"\n",
    "            # File Access mode [Read Mode]\n",
    "            accessMode = \"r\"\n",
    "            with open(fileName, accessMode) as myCSVfile:\n",
    "                # Reading file as CSV with delimiter as \"=\", so that \n",
    "                # abbreviation are stored in row[0] and phrases in row[1]\n",
    "                dataFromFile = csv.reader(myCSVfile, delimiter=\"=\")\n",
    "                # Removing Special Characters.\n",
    "                _str = re.sub('[^a-zA-Z0-9-_.]', '', _str)\n",
    "                for row in dataFromFile:\n",
    "                    # Check if selected word matches short forms[LHS] in text file.\n",
    "                    if _str.upper() == row[0]:\n",
    "                        # If match found replace it with its appropriate phrase in text file.\n",
    "                        input_text[j] = row[1]\n",
    "                myCSVfile.close()\n",
    "            j = j + 1\n",
    "        \n",
    "        return(' '.join(input_text))\n",
    "    \n",
    "    def fit(self, X, y=None, **fit_params):\n",
    "        return self\n",
    "    \n",
    "    def transform(self, X, **transform_params):\n",
    "        clean_X = (X.apply(self.translator)\n",
    "                    .apply(self.remove_mentions)\n",
    "                    .apply(self.remove_urls)\n",
    "                    .apply(self.emoji_oneword)\n",
    "                    .apply(self.possessive_pronouns)\n",
    "                    .apply(self.remove_punctuation)\n",
    "                    .apply(self.remove_digits)\n",
    "                    .apply(self.encode_decode)\n",
    "                    .apply(self.characters)\n",
    "                    .apply(self.to_lower)\n",
    "                    .apply(self.remove_stopwords)\n",
    "                    .apply(self.stemming))\n",
    "        return clean_X\n",
    "    \n",
    "    def transform_no_stem(self, X, **transform_params):\n",
    "        clean_X = (X.apply(self.translator)\n",
    "                    .apply(self.remove_mentions)\n",
    "                    .apply(self.remove_urls)\n",
    "                    .apply(self.emoji_oneword)\n",
    "                    .apply(self.possessive_pronouns)\n",
    "                    .apply(self.remove_punctuation)\n",
    "                    .apply(self.remove_digits)\n",
    "                    .apply(self.encode_decode)\n",
    "                    .apply(self.characters)\n",
    "                    .apply(self.to_lower)\n",
    "                    .apply(self.remove_stopwords))\n",
    "        return clean_X"
   ]
  },
  {
   "cell_type": "markdown",
   "metadata": {},
   "source": [
    "## Read in Data and Create Train and Test Sets"
   ]
  },
  {
   "cell_type": "code",
   "execution_count": 4,
   "metadata": {},
   "outputs": [
    {
     "data": {
      "text/html": [
       "<div>\n",
       "<style scoped>\n",
       "    .dataframe tbody tr th:only-of-type {\n",
       "        vertical-align: middle;\n",
       "    }\n",
       "\n",
       "    .dataframe tbody tr th {\n",
       "        vertical-align: top;\n",
       "    }\n",
       "\n",
       "    .dataframe thead th {\n",
       "        text-align: right;\n",
       "    }\n",
       "</style>\n",
       "<table border=\"1\" class=\"dataframe\">\n",
       "  <thead>\n",
       "    <tr style=\"text-align: right;\">\n",
       "      <th></th>\n",
       "      <th>username</th>\n",
       "      <th>user_handle</th>\n",
       "      <th>date</th>\n",
       "      <th>retweets</th>\n",
       "      <th>favorites</th>\n",
       "      <th>text</th>\n",
       "      <th>label</th>\n",
       "    </tr>\n",
       "  </thead>\n",
       "  <tbody>\n",
       "    <tr>\n",
       "      <th>0</th>\n",
       "      <td>WWF Climate &amp; Energy</td>\n",
       "      <td>climateWWF</td>\n",
       "      <td>2020-04-28</td>\n",
       "      <td>11</td>\n",
       "      <td>22</td>\n",
       "      <td>Economic recovery and national climate pledges...</td>\n",
       "      <td>0</td>\n",
       "    </tr>\n",
       "    <tr>\n",
       "      <th>1</th>\n",
       "      <td>WWF Climate &amp; Energy</td>\n",
       "      <td>climateWWF</td>\n",
       "      <td>2020-04-22</td>\n",
       "      <td>6</td>\n",
       "      <td>16</td>\n",
       "      <td>In this difficult time, it’s hard to connect w...</td>\n",
       "      <td>0</td>\n",
       "    </tr>\n",
       "    <tr>\n",
       "      <th>2</th>\n",
       "      <td>WWF Climate &amp; Energy</td>\n",
       "      <td>climateWWF</td>\n",
       "      <td>2020-04-01</td>\n",
       "      <td>43</td>\n",
       "      <td>69</td>\n",
       "      <td>The decision to postpone # COP26, is unavoidab...</td>\n",
       "      <td>0</td>\n",
       "    </tr>\n",
       "    <tr>\n",
       "      <th>3</th>\n",
       "      <td>WWF Climate &amp; Energy</td>\n",
       "      <td>climateWWF</td>\n",
       "      <td>2020-03-30</td>\n",
       "      <td>24</td>\n",
       "      <td>30</td>\n",
       "      <td>Japan - the world’s fifth largest emitter of g...</td>\n",
       "      <td>0</td>\n",
       "    </tr>\n",
       "    <tr>\n",
       "      <th>4</th>\n",
       "      <td>WWF Climate &amp; Energy</td>\n",
       "      <td>climateWWF</td>\n",
       "      <td>2020-03-30</td>\n",
       "      <td>22</td>\n",
       "      <td>40</td>\n",
       "      <td>How can countries include # NatureBasedSolutio...</td>\n",
       "      <td>0</td>\n",
       "    </tr>\n",
       "  </tbody>\n",
       "</table>\n",
       "</div>"
      ],
      "text/plain": [
       "               username user_handle        date retweets favorites                                               text  label\n",
       "0  WWF Climate & Energy  climateWWF  2020-04-28       11        22  Economic recovery and national climate pledges...      0\n",
       "1  WWF Climate & Energy  climateWWF  2020-04-22        6        16  In this difficult time, it’s hard to connect w...      0\n",
       "2  WWF Climate & Energy  climateWWF  2020-04-01       43        69  The decision to postpone # COP26, is unavoidab...      0\n",
       "3  WWF Climate & Energy  climateWWF  2020-03-30       24        30  Japan - the world’s fifth largest emitter of g...      0\n",
       "4  WWF Climate & Energy  climateWWF  2020-03-30       22        40  How can countries include # NatureBasedSolutio...      0"
      ]
     },
     "execution_count": 4,
     "metadata": {},
     "output_type": "execute_result"
    }
   ],
   "source": [
    "# Read in data (Raw copy for reference; copy for processing)\n",
    "\n",
    "tweets_raw = pd.read_csv('climate_change_tweets_sample-2020-05-16-17-57.csv')\n",
    "tweets = pd.read_csv('climate_change_tweets_sample-2020-05-16-17-57.csv')\n",
    "tweets.head()"
   ]
  },
  {
   "cell_type": "markdown",
   "metadata": {},
   "source": [
    "## Clean Dataset\n",
    "\n",
    "Applies the class methods (leveraging `sklearn` API):\n",
    "\n",
    "- translator\n",
    "- remove_mentions\n",
    "- remove_urls\n",
    "- emoji_oneword\n",
    "- possessive_pronouns\n",
    "- remove_punctuation\n",
    "- remove_digits\n",
    "- encode_decode\n",
    "- characters\n",
    "- to_lower\n",
    "- remove_stopwords\n",
    "- stemming (via Porter Algorithm)"
   ]
  },
  {
   "cell_type": "code",
   "execution_count": 5,
   "metadata": {},
   "outputs": [],
   "source": [
    "# Text Cleaning\n",
    "\n",
    "# ct = CleanText()\n",
    "# tweets[\"text\"] = ct.fit_transform(tweets.text)\n",
    "# tweets.to_csv(\"clean_tweets.csv\") # save once processed\n",
    "tweets = pd.read_csv(\"clean_tweets.csv\") # read in instead\n",
    "tweets = tweets.loc[(~tweets.text.isnull()), :]"
   ]
  },
  {
   "cell_type": "code",
   "execution_count": 6,
   "metadata": {},
   "outputs": [
    {
     "name": "stdout",
     "output_type": "stream",
     "text": [
      "3642     might progress climat area not enough global s...\n",
      "12695    trump crackdown politic scienc nasa climat div...\n",
      "8451     no one would believ human panick fals climat m...\n",
      "Name: text, dtype: object (14406,)\n",
      "\n",
      "8376     nazi root environment climat chang fraud bbcne...\n",
      "6111     interest democrat candid compar mani aspect cl...\n",
      "13983    ittrademark imposs see global warm signal minn...\n",
      "Name: text, dtype: object (3602,)\n",
      "\n",
      "3642     0\n",
      "12695    1\n",
      "8451     1\n",
      "Name: label, dtype: int64 (14406,)\n",
      "\n",
      "8376     1\n",
      "6111     0\n",
      "13983    1\n",
      "Name: label, dtype: int64 (3602,)\n",
      "\n"
     ]
    }
   ],
   "source": [
    "X_train, X_test, Y_train, Y_test = train_test_split(tweets.text, tweets.label, \n",
    "                                                    test_size=0.2, random_state=17, \n",
    "                                                    shuffle=True) # explicit default\n",
    "\n",
    "[print(dat.head(3), dat.shape, end=\"\\n\"*2) for dat in [X_train, X_test, Y_train, Y_test]];"
   ]
  },
  {
   "cell_type": "code",
   "execution_count": 7,
   "metadata": {},
   "outputs": [
    {
     "name": "stdout",
     "output_type": "stream",
     "text": [
      "Training label counts: \n",
      "1    8433\n",
      "0    5973\n",
      "Name: label, dtype: int64\n",
      "\n",
      "Test label counts: \n",
      "1    2138\n",
      "0    1464\n",
      "Name: label, dtype: int64\n"
     ]
    }
   ],
   "source": [
    "print(f\"Training label counts: \\n{Y_train.value_counts()}\", end=\"\\n\"*2)\n",
    "print(f\"Test label counts: \\n{Y_test.value_counts()}\")"
   ]
  },
  {
   "cell_type": "code",
   "execution_count": 8,
   "metadata": {},
   "outputs": [],
   "source": [
    "# Save set of workspace objects' names to enable periodic clean-up\n",
    "\n",
    "necessities = set(dir())"
   ]
  },
  {
   "cell_type": "markdown",
   "metadata": {},
   "source": [
    "## Word Vectorisations"
   ]
  },
  {
   "cell_type": "code",
   "execution_count": 9,
   "metadata": {},
   "outputs": [],
   "source": [
    "min_df = 1"
   ]
  },
  {
   "cell_type": "markdown",
   "metadata": {},
   "source": [
    "### Bag of Words (BOW) Binary (\"One-Hot\") Representation"
   ]
  },
  {
   "cell_type": "code",
   "execution_count": 10,
   "metadata": {},
   "outputs": [],
   "source": [
    "# Bag of Words Representation (One Hot, i.e. binary)\n",
    "\n",
    "BOW_vectorizer = CountVectorizer(stop_words = 'english', \n",
    "                                 binary=True, # Creates 0/1 \"One Hot\" vector; \n",
    "                                              # np.unique(BOW_train.toarray())\n",
    "                                 min_df = min_df)\n",
    "BOW_vectorizer.fit(X_train)\n",
    "BOW_train = BOW_vectorizer.transform(X_train)\n",
    "BOW_test = BOW_vectorizer.transform(X_test)"
   ]
  },
  {
   "cell_type": "code",
   "execution_count": 11,
   "metadata": {},
   "outputs": [
    {
     "data": {
      "text/plain": [
       "[('aaa', 0),\n",
       " ('aaand', 1),\n",
       " ('aarey', 2),\n",
       " ('aareyforest', 3),\n",
       " ('aaron', 4),\n",
       " ('aaronhuerta', 5),\n",
       " ('aaronweinschenk', 6),\n",
       " ('aayat', 7),\n",
       " ('ab', 8),\n",
       " ('abandon', 9),\n",
       " ('abat', 10),\n",
       " ('abbott', 11),\n",
       " ('abc', 12),\n",
       " ('abcashli', 13),\n",
       " ('abcaustralia', 14),\n",
       " ('abcgmw', 15),\n",
       " ('abcnew', 16),\n",
       " ('abcni', 17),\n",
       " ('abcpolit', 18),\n",
       " ('abcwtvd', 19)]"
      ]
     },
     "execution_count": 11,
     "metadata": {},
     "output_type": "execute_result"
    }
   ],
   "source": [
    "# Most frequently occurring words in the training corpus ??\n",
    "\n",
    "[(index, word) for index, word in sorted(BOW_vectorizer.vocabulary_.items(), key=lambda item: item[1], reverse=False)][:20]"
   ]
  },
  {
   "cell_type": "markdown",
   "metadata": {},
   "source": [
    "### Bag of Words with Frequencies Representation (FBOW)"
   ]
  },
  {
   "cell_type": "code",
   "execution_count": 12,
   "metadata": {},
   "outputs": [],
   "source": [
    "# Bag of Words Representation (Frequencies; binary=False)\n",
    "\n",
    "FBOW_vectorizer = CountVectorizer(stop_words = 'english', \n",
    "                                  binary=False, # Creates Word Frequency Vector; \n",
    "                                                # # np.unique(FBOW_train.toarray())\n",
    "                                  min_df = min_df)\n",
    "FBOW_vectorizer.fit(X_train)\n",
    "FBOW_train = FBOW_vectorizer.transform(X_train)\n",
    "FBOW_test = FBOW_vectorizer.transform(X_test)"
   ]
  },
  {
   "cell_type": "code",
   "execution_count": 13,
   "metadata": {},
   "outputs": [
    {
     "name": "stdout",
     "output_type": "stream",
     "text": [
      "(array([ 0,  1,  2,  3,  4,  5,  6,  7,  8,  9, 10, 13], dtype=int64), array([187971908,    150063,      5514,       400,        48,         8,\n",
      "               6,         2,         2,         1,         1,         1],\n",
      "      dtype=int64))\n"
     ]
    }
   ],
   "source": [
    "# Word use (per tweet) frequencies\n",
    "\n",
    "print(np.unique(FBOW_train.toarray(), return_counts=True))\n",
    "\n",
    "# Feature_Index: Word Mapping\n",
    "\n",
    "# {v: k for k, v in FBOW_vectorizer.vocabulary_.items()}"
   ]
  },
  {
   "cell_type": "markdown",
   "metadata": {},
   "source": [
    "### Term Frequency–Inverse Document Frequency Representation (tf-idf)"
   ]
  },
  {
   "cell_type": "code",
   "execution_count": 14,
   "metadata": {},
   "outputs": [],
   "source": [
    "tfidf_vectorizer = TfidfVectorizer(stop_words='english', \n",
    "                                   min_df=min_df) # used for now for consistency\n",
    "tfidf_vectorizer.fit(X_train)\n",
    "tfidf_train = tfidf_vectorizer.transform(X_train)\n",
    "tfidf_test = tfidf_vectorizer.transform(X_test)"
   ]
  },
  {
   "cell_type": "markdown",
   "metadata": {},
   "source": [
    "### Word2Vec - Continuous-Bag-of-Words"
   ]
  },
  {
   "cell_type": "code",
   "execution_count": 15,
   "metadata": {},
   "outputs": [],
   "source": [
    "#import gensim.downloader as api\n",
    "#wv = api.load('word2vec-google-news-300')"
   ]
  },
  {
   "cell_type": "markdown",
   "metadata": {},
   "source": [
    "## Classification"
   ]
  },
  {
   "cell_type": "code",
   "execution_count": 16,
   "metadata": {},
   "outputs": [],
   "source": [
    "kfcv = KFold(n_splits=5,shuffle=True,random_state=101)"
   ]
  },
  {
   "cell_type": "markdown",
   "metadata": {},
   "source": [
    "### Naive bayes Gaussian"
   ]
  },
  {
   "cell_type": "code",
   "execution_count": 17,
   "metadata": {},
   "outputs": [],
   "source": [
    "clf = GaussianNB()\n",
    "\n",
    "var_smoothing = [pow(10,k)/1000000000 for k in range(10)]\n",
    "\n",
    "param_grid = {\n",
    "           'var_smoothing': var_smoothing\n",
    "        }"
   ]
  },
  {
   "cell_type": "markdown",
   "metadata": {},
   "source": [
    "### Grid Search : BOW no Scale"
   ]
  },
  {
   "cell_type": "code",
   "execution_count": 18,
   "metadata": {},
   "outputs": [
    {
     "name": "stdout",
     "output_type": "stream",
     "text": [
      "Fitting 5 folds for each of 10 candidates, totalling 50 fits\n"
     ]
    },
    {
     "name": "stderr",
     "output_type": "stream",
     "text": [
      "[Parallel(n_jobs=-1)]: Using backend LokyBackend with 8 concurrent workers.\n",
      "[Parallel(n_jobs=-1)]: Done  25 tasks      | elapsed: 11.0min\n",
      "[Parallel(n_jobs=-1)]: Done  50 out of  50 | elapsed: 15.3min finished\n"
     ]
    },
    {
     "name": "stdout",
     "output_type": "stream",
     "text": [
      "{'var_smoothing': 0.001}\n"
     ]
    }
   ],
   "source": [
    "clf = GaussianNB()\n",
    "grid_search = GridSearchCV(estimator = clf, param_grid = param_grid, \n",
    "                           cv=kfcv,n_jobs = -1, verbose =2, scoring='accuracy')\n",
    "\n",
    "grid_search.fit(BOW_train.toarray(),Y_train)\n",
    "\n",
    "print(grid_search.best_params_)\n",
    "\n",
    "best_var_smoothing = grid_search.best_params_['var_smoothing']"
   ]
  },
  {
   "cell_type": "code",
   "execution_count": 19,
   "metadata": {},
   "outputs": [
    {
     "name": "stdout",
     "output_type": "stream",
     "text": [
      "BOW Gaussian naives bayes (No Scale) Training Mean Accuracy: 0.938\n",
      "BOW Gaussian naives bayes (No Scale) Test Mean Accuracy: 0.873\n",
      "BOW Gaussian naives bayes (No Scale) Training (1 - Brier Score): 0.938\n",
      "BOW Gaussian naives bayes (No Scale) Test (1 - Brier Score): 0.874\n"
     ]
    },
    {
     "data": {
      "image/png": "[encoded data removed]",
      "text/plain": [
       "<Figure size 432x288 with 1 Axes>"
      ]
     },
     "metadata": {
      "needs_background": "light"
     },
     "output_type": "display_data"
    }
   ],
   "source": [
    "clf = GaussianNB(var_smoothing = best_var_smoothing).fit(BOW_train.toarray(),Y_train)\n",
    "\n",
    "BOW_GaussianNM_noscale_accuracy_train = clf.score(BOW_train.toarray(), Y_train)\n",
    "BOW_GaussianNM_noscale_accuracy_test = clf.score(BOW_test.toarray(), Y_test)\n",
    "\n",
    "print(f\"BOW Gaussian naives bayes (No Scale) Training Mean Accuracy: {np.round(BOW_GaussianNM_noscale_accuracy_train, 3)}\")\n",
    "print(f\"BOW Gaussian naives bayes (No Scale) Test Mean Accuracy: {np.round(BOW_GaussianNM_noscale_accuracy_test, 3)}\")\n",
    "\n",
    "# Probabilities of Positive Class: Probability of Being a \"Denier\"\n",
    "\n",
    "proba_train = clf.predict_proba(BOW_train.toarray())[:, 1]\n",
    "proba_test = clf.predict_proba(BOW_test.toarray())[:, 1]\n",
    "\n",
    "# Brier Scores\n",
    "\n",
    "BOW_GaussianNM_noscale_brier_train = brier_score_loss(Y_train, proba_train)\n",
    "BOW_GaussianNM_noscale_brier_test = brier_score_loss(Y_test, proba_test)\n",
    "\n",
    "print(f\"BOW Gaussian naives bayes (No Scale) Training (1 - Brier Score): {1 - round(BOW_GaussianNM_noscale_brier_train, 3)}\")\n",
    "print(f\"BOW Gaussian naives bayes (No Scale) Test (1 - Brier Score): {1 - round(BOW_GaussianNM_noscale_brier_test, 3)}\")\n",
    "\n",
    "# ROC Curves\n",
    "\n",
    "roc_train = roc_curve(y_true=Y_train, y_score=proba_train)\n",
    "\n",
    "tpr_train = roc_train[0]\n",
    "fpr_train = roc_train[1]\n",
    "thresh_train = roc_train[2]\n",
    "plt.plot(tpr_train, fpr_train);\n",
    "\n",
    "# print(thresh_train)\n",
    "\n",
    "roc_test = roc_curve(y_true=Y_test, y_score=proba_test)\n",
    "\n",
    "tpr_test = roc_test[0]\n",
    "fpr_test = roc_test[1]\n",
    "thresh_test = roc_test[2]\n",
    "plt.plot(tpr_test, fpr_test); \n",
    "\n",
    "# print(thresh_test)"
   ]
  },
  {
   "cell_type": "markdown",
   "metadata": {},
   "source": [
    "### Grid Search : FBOW no Scale"
   ]
  },
  {
   "cell_type": "code",
   "execution_count": 20,
   "metadata": {},
   "outputs": [
    {
     "name": "stdout",
     "output_type": "stream",
     "text": [
      "Fitting 5 folds for each of 10 candidates, totalling 50 fits\n"
     ]
    },
    {
     "name": "stderr",
     "output_type": "stream",
     "text": [
      "[Parallel(n_jobs=-1)]: Using backend LokyBackend with 8 concurrent workers.\n",
      "[Parallel(n_jobs=-1)]: Done  25 tasks      | elapsed:  8.5min\n",
      "[Parallel(n_jobs=-1)]: Done  50 out of  50 | elapsed: 14.7min finished\n"
     ]
    },
    {
     "name": "stdout",
     "output_type": "stream",
     "text": [
      "{'var_smoothing': 0.001}\n"
     ]
    }
   ],
   "source": [
    "clf = GaussianNB()\n",
    "grid_search = GridSearchCV(estimator = clf, param_grid = param_grid, \n",
    "                           cv=kfcv,n_jobs = -1, verbose =2, scoring='accuracy')\n",
    "\n",
    "\n",
    "grid_search.fit(FBOW_train.toarray(),Y_train)\n",
    "print(grid_search.best_params_)\n",
    "best_var_smoothing = grid_search.best_params_['var_smoothing']"
   ]
  },
  {
   "cell_type": "code",
   "execution_count": 21,
   "metadata": {},
   "outputs": [
    {
     "name": "stdout",
     "output_type": "stream",
     "text": [
      "FBOW Gaussian naives bayes (No Scale) Training Mean Accuracy: 0.929\n",
      "FBOW Gaussian naives bayes (No Scale) Test Mean Accuracy: 0.868\n",
      "FBOW Gaussian naives bayes (No Scale) Training (1 - Brier Score): 0.929\n",
      "FBOW Gaussian naives bayes (No Scale) Test (1 - Brier Score): 0.868\n"
     ]
    },
    {
     "data": {
      "image/png": "[encoded data removed]",
      "text/plain": [
       "<Figure size 432x288 with 1 Axes>"
      ]
     },
     "metadata": {
      "needs_background": "light"
     },
     "output_type": "display_data"
    }
   ],
   "source": [
    "clf = GaussianNB(var_smoothing = best_var_smoothing).fit(FBOW_train.toarray(),Y_train)\n",
    "\n",
    "FBOW_GaussianNM_noscale_accuracy_train = clf.score(FBOW_train.toarray(), Y_train)\n",
    "FBOW_GaussianNM_noscale_accuracy_test = clf.score(FBOW_test.toarray(), Y_test)\n",
    "\n",
    "print(f\"FBOW Gaussian naives bayes (No Scale) Training Mean Accuracy: {np.round(FBOW_GaussianNM_noscale_accuracy_train, 3)}\")\n",
    "print(f\"FBOW Gaussian naives bayes (No Scale) Test Mean Accuracy: {np.round(FBOW_GaussianNM_noscale_accuracy_test, 3)}\")\n",
    "\n",
    "# Probabilities of Positive Class: Probability of Being a \"Denier\"\n",
    "\n",
    "proba_train = clf.predict_proba(FBOW_train.toarray())[:, 1]\n",
    "proba_test = clf.predict_proba(FBOW_test.toarray())[:, 1]\n",
    "\n",
    "# Brier Scores\n",
    "\n",
    "FBOW_GaussianNM_noscale_brier_train = brier_score_loss(Y_train, proba_train)\n",
    "FBOW_GaussianNM_noscale_brier_test = brier_score_loss(Y_test, proba_test)\n",
    "\n",
    "print(f\"FBOW Gaussian naives bayes (No Scale) Training (1 - Brier Score): {1 - round(FBOW_GaussianNM_noscale_brier_train, 3)}\")\n",
    "print(f\"FBOW Gaussian naives bayes (No Scale) Test (1 - Brier Score): {1 - round(FBOW_GaussianNM_noscale_brier_test, 3)}\")\n",
    "\n",
    "# ROC Curves\n",
    "\n",
    "roc_train = roc_curve(y_true=Y_train, y_score=proba_train)\n",
    "\n",
    "tpr_train = roc_train[0]\n",
    "fpr_train = roc_train[1]\n",
    "thresh_train = roc_train[2]\n",
    "plt.plot(tpr_train, fpr_train);\n",
    "\n",
    "# print(thresh_train)\n",
    "\n",
    "roc_test = roc_curve(y_true=Y_test, y_score=proba_test)\n",
    "\n",
    "tpr_test = roc_test[0]\n",
    "fpr_test = roc_test[1]\n",
    "thresh_test = roc_test[2]\n",
    "plt.plot(tpr_test, fpr_test); \n",
    "\n",
    "# print(thresh_test)"
   ]
  },
  {
   "cell_type": "markdown",
   "metadata": {},
   "source": [
    "### Grid Search : FBOW Scaled"
   ]
  },
  {
   "cell_type": "code",
   "execution_count": 22,
   "metadata": {},
   "outputs": [],
   "source": [
    "scaler = MaxAbsScaler()\n",
    "FBOW_train = scaler.fit_transform(FBOW_train)\n",
    "FBOW_test = scaler.transform(FBOW_test)"
   ]
  },
  {
   "cell_type": "code",
   "execution_count": 23,
   "metadata": {},
   "outputs": [
    {
     "name": "stdout",
     "output_type": "stream",
     "text": [
      "Fitting 5 folds for each of 10 candidates, totalling 50 fits\n"
     ]
    },
    {
     "name": "stderr",
     "output_type": "stream",
     "text": [
      "[Parallel(n_jobs=-1)]: Using backend LokyBackend with 8 concurrent workers.\n",
      "[Parallel(n_jobs=-1)]: Done  25 tasks      | elapsed:  8.1min\n",
      "[Parallel(n_jobs=-1)]: Done  50 out of  50 | elapsed: 14.4min finished\n"
     ]
    },
    {
     "name": "stdout",
     "output_type": "stream",
     "text": [
      "{'var_smoothing': 0.001}\n"
     ]
    }
   ],
   "source": [
    "clf = GaussianNB()\n",
    "grid_search = GridSearchCV(estimator = clf, param_grid = param_grid, \n",
    "                           cv=kfcv,n_jobs = -1, verbose =2, scoring='accuracy')\n",
    "\n",
    "\n",
    "grid_search.fit(FBOW_train.toarray(),Y_train)\n",
    "print(grid_search.best_params_)\n",
    "best_var_smoothing = grid_search.best_params_['var_smoothing']"
   ]
  },
  {
   "cell_type": "code",
   "execution_count": 24,
   "metadata": {},
   "outputs": [
    {
     "name": "stdout",
     "output_type": "stream",
     "text": [
      "FBOW Gaussian naives bayes (Scale) Training Mean Accuracy: 0.935\n",
      "FBOW Gaussian naives bayes (Scale) Test Mean Accuracy: 0.85\n",
      "FBOW Gaussian naives bayes (Scale) Training (1 - Brier Score): 0.935\n",
      "FBOW Gaussian naives bayes (Scale) Test (1 - Brier Score): 0.85\n"
     ]
    },
    {
     "data": {
      "image/png": "[encoded data removed]",
      "text/plain": [
       "<Figure size 432x288 with 1 Axes>"
      ]
     },
     "metadata": {
      "needs_background": "light"
     },
     "output_type": "display_data"
    }
   ],
   "source": [
    "clf = GaussianNB(var_smoothing = best_var_smoothing).fit(FBOW_train.toarray(),Y_train)\n",
    "\n",
    "FBOW_GaussianNM_scale_accuracy_train = clf.score(FBOW_train.toarray(), Y_train)\n",
    "FBOW_GaussianNM_scale_accuracy_test = clf.score(FBOW_test.toarray(), Y_test)\n",
    "\n",
    "print(f\"FBOW Gaussian naives bayes (Scale) Training Mean Accuracy: {np.round(FBOW_GaussianNM_scale_accuracy_train, 3)}\")\n",
    "print(f\"FBOW Gaussian naives bayes (Scale) Test Mean Accuracy: {np.round(FBOW_GaussianNM_scale_accuracy_test, 3)}\")\n",
    "\n",
    "# Probabilities of Positive Class: Probability of Being a \"Denier\"\n",
    "\n",
    "proba_train = clf.predict_proba(FBOW_train.toarray())[:, 1]\n",
    "proba_test = clf.predict_proba(FBOW_test.toarray())[:, 1]\n",
    "\n",
    "# Brier Scores\n",
    "\n",
    "FBOW_GaussianNM_scale_brier_train = brier_score_loss(Y_train, proba_train)\n",
    "FBOW_GaussianNM_scale_brier_test = brier_score_loss(Y_test, proba_test)\n",
    "\n",
    "print(f\"FBOW Gaussian naives bayes (Scale) Training (1 - Brier Score): {1 - round(FBOW_GaussianNM_scale_brier_train, 3)}\")\n",
    "print(f\"FBOW Gaussian naives bayes (Scale) Test (1 - Brier Score): {1 - round(FBOW_GaussianNM_scale_brier_test, 3)}\")\n",
    "\n",
    "# ROC Curves\n",
    "\n",
    "roc_train = roc_curve(y_true=Y_train, y_score=proba_train)\n",
    "\n",
    "tpr_train = roc_train[0]\n",
    "fpr_train = roc_train[1]\n",
    "thresh_train = roc_train[2]\n",
    "plt.plot(tpr_train, fpr_train);\n",
    "\n",
    "# print(thresh_train)\n",
    "\n",
    "roc_test = roc_curve(y_true=Y_test, y_score=proba_test)\n",
    "\n",
    "tpr_test = roc_test[0]\n",
    "fpr_test = roc_test[1]\n",
    "thresh_test = roc_test[2]\n",
    "plt.plot(tpr_test, fpr_test); \n",
    "\n",
    "# print(thresh_test)"
   ]
  },
  {
   "cell_type": "markdown",
   "metadata": {},
   "source": [
    "### GridSearch : TF_IDF No Scale"
   ]
  },
  {
   "cell_type": "code",
   "execution_count": 25,
   "metadata": {},
   "outputs": [
    {
     "name": "stdout",
     "output_type": "stream",
     "text": [
      "Fitting 5 folds for each of 10 candidates, totalling 50 fits\n"
     ]
    },
    {
     "name": "stderr",
     "output_type": "stream",
     "text": [
      "[Parallel(n_jobs=-1)]: Using backend LokyBackend with 8 concurrent workers.\n",
      "[Parallel(n_jobs=-1)]: Done  25 tasks      | elapsed:  8.6min\n",
      "[Parallel(n_jobs=-1)]: Done  50 out of  50 | elapsed: 13.7min finished\n"
     ]
    },
    {
     "name": "stdout",
     "output_type": "stream",
     "text": [
      "{'var_smoothing': 0.01}\n"
     ]
    }
   ],
   "source": [
    "clf = GaussianNB()\n",
    "grid_search = GridSearchCV(estimator = clf, param_grid = param_grid, \n",
    "                           cv=kfcv,n_jobs = -1, verbose =2, scoring='accuracy')\n",
    "\n",
    "\n",
    "\n",
    "grid_search.fit(tfidf_train.toarray(),Y_train)\n",
    "print(grid_search.best_params_)\n",
    "best_var_smoothing = grid_search.best_params_['var_smoothing']"
   ]
  },
  {
   "cell_type": "code",
   "execution_count": 26,
   "metadata": {},
   "outputs": [
    {
     "name": "stdout",
     "output_type": "stream",
     "text": [
      "TFIDF Gaussian naives bayes (No Scale) Training Mean Accuracy: 0.959\n",
      "TFIDF Gaussian naives bayes (No Scale) Test Mean Accuracy: 0.892\n",
      "TFIDF Gaussian naives bayes (No Scale) Training (1 - Brier Score): 0.959\n",
      "TFIDF Gaussian naives bayes (No Scale) Test (1 - Brier Score): 0.892\n"
     ]
    },
    {
     "data": {
      "image/png": "[encoded data removed]",
      "text/plain": [
       "<Figure size 432x288 with 1 Axes>"
      ]
     },
     "metadata": {
      "needs_background": "light"
     },
     "output_type": "display_data"
    }
   ],
   "source": [
    "clf = GaussianNB(var_smoothing = best_var_smoothing).fit(tfidf_train.toarray(),Y_train)\n",
    "\n",
    "TFIDF_GaussianNM_noscale_accuracy_train = clf.score(tfidf_train.toarray(), Y_train)\n",
    "TFIDF_GaussianNM_noscale_accuracy_test = clf.score(tfidf_test.toarray(), Y_test)\n",
    "\n",
    "print(f\"TFIDF Gaussian naives bayes (No Scale) Training Mean Accuracy: {np.round(TFIDF_GaussianNM_noscale_accuracy_train, 3)}\")\n",
    "print(f\"TFIDF Gaussian naives bayes (No Scale) Test Mean Accuracy: {np.round(TFIDF_GaussianNM_noscale_accuracy_test, 3)}\")\n",
    "\n",
    "# Probabilities of Positive Class: Probability of Being a \"Denier\"\n",
    "\n",
    "proba_train = clf.predict_proba(tfidf_train.toarray())[:, 1]\n",
    "proba_test = clf.predict_proba(tfidf_test.toarray())[:, 1]\n",
    "\n",
    "# Brier Scores\n",
    "\n",
    "TFIDF_GaussianNM_noscale_brier_train = brier_score_loss(Y_train, proba_train)\n",
    "TFIDF_GaussianNM_noscale_brier_test = brier_score_loss(Y_test, proba_test)\n",
    "\n",
    "print(f\"TFIDF Gaussian naives bayes (No Scale) Training (1 - Brier Score): {1 - round(TFIDF_GaussianNM_noscale_brier_train, 3)}\")\n",
    "print(f\"TFIDF Gaussian naives bayes (No Scale) Test (1 - Brier Score): {1 - round(TFIDF_GaussianNM_noscale_brier_test, 3)}\")\n",
    "\n",
    "# ROC Curves\n",
    "\n",
    "roc_train = roc_curve(y_true=Y_train, y_score=proba_train)\n",
    "\n",
    "tpr_train = roc_train[0]\n",
    "fpr_train = roc_train[1]\n",
    "thresh_train = roc_train[2]\n",
    "plt.plot(tpr_train, fpr_train);\n",
    "\n",
    "# print(thresh_train)\n",
    "\n",
    "roc_test = roc_curve(y_true=Y_test, y_score=proba_test)\n",
    "\n",
    "tpr_test = roc_test[0]\n",
    "fpr_test = roc_test[1]\n",
    "thresh_test = roc_test[2]\n",
    "plt.plot(tpr_test, fpr_test); \n",
    "\n",
    "# print(thresh_test)"
   ]
  },
  {
   "cell_type": "markdown",
   "metadata": {},
   "source": [
    "### TF_IDF Scaled"
   ]
  },
  {
   "cell_type": "code",
   "execution_count": 27,
   "metadata": {},
   "outputs": [],
   "source": [
    "scaler = MaxAbsScaler()\n",
    "tfidf_train = scaler.fit_transform(tfidf_train)\n",
    "tfidf_test = scaler.transform(tfidf_test)"
   ]
  },
  {
   "cell_type": "code",
   "execution_count": 28,
   "metadata": {},
   "outputs": [
    {
     "name": "stdout",
     "output_type": "stream",
     "text": [
      "Fitting 5 folds for each of 10 candidates, totalling 50 fits\n"
     ]
    },
    {
     "name": "stderr",
     "output_type": "stream",
     "text": [
      "[Parallel(n_jobs=-1)]: Using backend LokyBackend with 8 concurrent workers.\n",
      "[Parallel(n_jobs=-1)]: Done  25 tasks      | elapsed:  8.6min\n",
      "[Parallel(n_jobs=-1)]: Done  50 out of  50 | elapsed: 13.8min finished\n"
     ]
    },
    {
     "name": "stdout",
     "output_type": "stream",
     "text": [
      "{'var_smoothing': 0.01}\n"
     ]
    }
   ],
   "source": [
    "clf = GaussianNB()\n",
    "grid_search = GridSearchCV(estimator = clf, param_grid = param_grid, \n",
    "                           cv=kfcv,n_jobs = -1, verbose =2, scoring='accuracy')\n",
    "\n",
    "\n",
    "\n",
    "grid_search.fit(tfidf_train.toarray(),Y_train)\n",
    "print(grid_search.best_params_)\n",
    "best_var_smoothing = grid_search.best_params_['var_smoothing']"
   ]
  },
  {
   "cell_type": "code",
   "execution_count": 29,
   "metadata": {},
   "outputs": [
    {
     "name": "stdout",
     "output_type": "stream",
     "text": [
      "TFIDF Gaussian naives bayes (No Scale) Training Mean Accuracy: 0.949\n",
      "TFIDF Gaussian naives bayes (No Scale) Test Mean Accuracy: 0.849\n",
      "TFIDF Gaussian naives bayes (No Scale) Training (1 - Brier Score): 0.949\n",
      "TFIDF Gaussian naives bayes (No Scale) Test (1 - Brier Score): 0.85\n"
     ]
    },
    {
     "data": {
      "image/png": "[encoded data removed]",
      "text/plain": [
       "<Figure size 432x288 with 1 Axes>"
      ]
     },
     "metadata": {
      "needs_background": "light"
     },
     "output_type": "display_data"
    }
   ],
   "source": [
    "clf = GaussianNB(var_smoothing = best_var_smoothing).fit(tfidf_train.toarray(),Y_train)\n",
    "\n",
    "TFIDF_GaussianNM_scale_accuracy_train = clf.score(tfidf_train.toarray(), Y_train)\n",
    "TFIDF_GaussianNM_scale_accuracy_test = clf.score(tfidf_test.toarray(), Y_test)\n",
    "\n",
    "print(f\"TFIDF Gaussian naives bayes (Scale) Training Mean Accuracy: {np.round(TFIDF_GaussianNM_scale_accuracy_train, 3)}\")\n",
    "print(f\"TFIDF Gaussian naives bayes (Scale) Test Mean Accuracy: {np.round(TFIDF_GaussianNM_scale_accuracy_test, 3)}\")\n",
    "\n",
    "# Probabilities of Positive Class: Probability of Being a \"Denier\"\n",
    "\n",
    "proba_train = clf.predict_proba(tfidf_train.toarray())[:, 1]\n",
    "proba_test = clf.predict_proba(tfidf_test.toarray())[:, 1]\n",
    "\n",
    "# Brier Scores\n",
    "\n",
    "TFIDF_GaussianNM_scale_brier_train = brier_score_loss(Y_train, proba_train)\n",
    "TFIDF_GaussianNM_scale_brier_test = brier_score_loss(Y_test, proba_test)\n",
    "\n",
    "print(f\"TFIDF Gaussian naives bayes (Scale) Training (1 - Brier Score): {1 - round(TFIDF_GaussianNM_scale_brier_train, 3)}\")\n",
    "print(f\"TFIDF Gaussian naives bayes (Scale) Test (1 - Brier Score): {1 - round(TFIDF_GaussianNM_scale_brier_test, 3)}\")\n",
    "\n",
    "# ROC Curves\n",
    "\n",
    "roc_train = roc_curve(y_true=Y_train, y_score=proba_train)\n",
    "\n",
    "tpr_train = roc_train[0]\n",
    "fpr_train = roc_train[1]\n",
    "thresh_train = roc_train[2]\n",
    "plt.plot(tpr_train, fpr_train);\n",
    "\n",
    "# print(thresh_train)\n",
    "\n",
    "roc_test = roc_curve(y_true=Y_test, y_score=proba_test)\n",
    "\n",
    "tpr_test = roc_test[0]\n",
    "fpr_test = roc_test[1]\n",
    "thresh_test = roc_test[2]\n",
    "plt.plot(tpr_test, fpr_test); \n",
    "\n",
    "# print(thresh_test)"
   ]
  },
  {
   "cell_type": "markdown",
   "metadata": {},
   "source": [
    "### ROC curve to compare our models' accuracy"
   ]
  },
  {
   "cell_type": "markdown",
   "metadata": {},
   "source": [
    "lin_roc_auc = roc_auc_score(Y_test, model_SVM_l1.predict(X_test))\n",
    "fpr_lin, tpr_lin, thresholds_lin = roc_curve(Y_test, model_SVM_l1.predict_proba(X_test)[:,1])\n",
    "\n",
    "g_roc_auc = roc_auc_score(Y_test, model_SVM_l1_g.predict(X_test))\n",
    "fpr_g, tpr_g, thresholds_g = roc_curve(Y_test, model_SVM_l1_g.predict_proba(X_test)[:,1])\n",
    "\n",
    "lin_roc_auc_max = roc_auc_score(Y_test, model_SVM_max.predict(X_test))\n",
    "fpr_lmax, tpr_lmax, thresholds_lmax = roc_curve(Y_test, model_SVM_max.predict_proba(X_test)[:,1])\n",
    "\n",
    "g_roc_auc_max = roc_auc_score(Y_test, model_SVM_max_g.predict(X_test))\n",
    "fpr_gmax, tpr_gmax, thresholds_gmax = roc_curve(Y_test, model_SVM_max_g.predict_proba(X_test)[:,1])"
   ]
  },
  {
   "cell_type": "markdown",
   "metadata": {},
   "source": [
    "plt.figure()\n",
    "plt.plot(fpr_lin, tpr_lin, label='Linear model (area = %0.2f)' % lin_roc_auc)\n",
    "plt.plot(fpr_g, tpr_g, label='Gaussian model (area = %0.2f)' % g_roc_auc)\n",
    "plt.plot(fpr_lmax, tpr_lmax, label='Best linear model (area = %0.2f)' % lin_roc_auc_max)\n",
    "plt.plot(fpr_gmax, tpr_gmax, label='Best gaussian model (area = %0.2f)' % g_roc_auc_max)\n",
    "plt.plot([0, 1], [0, 1],'r--')\n",
    "plt.xlim([0.0, 1.0])\n",
    "plt.ylim([0.0, 1.05])\n",
    "plt.xlabel('False Positive Rate')\n",
    "plt.ylabel('True Positive Rate')\n",
    "plt.title('Model comparaison')\n",
    "plt.legend(loc=\"lower right\")\n",
    "plt.savefig('Log_ROC')\n",
    "plt.show()"
   ]
  },
  {
   "cell_type": "markdown",
   "metadata": {},
   "source": [
    "Variations coefficients : "
   ]
  },
  {
   "cell_type": "markdown",
   "metadata": {},
   "source": [
    "score_lin = cross_val_score(model_SVM_l1, X_train, Y_train, cv = 5, scoring = 'accuracy')\n",
    "score_best_lin = cross_val_score(model_SVM_max, X_train, Y_train, cv = 5, scoring = 'accuracy')\n",
    "score_best_gauss = cross_val_score(model_SVM_max_g, X_train, Y_train, cv = 5, scoring = 'accuracy')\n",
    "score_gauss = cross_val_score(model_SVM_l1_g, X_train, Y_train, cv = 5, scoring = 'accuracy')"
   ]
  },
  {
   "cell_type": "markdown",
   "metadata": {
    "scrolled": true
   },
   "source": [
    "name = np.array(['linear model']+['best linear model']+['gaussian model']+['best gaussian model'])\n",
    "L_2 = [name,np.array([np.mean(score_lin),np.mean(score_best_lin),np.mean(score_gauss),np.mean(score_best_gauss)])]\n",
    "score_model = pd.DataFrame()\n",
    "score_model[\"\"], score_model[\"Score with 5 fold CV\"]= [L_2[0],L_2[1]]\n",
    "print(score_model)"
   ]
  }
 ],
 "metadata": {
  "kernelspec": {
   "display_name": "Python 3",
   "language": "python",
   "name": "python3"
  },
  "language_info": {
   "codemirror_mode": {
    "name": "ipython",
    "version": 3
   },
   "file_extension": ".py",
   "mimetype": "text/x-python",
   "name": "python",
   "nbconvert_exporter": "python",
   "pygments_lexer": "ipython3",
   "version": "3.7.6"
  }
 },
 "nbformat": 4,
 "nbformat_minor": 2
}
