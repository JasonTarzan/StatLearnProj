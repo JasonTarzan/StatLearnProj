{
 "cells": [
  {
   "cell_type": "markdown",
   "metadata": {},
   "source": [
    "# Simple Classifiers, FastText Pretrained\n",
    "\n",
    "## Import Modules"
   ]
  },
  {
   "cell_type": "code",
   "execution_count": 1,
   "metadata": {},
   "outputs": [
    {
     "name": "stderr",
     "output_type": "stream",
     "text": [
      "Using TensorFlow backend.\n"
     ]
    }
   ],
   "source": [
    "import pandas as pd\n",
    "import numpy as np\n",
    "\n",
    "from nltk.tokenize import word_tokenize \n",
    "import gensim \n",
    "from gensim.models import Word2Vec\n",
    "from gensim.models import KeyedVectors\n",
    "\n",
    "import keras\n",
    "\n",
    "from sklearn.model_selection import train_test_split\n",
    "\n",
    "from sklearn.naive_bayes import MultinomialNB\n",
    "from sklearn import tree\n",
    "from sklearn.neural_network import MLPClassifier\n",
    "from sklearn import svm\n",
    "\n",
    "from sklearn.decomposition import PCA\n",
    "from matplotlib import pyplot"
   ]
  },
  {
   "cell_type": "markdown",
   "metadata": {},
   "source": [
    "## Import Data"
   ]
  },
  {
   "cell_type": "code",
   "execution_count": 2,
   "metadata": {},
   "outputs": [
    {
     "data": {
      "text/plain": [
       "<function TextIOWrapper.close()>"
      ]
     },
     "execution_count": 2,
     "metadata": {},
     "output_type": "execute_result"
    }
   ],
   "source": [
    "path = '../data/'\n",
    "file = path + 'climate_change_tweets_sample-2020-05-16-17-57.csv'\n",
    "\n",
    "file_o = open(file,encoding='utf8')\n",
    "\n",
    "data = pd.read_csv(file)\n",
    "\n",
    "file_o.close"
   ]
  },
  {
   "cell_type": "markdown",
   "metadata": {},
   "source": [
    "A little bit of cleaning..."
   ]
  },
  {
   "cell_type": "code",
   "execution_count": 3,
   "metadata": {},
   "outputs": [],
   "source": [
    "data= data.query(\"username != '54'\")\n",
    "data= data.query(\"username != '318'\")\n",
    "data= data.query(\"username != '96'\")"
   ]
  },
  {
   "cell_type": "markdown",
   "metadata": {},
   "source": [
    "A little bit of shuffling..."
   ]
  },
  {
   "cell_type": "code",
   "execution_count": 4,
   "metadata": {},
   "outputs": [],
   "source": [
    "data = data.sample(frac=1)"
   ]
  },
  {
   "cell_type": "markdown",
   "metadata": {},
   "source": [
    "## Get Tweets and Labels"
   ]
  },
  {
   "cell_type": "code",
   "execution_count": 5,
   "metadata": {},
   "outputs": [],
   "source": [
    "tweets = data['text'].values\n",
    "\n",
    "labels = data['label'].values"
   ]
  },
  {
   "cell_type": "markdown",
   "metadata": {},
   "source": [
    "Train and Test set :"
   ]
  },
  {
   "cell_type": "code",
   "execution_count": 6,
   "metadata": {},
   "outputs": [],
   "source": [
    "test_size = 0.4\n",
    "tweets_train, tweets_test, labels_train, labels_test = train_test_split(tweets,labels,test_size=test_size)"
   ]
  },
  {
   "cell_type": "markdown",
   "metadata": {},
   "source": [
    "## Transform tweets with pretrained model"
   ]
  },
  {
   "cell_type": "markdown",
   "metadata": {},
   "source": [
    "### Define the tokenizer and define the model pretrained"
   ]
  },
  {
   "cell_type": "code",
   "execution_count": 7,
   "metadata": {},
   "outputs": [],
   "source": [
    "model = 'wiki-news-300d-1M.vec'\n",
    "\n",
    "model_ft = KeyedVectors.load_word2vec_format(model, binary=False)"
   ]
  },
  {
   "cell_type": "code",
   "execution_count": 8,
   "metadata": {},
   "outputs": [
    {
     "name": "stdout",
     "output_type": "stream",
     "text": [
      "(2, 300)\n"
     ]
    }
   ],
   "source": [
    "sentence = model_ft['hello','animal']\n",
    "print(sentence.shape)"
   ]
  },
  {
   "cell_type": "code",
   "execution_count": 9,
   "metadata": {},
   "outputs": [],
   "source": [
    "def remove_not_in_voc(list):\n",
    "    aux=[]\n",
    "    for e in list:\n",
    "        if e in model_ft.vocab:\n",
    "            aux.append(e)\n",
    "    return aux"
   ]
  },
  {
   "cell_type": "code",
   "execution_count": 10,
   "metadata": {},
   "outputs": [],
   "source": [
    "#word_dim = 10\n",
    "\n",
    "tokens = []\n",
    "label_tok = []\n",
    "test_size=0.4\n",
    "\n",
    "for i in range(len(tweets)):\n",
    "    t = tweets[i]\n",
    "    t = t.replace(\"@\",\" \")\n",
    "    t = t.replace(\"?\",\" \")\n",
    "    t = t.replace(\"!\",\" \")\n",
    "    t = t.replace(\":\",\" \")\n",
    "    t = t.replace(\"/\",\" \")\n",
    "    t = t.replace(\".\",\" \")\n",
    "    t = t.replace(\";\",\" \")\n",
    "    t = t.replace(\"'\",\" \")\n",
    "    t = t.replace('\"',\" \")\n",
    "    t = t.replace(\"#\",\" \")\n",
    "    t = t.replace(\"http\",\" \")\n",
    "    t = t.replace(\"-\",\" \")\n",
    "    t = t.replace(\"0\",\" \")\n",
    "    t = t.replace(\"1\",\" \")\n",
    "    t = t.replace(\"2\",\" \")\n",
    "    t = t.replace(\"3\",\" \")\n",
    "    t = t.replace(\"4\",\" \")\n",
    "    t = t.replace(\"5\",\" \")\n",
    "    t = t.replace(\"6\",\" \")\n",
    "    t = t.replace(\"7\",\" \")\n",
    "    t = t.replace(\"8\",\" \")\n",
    "    t = t.replace(\"9\",\" \")\n",
    "    t = t.replace(\"www\",\" \")\n",
    "    t = t.replace(\"…\",\" \")\n",
    "    t = t.replace(\"=\",\" \")\n",
    "    t = t.replace(\"_\",\" \")\n",
    "    t = t.replace(\"—\",\" \")\n",
    "    t = t.replace(\"twitter\",\" \")\n",
    "    t = t.replace(\"$\",\" \")\n",
    "    t = t.replace(\"€\",\" \")\n",
    "    t = word_tokenize(t)\n",
    "    t = remove_not_in_voc(t)\n",
    "    if len(t)!=0:\n",
    "        tokens.append(t)\n",
    "        label_tok.append(labels[i])\n",
    "\n",
    "tok_train, tok_test, labels_train, labels_test = train_test_split(tokens,label_tok,test_size=test_size)"
   ]
  },
  {
   "cell_type": "markdown",
   "metadata": {},
   "source": [
    "### Graphic representation of words"
   ]
  },
  {
   "cell_type": "code",
   "execution_count": 20,
   "metadata": {},
   "outputs": [
    {
     "data": {
      "image/png": "[encoded data removed]",
      "text/plain": [
       "<Figure size 432x288 with 1 Axes>"
      ]
     },
     "metadata": {
      "needs_background": "light"
     },
     "output_type": "display_data"
    }
   ],
   "source": [
    "X = model_ft[model_ft.vocab]\n",
    "pca = PCA(n_components=2)\n",
    "pca_results = pca.fit_transform(X)\n",
    "\n",
    "pyplot.scatter(pca_results[:40, 0], pca_results[:40, 1])\n",
    "\n",
    "words = list(model_ft.vocab)\n",
    "\n",
    "for i, word in enumerate(words[:40]):\n",
    "    pyplot.annotate(word[:], xy=(pca_results[i, 0], pca_results[i, 1]))\n",
    "pyplot.show()"
   ]
  },
  {
   "cell_type": "markdown",
   "metadata": {},
   "source": [
    "### Embed the tweets"
   ]
  },
  {
   "cell_type": "code",
   "execution_count": 12,
   "metadata": {},
   "outputs": [],
   "source": [
    "train_embed = []\n",
    "for i in range(len(tok_train)):\n",
    "    train_embed.append(model_ft[tok_train[i]])\n",
    "\n",
    "test_embed = []\n",
    "for i in range(len(tok_test)):\n",
    "    test_embed.append(model_ft[tok_test[i]])\n",
    "\n",
    "max_words_in_tweets = 20\n",
    "\n",
    "train_embed = keras.preprocessing.sequence.pad_sequences(train_embed, maxlen = max_words_in_tweets,padding='post')\n",
    "test_embed = keras.preprocessing.sequence.pad_sequences(test_embed, maxlen = max_words_in_tweets,padding='post')"
   ]
  },
  {
   "cell_type": "code",
   "execution_count": 13,
   "metadata": {},
   "outputs": [
    {
     "name": "stdout",
     "output_type": "stream",
     "text": [
      "(10803, 6000)\n",
      "(7203, 6000)\n"
     ]
    }
   ],
   "source": [
    "train_embed = train_embed.reshape(-1,300*max_words_in_tweets)\n",
    "print(train_embed.shape)\n",
    "test_embed = test_embed.reshape(-1,300*max_words_in_tweets)\n",
    "print(test_embed.shape)"
   ]
  },
  {
   "cell_type": "markdown",
   "metadata": {},
   "source": [
    "## Classifiers\n",
    "\n",
    "### Naive Bayes Multinomial\n",
    "\n",
    "In our case, binomial."
   ]
  },
  {
   "cell_type": "markdown",
   "metadata": {},
   "source": [
    "classifier = MultinomialNB().fit(train_embed, labels_train)"
   ]
  },
  {
   "cell_type": "markdown",
   "metadata": {},
   "source": [
    "predicted = classifier.predict(test_embed)\n",
    "\n",
    "acc=0\n",
    "for i in range(len(predicted)):\n",
    "    if predicted[i]==labels_test[i]:\n",
    "        acc = acc + 1\n",
    "\n",
    "acc=acc/len(predicted)\n",
    "\n",
    "print('Accuracy on test :', round(acc,4))"
   ]
  },
  {
   "cell_type": "markdown",
   "metadata": {},
   "source": [
    "### Decision Tree Classifier"
   ]
  },
  {
   "cell_type": "code",
   "execution_count": 14,
   "metadata": {},
   "outputs": [],
   "source": [
    "classifier = tree.DecisionTreeClassifier().fit(train_embed, labels_train)"
   ]
  },
  {
   "cell_type": "code",
   "execution_count": 15,
   "metadata": {},
   "outputs": [
    {
     "name": "stdout",
     "output_type": "stream",
     "text": [
      "Accuracy on test : 0.6027\n"
     ]
    }
   ],
   "source": [
    "predicted = classifier.predict(test_embed)\n",
    "\n",
    "acc=0\n",
    "for i in range(len(predicted)):\n",
    "    if predicted[i]==labels_test[i]:\n",
    "        acc = acc + 1\n",
    "\n",
    "acc=acc/len(predicted)\n",
    "\n",
    "print('Accuracy on test :', round(acc,4))"
   ]
  },
  {
   "cell_type": "markdown",
   "metadata": {},
   "source": [
    "### Support Vector Machines"
   ]
  },
  {
   "cell_type": "code",
   "execution_count": 16,
   "metadata": {},
   "outputs": [
    {
     "name": "stdout",
     "output_type": "stream",
     "text": [
      "[LibSVM]"
     ]
    }
   ],
   "source": [
    "classifier = svm.SVC(verbose=True,cache_size=600).fit(train_embed, labels_train)"
   ]
  },
  {
   "cell_type": "code",
   "execution_count": 17,
   "metadata": {},
   "outputs": [
    {
     "name": "stdout",
     "output_type": "stream",
     "text": [
      "Accuracy on test : 0.5998\n"
     ]
    }
   ],
   "source": [
    "predicted = classifier.predict(test_embed)\n",
    "\n",
    "acc=0\n",
    "for i in range(len(predicted)):\n",
    "    if predicted[i]==labels_test[i]:\n",
    "        acc = acc + 1\n",
    "\n",
    "acc=acc/len(predicted)\n",
    "\n",
    "print('Accuracy on test :', round(acc,4))"
   ]
  },
  {
   "cell_type": "markdown",
   "metadata": {},
   "source": [
    "### Multilayer Perceptron (Simplest Neural Network)"
   ]
  },
  {
   "cell_type": "code",
   "execution_count": 18,
   "metadata": {},
   "outputs": [],
   "source": [
    "classifier = MLPClassifier().fit(train_embed, labels_train)"
   ]
  },
  {
   "cell_type": "code",
   "execution_count": 19,
   "metadata": {},
   "outputs": [
    {
     "name": "stdout",
     "output_type": "stream",
     "text": [
      "Accuracy on test : 0.6013\n"
     ]
    }
   ],
   "source": [
    "predicted = classifier.predict(test_embed)\n",
    "\n",
    "acc=0\n",
    "for i in range(len(predicted)):\n",
    "    if predicted[i]==labels_test[i]:\n",
    "        acc = acc + 1\n",
    "\n",
    "acc=acc/len(predicted)\n",
    "\n",
    "print('Accuracy on test :', round(acc,4))"
   ]
  },
  {
   "cell_type": "code",
   "execution_count": null,
   "metadata": {},
   "outputs": [],
   "source": []
  }
 ],
 "metadata": {
  "kernelspec": {
   "display_name": "Python 3",
   "language": "python",
   "name": "python3"
  },
  "language_info": {
   "codemirror_mode": {
    "name": "ipython",
    "version": 3
   },
   "file_extension": ".py",
   "mimetype": "text/x-python",
   "name": "python",
   "nbconvert_exporter": "python",
   "pygments_lexer": "ipython3",
   "version": "3.7.6"
  }
 },
 "nbformat": 4,
 "nbformat_minor": 4
}
