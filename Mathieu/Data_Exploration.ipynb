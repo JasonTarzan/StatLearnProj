{
 "cells": [
  {
   "cell_type": "markdown",
   "metadata": {},
   "source": [
    "# Data Exploration"
   ]
  },
  {
   "cell_type": "markdown",
   "metadata": {},
   "source": [
    "## Import modules"
   ]
  },
  {
   "cell_type": "code",
   "execution_count": 1,
   "metadata": {},
   "outputs": [],
   "source": [
    "import pandas as pd\n",
    "import matplotlib.pyplot as plt"
   ]
  },
  {
   "cell_type": "markdown",
   "metadata": {},
   "source": [
    "## Import data"
   ]
  },
  {
   "cell_type": "code",
   "execution_count": 4,
   "metadata": {},
   "outputs": [
    {
     "data": {
      "text/plain": [
       "<function TextIOWrapper.close()>"
      ]
     },
     "execution_count": 4,
     "metadata": {},
     "output_type": "execute_result"
    }
   ],
   "source": [
    "path = '../data/'\n",
    "file = path + 'climate_change_tweets_sample-2020-05-16-17-57.csv'\n",
    "\n",
    "file_o = open(file,encoding='utf8')\n",
    "data = pd.read_csv(file)\n",
    "file_o.close"
   ]
  },
  {
   "cell_type": "markdown",
   "metadata": {},
   "source": [
    "## Exploration"
   ]
  },
  {
   "cell_type": "markdown",
   "metadata": {},
   "source": [
    "### Head / Columns"
   ]
  },
  {
   "cell_type": "code",
   "execution_count": 7,
   "metadata": {},
   "outputs": [
    {
     "data": {
      "text/html": [
       "<div>\n",
       "<style scoped>\n",
       "    .dataframe tbody tr th:only-of-type {\n",
       "        vertical-align: middle;\n",
       "    }\n",
       "\n",
       "    .dataframe tbody tr th {\n",
       "        vertical-align: top;\n",
       "    }\n",
       "\n",
       "    .dataframe thead th {\n",
       "        text-align: right;\n",
       "    }\n",
       "</style>\n",
       "<table border=\"1\" class=\"dataframe\">\n",
       "  <thead>\n",
       "    <tr style=\"text-align: right;\">\n",
       "      <th></th>\n",
       "      <th>username</th>\n",
       "      <th>user_handle</th>\n",
       "      <th>date</th>\n",
       "      <th>retweets</th>\n",
       "      <th>favorites</th>\n",
       "      <th>text</th>\n",
       "      <th>label</th>\n",
       "    </tr>\n",
       "  </thead>\n",
       "  <tbody>\n",
       "    <tr>\n",
       "      <th>0</th>\n",
       "      <td>WWF Climate &amp; Energy</td>\n",
       "      <td>climateWWF</td>\n",
       "      <td>2020-04-28</td>\n",
       "      <td>11</td>\n",
       "      <td>22</td>\n",
       "      <td>Economic recovery and national climate pledges...</td>\n",
       "      <td>0</td>\n",
       "    </tr>\n",
       "    <tr>\n",
       "      <th>1</th>\n",
       "      <td>WWF Climate &amp; Energy</td>\n",
       "      <td>climateWWF</td>\n",
       "      <td>2020-04-22</td>\n",
       "      <td>6</td>\n",
       "      <td>16</td>\n",
       "      <td>In this difficult time, it’s hard to connect w...</td>\n",
       "      <td>0</td>\n",
       "    </tr>\n",
       "    <tr>\n",
       "      <th>2</th>\n",
       "      <td>WWF Climate &amp; Energy</td>\n",
       "      <td>climateWWF</td>\n",
       "      <td>2020-04-01</td>\n",
       "      <td>43</td>\n",
       "      <td>69</td>\n",
       "      <td>The decision to postpone # COP26, is unavoidab...</td>\n",
       "      <td>0</td>\n",
       "    </tr>\n",
       "    <tr>\n",
       "      <th>3</th>\n",
       "      <td>WWF Climate &amp; Energy</td>\n",
       "      <td>climateWWF</td>\n",
       "      <td>2020-03-30</td>\n",
       "      <td>24</td>\n",
       "      <td>30</td>\n",
       "      <td>Japan - the world’s fifth largest emitter of g...</td>\n",
       "      <td>0</td>\n",
       "    </tr>\n",
       "    <tr>\n",
       "      <th>4</th>\n",
       "      <td>WWF Climate &amp; Energy</td>\n",
       "      <td>climateWWF</td>\n",
       "      <td>2020-03-30</td>\n",
       "      <td>22</td>\n",
       "      <td>40</td>\n",
       "      <td>How can countries include # NatureBasedSolutio...</td>\n",
       "      <td>0</td>\n",
       "    </tr>\n",
       "  </tbody>\n",
       "</table>\n",
       "</div>"
      ],
      "text/plain": [
       "               username user_handle        date retweets favorites  \\\n",
       "0  WWF Climate & Energy  climateWWF  2020-04-28       11        22   \n",
       "1  WWF Climate & Energy  climateWWF  2020-04-22        6        16   \n",
       "2  WWF Climate & Energy  climateWWF  2020-04-01       43        69   \n",
       "3  WWF Climate & Energy  climateWWF  2020-03-30       24        30   \n",
       "4  WWF Climate & Energy  climateWWF  2020-03-30       22        40   \n",
       "\n",
       "                                                text  label  \n",
       "0  Economic recovery and national climate pledges...      0  \n",
       "1  In this difficult time, it’s hard to connect w...      0  \n",
       "2  The decision to postpone # COP26, is unavoidab...      0  \n",
       "3  Japan - the world’s fifth largest emitter of g...      0  \n",
       "4  How can countries include # NatureBasedSolutio...      0  "
      ]
     },
     "execution_count": 7,
     "metadata": {},
     "output_type": "execute_result"
    }
   ],
   "source": [
    "data.head()"
   ]
  },
  {
   "cell_type": "markdown",
   "metadata": {},
   "source": [
    "### Columns"
   ]
  },
  {
   "cell_type": "markdown",
   "metadata": {},
   "source": [
    "#### Username :"
   ]
  },
  {
   "cell_type": "code",
   "execution_count": 8,
   "metadata": {},
   "outputs": [
    {
     "name": "stdout",
     "output_type": "stream",
     "text": [
      "\n",
      "['WWF Climate & Energy' 'UN Climate Change' 'WWF' 'Greenpeace UK'\n",
      " 'Michael E. Mann' '54' '318' '96' 'Dr. Ayana Elizabeth Johnson'\n",
      " 'frannyarmstrong' 'Eric Pooley' 'jrockstrom' 'elonmusk' 'bruneski'\n",
      " 'xiyebastida' 'vict_barrett' 'johnpauljos' 'israhirsi' 'luisamneubauer'\n",
      " 'severnsuzuki' 'iraghislain' 'alexandriav2005' 'kehkashanbasu'\n",
      " 'felixfinkbeiner' 'jeromefosterii' 'laurajoparker' 'jamie_margolin'\n",
      " 'fisher_danar' 'The Heartland Institute' 'Kurt Schlichter'\n",
      " 'Bjorn Lomborg' 'Steve Milloy' 'Tom Fitton' 'Brit Hume'\n",
      " 'Pure Climate Skeptic' 'Cato Institute' \"Dinesh D'Souza\"\n",
      " 'Gov. Mike Huckabee' 'GrrrGraphics Cartoons' 'Sen. Jim Inhofe'\n",
      " 'Lt. Gov. Tim Griffin' 'Matt Ridley' 'Maxime Bernier' 'Michele Bachmann'\n",
      " 'Sam Newman' 'Paul Joseph Watson' 'Donald J. Trump' 'Joe Barton'\n",
      " 'Ron Paul' 'Naomi Seibt' 'Melissa A.' 'Todd Rokita']\n"
     ]
    }
   ],
   "source": [
    "username_list = data['username'].unique()\n",
    "\n",
    "print(username_list)"
   ]
  },
  {
   "cell_type": "markdown",
   "metadata": {},
   "source": [
    "We remove the users that seems to be a bug _i.e._ _54, 318, 96_"
   ]
  },
  {
   "cell_type": "code",
   "execution_count": 9,
   "metadata": {},
   "outputs": [
    {
     "name": "stdout",
     "output_type": "stream",
     "text": [
      "['WWF Climate & Energy' 'UN Climate Change' 'WWF' 'Greenpeace UK'\n",
      " 'Michael E. Mann' 'Dr. Ayana Elizabeth Johnson' 'frannyarmstrong'\n",
      " 'Eric Pooley' 'jrockstrom' 'elonmusk' 'bruneski' 'xiyebastida'\n",
      " 'vict_barrett' 'johnpauljos' 'israhirsi' 'luisamneubauer' 'severnsuzuki'\n",
      " 'iraghislain' 'alexandriav2005' 'kehkashanbasu' 'felixfinkbeiner'\n",
      " 'jeromefosterii' 'laurajoparker' 'jamie_margolin' 'fisher_danar'\n",
      " 'The Heartland Institute' 'Kurt Schlichter' 'Bjorn Lomborg'\n",
      " 'Steve Milloy' 'Tom Fitton' 'Brit Hume' 'Pure Climate Skeptic'\n",
      " 'Cato Institute' \"Dinesh D'Souza\" 'Gov. Mike Huckabee'\n",
      " 'GrrrGraphics Cartoons' 'Sen. Jim Inhofe' 'Lt. Gov. Tim Griffin'\n",
      " 'Matt Ridley' 'Maxime Bernier' 'Michele Bachmann' 'Sam Newman'\n",
      " 'Paul Joseph Watson' 'Donald J. Trump' 'Joe Barton' 'Ron Paul'\n",
      " 'Naomi Seibt' 'Melissa A.' 'Todd Rokita']\n"
     ]
    }
   ],
   "source": [
    "data= data.query(\"username != '54'\")\n",
    "data= data.query(\"username != '318'\")\n",
    "data= data.query(\"username != '96'\")\n",
    "\n",
    "username_list = data['username'].unique()\n",
    "print(username_list)"
   ]
  },
  {
   "cell_type": "code",
   "execution_count": 10,
   "metadata": {},
   "outputs": [
    {
     "name": "stdout",
     "output_type": "stream",
     "text": [
      "There are 49 different users of twitter\n"
     ]
    }
   ],
   "source": [
    "print('There are',len(username_list),'different users of twitter')"
   ]
  },
  {
   "cell_type": "code",
   "execution_count": 12,
   "metadata": {},
   "outputs": [
    {
     "name": "stdout",
     "output_type": "stream",
     "text": [
      "The user WWF Climate & Energy contribute to 0.0122 % of the dataset, with 220 .\n",
      "The user UN Climate Change contribute to 0.0394 % of the dataset, with 709 .\n",
      "The user WWF contribute to 0.0027 % of the dataset, with 48 .\n",
      "The user Greenpeace UK contribute to 0.0183 % of the dataset, with 330 .\n",
      "The user Michael E. Mann contribute to 0.0489 % of the dataset, with 880 .\n",
      "The user Dr. Ayana Elizabeth Johnson contribute to 0.0004 % of the dataset, with 8 .\n",
      "The user frannyarmstrong contribute to 0.0024 % of the dataset, with 44 .\n",
      "The user Eric Pooley contribute to 0.0021 % of the dataset, with 37 .\n",
      "The user jrockstrom contribute to 0.0132 % of the dataset, with 237 .\n",
      "The user elonmusk contribute to 0.0022 % of the dataset, with 40 .\n",
      "The user bruneski contribute to 0.046 % of the dataset, with 828 .\n",
      "The user xiyebastida contribute to 0.0068 % of the dataset, with 123 .\n",
      "The user vict_barrett contribute to 0.0011 % of the dataset, with 20 .\n",
      "The user johnpauljos contribute to 0.0081 % of the dataset, with 145 .\n",
      "The user israhirsi contribute to 0.0037 % of the dataset, with 67 .\n",
      "The user luisamneubauer contribute to 0.0032 % of the dataset, with 57 .\n",
      "The user severnsuzuki contribute to 0.0014 % of the dataset, with 25 .\n",
      "The user iraghislain contribute to 0.0006 % of the dataset, with 10 .\n",
      "The user alexandriav2005 contribute to 0.0187 % of the dataset, with 337 .\n",
      "The user kehkashanbasu contribute to 0.0036 % of the dataset, with 64 .\n",
      "The user felixfinkbeiner contribute to 0.0001 % of the dataset, with 1 .\n",
      "The user jeromefosterii contribute to 0.0349 % of the dataset, with 628 .\n",
      "The user laurajoparker contribute to 0.0029 % of the dataset, with 52 .\n",
      "The user jamie_margolin contribute to 0.0397 % of the dataset, with 715 .\n",
      "The user fisher_danar contribute to 0.1005 % of the dataset, with 1810 .\n",
      "The user The Heartland Institute contribute to 0.0934 % of the dataset, with 1681 .\n",
      "The user Kurt Schlichter contribute to 0.0125 % of the dataset, with 225 .\n",
      "The user Bjorn Lomborg contribute to 0.0232 % of the dataset, with 417 .\n",
      "The user Steve Milloy contribute to 0.0556 % of the dataset, with 1002 .\n",
      "The user Tom Fitton contribute to 0.0049 % of the dataset, with 89 .\n",
      "The user Brit Hume contribute to 0.0026 % of the dataset, with 46 .\n",
      "The user Pure Climate Skeptic contribute to 0.3331 % of the dataset, with 5998 .\n",
      "The user Cato Institute contribute to 0.0109 % of the dataset, with 196 .\n",
      "The user Dinesh D'Souza contribute to 0.0055 % of the dataset, with 99 .\n",
      "The user Gov. Mike Huckabee contribute to 0.0015 % of the dataset, with 27 .\n",
      "The user GrrrGraphics Cartoons contribute to 0.0042 % of the dataset, with 75 .\n",
      "The user Sen. Jim Inhofe contribute to 0.0021 % of the dataset, with 38 .\n",
      "The user Lt. Gov. Tim Griffin contribute to 0.0003 % of the dataset, with 5 .\n",
      "The user Matt Ridley contribute to 0.0076 % of the dataset, with 136 .\n",
      "The user Maxime Bernier contribute to 0.0053 % of the dataset, with 95 .\n",
      "The user Michele Bachmann contribute to 0.0005 % of the dataset, with 9 .\n",
      "The user Sam Newman contribute to 0.0011 % of the dataset, with 20 .\n",
      "The user Paul Joseph Watson contribute to 0.0104 % of the dataset, with 187 .\n",
      "The user Donald J. Trump contribute to 0.0054 % of the dataset, with 97 .\n",
      "The user Joe Barton contribute to 0.0007 % of the dataset, with 12 .\n",
      "The user Ron Paul contribute to 0.0006 % of the dataset, with 10 .\n",
      "The user Naomi Seibt contribute to 0.001 % of the dataset, with 18 .\n",
      "The user Melissa A. contribute to 0.0048 % of the dataset, with 87 .\n",
      "The user Todd Rokita contribute to 0.0001 % of the dataset, with 2 .\n"
     ]
    }
   ],
   "source": [
    "for u in username_list:\n",
    "    nb_tweet = len(data[data['username']==u])\n",
    "    p = nb_tweet/len(data)\n",
    "    print('The user',u,'contribute to',round(p,4),'% of the dataset, with',nb_tweet,'.')"
   ]
  },
  {
   "cell_type": "markdown",
   "metadata": {},
   "source": [
    "#### User_handle :"
   ]
  },
  {
   "cell_type": "code",
   "execution_count": 13,
   "metadata": {},
   "outputs": [
    {
     "name": "stdout",
     "output_type": "stream",
     "text": [
      "['climateWWF' 'UNFCCC' 'WWF' 'GreenpeaceUK' 'MichaelEMann' 'ayanaeliza'\n",
      " 'frannyarmstrong' 'EricPooley' 'Johan Rockström' 'Elon Musk'\n",
      " 'Michael Brune' 'Xiye Bastida' 'Vic J. Barrett' 'John Paul Jose'\n",
      " 'isra hirsi' 'Luisa Neubauer' 'Severn Cullis-Suzuki' 'Ghislain Irakoze'\n",
      " 'Alexandria Villaseñor' 'Kehkashan Basu' 'Felix Finkbeiner'\n",
      " 'Jerome Foster II' 'Laura Parker' 'Jamie Margolin' 'Dana R Fisher'\n",
      " 'HeartlandInst' 'KurtSchlichter' 'BjornLomborg' 'JunkScience' 'TomFitton'\n",
      " 'brithume' 'Carbongate' 'CatoInstitute' 'DineshDSouza' 'GovMikeHuckabee'\n",
      " 'GrrrGraphics' 'JimInhofe' 'LtGovTimGriffin' 'mattwridley'\n",
      " 'MaximeBernier' 'MicheleBachmann' 'Origsmartassam' 'PrisonPlanet'\n",
      " 'realDonaldTrump' 'RepJoeBarton' 'RonPaul' 'SeibtNaomi' 'TheRightMelissa'\n",
      " 'ToddRokitaIN']\n"
     ]
    }
   ],
   "source": [
    "user_handle_list = data['user_handle'].unique()\n",
    "\n",
    "print(user_handle_list)"
   ]
  },
  {
   "cell_type": "markdown",
   "metadata": {},
   "source": [
    "#### Date :"
   ]
  },
  {
   "cell_type": "code",
   "execution_count": 14,
   "metadata": {},
   "outputs": [
    {
     "name": "stdout",
     "output_type": "stream",
     "text": [
      "['2020-04-28' '2020-04-22' '2020-04-01' ... '8/26/2017' '12/07/2017'\n",
      " '4/24/2018']\n"
     ]
    }
   ],
   "source": [
    "date_list = data['date'].values\n",
    "\n",
    "print(date_list)"
   ]
  },
  {
   "cell_type": "markdown",
   "metadata": {},
   "source": [
    "We see that there is 2 formats for the dates... We can fix that but not now!"
   ]
  },
  {
   "cell_type": "markdown",
   "metadata": {},
   "source": [
    "#### Retweets :"
   ]
  },
  {
   "cell_type": "code",
   "execution_count": 15,
   "metadata": {},
   "outputs": [
    {
     "name": "stdout",
     "output_type": "stream",
     "text": [
      "The user WWF Climate & Energy has a total number of 5970 retweets.\n",
      "The user UN Climate Change has a total number of 115423 retweets.\n",
      "The user WWF has a total number of 16320 retweets.\n",
      "The user Greenpeace UK has a total number of 31462 retweets.\n",
      "The user Michael E. Mann has a total number of 113480 retweets.\n",
      "The user Dr. Ayana Elizabeth Johnson has a total number of 345 retweets.\n",
      "The user frannyarmstrong has a total number of 1022 retweets.\n",
      "The user Eric Pooley has a total number of 334 retweets.\n",
      "The user jrockstrom has a total number of 16861 retweets.\n",
      "The user elonmusk has a total number of 333831 retweets.\n",
      "The user bruneski has a total number of 13688 retweets.\n",
      "The user xiyebastida has a total number of 6829 retweets.\n",
      "The user vict_barrett has a total number of 60 retweets.\n",
      "The user johnpauljos has a total number of 2345 retweets.\n",
      "The user israhirsi has a total number of 10068 retweets.\n",
      "The user luisamneubauer has a total number of 10890 retweets.\n",
      "The user severnsuzuki has a total number of 86 retweets.\n",
      "The user iraghislain has a total number of 33 retweets.\n",
      "The user alexandriav2005 has a total number of 42781 retweets.\n",
      "The user kehkashanbasu has a total number of 89 retweets.\n",
      "The user felixfinkbeiner has a total number of 7 retweets.\n",
      "The user jeromefosterii has a total number of 10726 retweets.\n",
      "The user laurajoparker has a total number of 75 retweets.\n",
      "The user jamie_margolin has a total number of 54088 retweets.\n",
      "The user fisher_danar has a total number of 1811 retweets.\n",
      "The user The Heartland Institute has a total number of 6514 retweets.\n",
      "The user Kurt Schlichter has a total number of 16686 retweets.\n",
      "The user Bjorn Lomborg has a total number of 59344 retweets.\n",
      "The user Steve Milloy has a total number of 25423 retweets.\n",
      "The user Tom Fitton has a total number of 45868 retweets.\n",
      "The user Brit Hume has a total number of 21379 retweets.\n",
      "The user Pure Climate Skeptic has a total number of 51861 retweets.\n",
      "The user Cato Institute has a total number of 2881 retweets.\n",
      "The user Dinesh D'Souza has a total number of 162492 retweets.\n",
      "The user Gov. Mike Huckabee has a total number of 36223 retweets.\n",
      "The user GrrrGraphics Cartoons has a total number of 10739 retweets.\n",
      "The user Sen. Jim Inhofe has a total number of 907 retweets.\n",
      "The user Lt. Gov. Tim Griffin has a total number of 6 retweets.\n",
      "The user Matt Ridley has a total number of 8866 retweets.\n",
      "The user Maxime Bernier has a total number of 60736 retweets.\n",
      "The user Michele Bachmann has a total number of 356 retweets.\n",
      "The user Sam Newman has a total number of 842 retweets.\n",
      "The user Paul Joseph Watson has a total number of 305832 retweets.\n",
      "The user Donald J. Trump has a total number of 398652 retweets.\n",
      "The user Joe Barton has a total number of 26 retweets.\n",
      "The user Ron Paul has a total number of 1034 retweets.\n",
      "The user Naomi Seibt has a total number of 2543 retweets.\n",
      "The user Melissa A. has a total number of 31818 retweets.\n",
      "The user Todd Rokita has a total number of 1 retweets.\n"
     ]
    }
   ],
   "source": [
    "for u in username_list:\n",
    "    nb_tot_rt_list = data[data['username']==u]['retweets'].values\n",
    "    for i in range(len(nb_tot_rt_list)):\n",
    "        nb_tot_rt_list[i] = int(nb_tot_rt_list[i])\n",
    "    nb_tot_rt = sum(nb_tot_rt_list)\n",
    "    print('The user',u,'has a total number of',nb_tot_rt,'retweets.')"
   ]
  },
  {
   "cell_type": "markdown",
   "metadata": {},
   "source": [
    "#### Favorites"
   ]
  },
  {
   "cell_type": "code",
   "execution_count": 16,
   "metadata": {},
   "outputs": [
    {
     "name": "stdout",
     "output_type": "stream",
     "text": [
      "The user WWF Climate & Energy has a total number of 11324 favorites.\n",
      "The user UN Climate Change has a total number of 142664 favorites.\n",
      "The user WWF has a total number of 28665 favorites.\n",
      "The user Greenpeace UK has a total number of 49380 favorites.\n",
      "The user Michael E. Mann has a total number of 274351 favorites.\n",
      "The user Dr. Ayana Elizabeth Johnson has a total number of 763 favorites.\n",
      "The user frannyarmstrong has a total number of 2862 favorites.\n",
      "The user Eric Pooley has a total number of 529 favorites.\n",
      "The user jrockstrom has a total number of 35439 favorites.\n",
      "The user elonmusk has a total number of 1092627 favorites.\n",
      "The user bruneski has a total number of 31114 favorites.\n",
      "The user xiyebastida has a total number of 33146 favorites.\n",
      "The user vict_barrett has a total number of 253 favorites.\n",
      "The user johnpauljos has a total number of 8996 favorites.\n",
      "The user israhirsi has a total number of 64231 favorites.\n",
      "The user luisamneubauer has a total number of 50885 favorites.\n",
      "The user severnsuzuki has a total number of 130 favorites.\n",
      "The user iraghislain has a total number of 150 favorites.\n",
      "The user alexandriav2005 has a total number of 186087 favorites.\n",
      "The user kehkashanbasu has a total number of 156 favorites.\n",
      "The user felixfinkbeiner has a total number of 2 favorites.\n",
      "The user jeromefosterii has a total number of 50214 favorites.\n",
      "The user laurajoparker has a total number of 113 favorites.\n",
      "The user jamie_margolin has a total number of 210095 favorites.\n",
      "The user fisher_danar has a total number of 3797 favorites.\n",
      "The user The Heartland Institute has a total number of 3964 favorites.\n",
      "The user Kurt Schlichter has a total number of 49702 favorites.\n",
      "The user Bjorn Lomborg has a total number of 116268 favorites.\n",
      "The user Steve Milloy has a total number of 31549 favorites.\n",
      "The user Tom Fitton has a total number of 113643 favorites.\n",
      "The user Brit Hume has a total number of 44107 favorites.\n",
      "The user Pure Climate Skeptic has a total number of 75841 favorites.\n",
      "The user Cato Institute has a total number of 2020 favorites.\n",
      "The user Dinesh D'Souza has a total number of 427599 favorites.\n",
      "The user Gov. Mike Huckabee has a total number of 116712 favorites.\n",
      "The user GrrrGraphics Cartoons has a total number of 19692 favorites.\n",
      "The user Sen. Jim Inhofe has a total number of 1536 favorites.\n",
      "The user Lt. Gov. Tim Griffin has a total number of 4 favorites.\n",
      "The user Matt Ridley has a total number of 19935 favorites.\n",
      "The user Maxime Bernier has a total number of 141131 favorites.\n",
      "The user Michele Bachmann has a total number of 291 favorites.\n",
      "The user Sam Newman has a total number of 8644 favorites.\n",
      "The user Paul Joseph Watson has a total number of 803996 favorites.\n",
      "The user Donald J. Trump has a total number of 1010139 favorites.\n",
      "The user Joe Barton has a total number of 4 favorites.\n",
      "The user Ron Paul has a total number of 1171 favorites.\n",
      "The user Naomi Seibt has a total number of 11348 favorites.\n",
      "The user Melissa A. has a total number of 106793 favorites.\n",
      "The user Todd Rokita has a total number of 1 favorites.\n"
     ]
    }
   ],
   "source": [
    "for u in username_list:\n",
    "    nb_tot_fav_list = data[data['username']==u]['favorites'].values\n",
    "    for i in range(len(nb_tot_fav_list)):\n",
    "        nb_tot_fav_list[i] = int(nb_tot_fav_list[i])\n",
    "    nb_tot_fav = sum(nb_tot_fav_list)\n",
    "    print('The user',u,'has a total number of',nb_tot_fav,'favorites.')\n"
   ]
  },
  {
   "cell_type": "markdown",
   "metadata": {},
   "source": [
    "#### Label"
   ]
  },
  {
   "cell_type": "code",
   "execution_count": 17,
   "metadata": {},
   "outputs": [
    {
     "name": "stdout",
     "output_type": "stream",
     "text": [
      "There are 25 belivers for a number of tweet of 7435\n",
      "There are 24 deniers for a number of tweet of 10571\n"
     ]
    }
   ],
   "source": [
    "b_data = data[data['label']==0]\n",
    "b_username_list = b_data['username'].unique()\n",
    "\n",
    "print('There are',len(b_username_list),'belivers for a number of tweet of',len(b_data))\n",
    "\n",
    "d_data = data[data['label']==1]\n",
    "d_username_list = d_data['username'].unique()\n",
    "\n",
    "print('There are',len(d_username_list),'deniers for a number of tweet of',len(d_data))"
   ]
  },
  {
   "cell_type": "markdown",
   "metadata": {},
   "source": [
    "We can try some popularity analysis..."
   ]
  },
  {
   "cell_type": "code",
   "execution_count": 19,
   "metadata": {},
   "outputs": [
    {
     "name": "stdout",
     "output_type": "stream",
     "text": [
      "Believers have a total of 788624 retweets and 2277973 favorites.\n",
      "==> 106 rt/tweet and 306 fav/tweets.\n",
      "Deniers have a total of 1251029 retweets and 3106090 favorites.\n",
      "==> 118 rt/tweet and 294 fav/tweets.\n"
     ]
    }
   ],
   "source": [
    "b_data_rt = b_data['retweets'].values\n",
    "b_data_fav = b_data['favorites'].values\n",
    "\n",
    "for i in range(len(b_data_rt)):\n",
    "    b_data_rt[i] = int(b_data_rt[i])\n",
    "\n",
    "for i in range(len(b_data_fav)):\n",
    "    b_data_fav[i] = int(b_data_fav[i])\n",
    "\n",
    "print('Believers have a total of',sum(b_data_rt),'retweets and',sum(b_data_fav),'favorites.')\n",
    "print('==>',round(sum(b_data_rt)/len(b_data)),'rt/tweet and',round(sum(b_data_fav)/len(b_data)),'fav/tweets.')\n",
    "\n",
    "d_data_rt = d_data['retweets'].values\n",
    "d_data_fav = d_data['favorites'].values\n",
    "\n",
    "for i in range(len(d_data_rt)):\n",
    "    d_data_rt[i] = int(d_data_rt[i])\n",
    "\n",
    "for i in range(len(d_data_fav)):\n",
    "    d_data_fav[i] = int(d_data_fav[i])\n",
    "\n",
    "print('Deniers have a total of',sum(d_data_rt),'retweets and',sum(d_data_fav),'favorites.')\n",
    "print('==>',round(sum(d_data_rt)/len(d_data)),'rt/tweet and',round(sum(d_data_fav)/len(d_data)),'fav/tweets.')"
   ]
  },
  {
   "cell_type": "code",
   "execution_count": null,
   "metadata": {},
   "outputs": [],
   "source": []
  }
 ],
 "metadata": {
  "kernelspec": {
   "display_name": "Python 3",
   "language": "python",
   "name": "python3"
  },
  "language_info": {
   "codemirror_mode": {
    "name": "ipython",
    "version": 3
   },
   "file_extension": ".py",
   "mimetype": "text/x-python",
   "name": "python",
   "nbconvert_exporter": "python",
   "pygments_lexer": "ipython3",
   "version": "3.7.6"
  }
 },
 "nbformat": 4,
 "nbformat_minor": 4
}
