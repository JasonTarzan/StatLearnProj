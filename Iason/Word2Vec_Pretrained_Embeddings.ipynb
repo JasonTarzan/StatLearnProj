{
  "nbformat": 4,
  "nbformat_minor": 0,
  "metadata": {
    "kernelspec": {
      "display_name": "Python 3",
      "language": "python",
      "name": "python3"
    },
    "language_info": {
      "codemirror_mode": {
        "name": "ipython",
        "version": 3
      },
      "file_extension": ".py",
      "mimetype": "text/x-python",
      "name": "python",
      "nbconvert_exporter": "python",
      "pygments_lexer": "ipython3",
      "version": "3.7.1"
    },
    "colab": {
      "name": "Word2Vec_Pretrained_Embeddings.ipynb",
      "provenance": [],
      "include_colab_link": true
    }
  },
  "cells": [
    {
      "cell_type": "markdown",
      "metadata": {
        "id": "view-in-github",
        "colab_type": "text"
      },
      "source": [
        "<a href=\"https://colab.research.google.com/github/anilkeshwani/StatLearnProj/blob/master/Iason/Word2Vec_Pretrained_Embeddings.ipynb\" target=\"_parent\"><img src=\"https://colab.research.google.com/assets/colab-badge.svg\" alt=\"Open In Colab\"/></a>"
      ]
    },
    {
      "cell_type": "code",
      "metadata": {
        "id": "lCHXQvRGGdya",
        "colab_type": "code",
        "colab": {}
      },
      "source": [
        "import pandas as pd\n",
        "import numpy as np\n",
        "import json\n",
        "import random\n",
        "from tqdm import tqdm,tqdm_notebook\n",
        "import enchant\n",
        "from nltk import everygrams\n",
        "\n",
        "import matplotlib.pyplot as plt\n",
        "%matplotlib inline\n",
        "\n",
        "from sklearn.preprocessing import MaxAbsScaler,MinMaxScaler\n",
        "from sklearn.model_selection import train_test_split,GridSearchCV,KFold,RandomizedSearchCV\n",
        "from sklearn.metrics import classification_report,confusion_matrix,accuracy_score,precision_score,recall_score,f1_score,make_scorer,fbeta_score\n",
        "from sklearn.metrics import average_precision_score,plot_precision_recall_curve,precision_recall_curve\n",
        "from sklearn.metrics import roc_auc_score,roc_curve, auc\n",
        "\n",
        "from scipy.stats import randint as sp_randint\n",
        "from scipy.stats import uniform as sp_uniform\n",
        "\n",
        "from sklearn.decomposition import PCA\n",
        "\n",
        "import clean_text as ct\n",
        "from gensim.models import KeyedVectors, Word2Vec\n",
        "from sklearn.linear_model import LogisticRegression"
      ],
      "execution_count": null,
      "outputs": []
    },
    {
      "cell_type": "code",
      "metadata": {
        "id": "6uDdNomuGdys",
        "colab_type": "code",
        "colab": {},
        "outputId": "8d438122-84c3-4e98-c5d6-75f45984c877"
      },
      "source": [
        "tweets = pd.read_csv('climate_change_tweets_sample-2020-05-16-17-57.csv')\n",
        "tweets.head()"
      ],
      "execution_count": null,
      "outputs": [
        {
          "output_type": "execute_result",
          "data": {
            "text/html": [
              "<div>\n",
              "<style scoped>\n",
              "    .dataframe tbody tr th:only-of-type {\n",
              "        vertical-align: middle;\n",
              "    }\n",
              "\n",
              "    .dataframe tbody tr th {\n",
              "        vertical-align: top;\n",
              "    }\n",
              "\n",
              "    .dataframe thead th {\n",
              "        text-align: right;\n",
              "    }\n",
              "</style>\n",
              "<table border=\"1\" class=\"dataframe\">\n",
              "  <thead>\n",
              "    <tr style=\"text-align: right;\">\n",
              "      <th></th>\n",
              "      <th>username</th>\n",
              "      <th>user_handle</th>\n",
              "      <th>date</th>\n",
              "      <th>retweets</th>\n",
              "      <th>favorites</th>\n",
              "      <th>text</th>\n",
              "      <th>label</th>\n",
              "    </tr>\n",
              "  </thead>\n",
              "  <tbody>\n",
              "    <tr>\n",
              "      <th>0</th>\n",
              "      <td>WWF Climate &amp; Energy</td>\n",
              "      <td>climateWWF</td>\n",
              "      <td>2020-04-28</td>\n",
              "      <td>11</td>\n",
              "      <td>22</td>\n",
              "      <td>Economic recovery and national climate pledges...</td>\n",
              "      <td>0</td>\n",
              "    </tr>\n",
              "    <tr>\n",
              "      <th>1</th>\n",
              "      <td>WWF Climate &amp; Energy</td>\n",
              "      <td>climateWWF</td>\n",
              "      <td>2020-04-22</td>\n",
              "      <td>6</td>\n",
              "      <td>16</td>\n",
              "      <td>In this difficult time, it’s hard to connect w...</td>\n",
              "      <td>0</td>\n",
              "    </tr>\n",
              "    <tr>\n",
              "      <th>2</th>\n",
              "      <td>WWF Climate &amp; Energy</td>\n",
              "      <td>climateWWF</td>\n",
              "      <td>2020-04-01</td>\n",
              "      <td>43</td>\n",
              "      <td>69</td>\n",
              "      <td>The decision to postpone # COP26, is unavoidab...</td>\n",
              "      <td>0</td>\n",
              "    </tr>\n",
              "    <tr>\n",
              "      <th>3</th>\n",
              "      <td>WWF Climate &amp; Energy</td>\n",
              "      <td>climateWWF</td>\n",
              "      <td>2020-03-30</td>\n",
              "      <td>24</td>\n",
              "      <td>30</td>\n",
              "      <td>Japan - the world’s fifth largest emitter of g...</td>\n",
              "      <td>0</td>\n",
              "    </tr>\n",
              "    <tr>\n",
              "      <th>4</th>\n",
              "      <td>WWF Climate &amp; Energy</td>\n",
              "      <td>climateWWF</td>\n",
              "      <td>2020-03-30</td>\n",
              "      <td>22</td>\n",
              "      <td>40</td>\n",
              "      <td>How can countries include # NatureBasedSolutio...</td>\n",
              "      <td>0</td>\n",
              "    </tr>\n",
              "  </tbody>\n",
              "</table>\n",
              "</div>"
            ],
            "text/plain": [
              "               username user_handle        date retweets favorites  \\\n",
              "0  WWF Climate & Energy  climateWWF  2020-04-28       11        22   \n",
              "1  WWF Climate & Energy  climateWWF  2020-04-22        6        16   \n",
              "2  WWF Climate & Energy  climateWWF  2020-04-01       43        69   \n",
              "3  WWF Climate & Energy  climateWWF  2020-03-30       24        30   \n",
              "4  WWF Climate & Energy  climateWWF  2020-03-30       22        40   \n",
              "\n",
              "                                                text  label  \n",
              "0  Economic recovery and national climate pledges...      0  \n",
              "1  In this difficult time, it’s hard to connect w...      0  \n",
              "2  The decision to postpone # COP26, is unavoidab...      0  \n",
              "3  Japan - the world’s fifth largest emitter of g...      0  \n",
              "4  How can countries include # NatureBasedSolutio...      0  "
            ]
          },
          "metadata": {
            "tags": []
          },
          "execution_count": 2
        }
      ]
    },
    {
      "cell_type": "code",
      "metadata": {
        "id": "TIkRyTCeGdy_",
        "colab_type": "code",
        "colab": {},
        "outputId": "ba3acc4c-8769-41e8-fd13-87e610cdadb1"
      },
      "source": [
        "clean_text = ct.CleanText()\n",
        "tweets[\"text\"] = clean_text.transform_no_stem(tweets.text)\n",
        "tweets = tweets.loc[(~tweets.text.isnull()), :]\n",
        "tweets.head()"
      ],
      "execution_count": null,
      "outputs": [
        {
          "output_type": "execute_result",
          "data": {
            "text/html": [
              "<div>\n",
              "<style scoped>\n",
              "    .dataframe tbody tr th:only-of-type {\n",
              "        vertical-align: middle;\n",
              "    }\n",
              "\n",
              "    .dataframe tbody tr th {\n",
              "        vertical-align: top;\n",
              "    }\n",
              "\n",
              "    .dataframe thead th {\n",
              "        text-align: right;\n",
              "    }\n",
              "</style>\n",
              "<table border=\"1\" class=\"dataframe\">\n",
              "  <thead>\n",
              "    <tr style=\"text-align: right;\">\n",
              "      <th></th>\n",
              "      <th>username</th>\n",
              "      <th>user_handle</th>\n",
              "      <th>date</th>\n",
              "      <th>retweets</th>\n",
              "      <th>favorites</th>\n",
              "      <th>text</th>\n",
              "      <th>label</th>\n",
              "    </tr>\n",
              "  </thead>\n",
              "  <tbody>\n",
              "    <tr>\n",
              "      <th>0</th>\n",
              "      <td>WWF Climate &amp; Energy</td>\n",
              "      <td>climateWWF</td>\n",
              "      <td>2020-04-28</td>\n",
              "      <td>11</td>\n",
              "      <td>22</td>\n",
              "      <td>economic recovery national climate pledges mus...</td>\n",
              "      <td>0</td>\n",
              "    </tr>\n",
              "    <tr>\n",
              "      <th>1</th>\n",
              "      <td>WWF Climate &amp; Energy</td>\n",
              "      <td>climateWWF</td>\n",
              "      <td>2020-04-22</td>\n",
              "      <td>6</td>\n",
              "      <td>16</td>\n",
              "      <td>difficult time hard connect natural world eart...</td>\n",
              "      <td>0</td>\n",
              "    </tr>\n",
              "    <tr>\n",
              "      <th>2</th>\n",
              "      <td>WWF Climate &amp; Energy</td>\n",
              "      <td>climateWWF</td>\n",
              "      <td>2020-04-01</td>\n",
              "      <td>43</td>\n",
              "      <td>69</td>\n",
              "      <td>decision postpone cop unavoidable collective p...</td>\n",
              "      <td>0</td>\n",
              "    </tr>\n",
              "    <tr>\n",
              "      <th>3</th>\n",
              "      <td>WWF Climate &amp; Energy</td>\n",
              "      <td>climateWWF</td>\n",
              "      <td>2020-03-30</td>\n",
              "      <td>24</td>\n",
              "      <td>30</td>\n",
              "      <td>japan worlds fifth largest emitter greenhouse ...</td>\n",
              "      <td>0</td>\n",
              "    </tr>\n",
              "    <tr>\n",
              "      <th>4</th>\n",
              "      <td>WWF Climate &amp; Energy</td>\n",
              "      <td>climateWWF</td>\n",
              "      <td>2020-03-30</td>\n",
              "      <td>22</td>\n",
              "      <td>40</td>\n",
              "      <td>countries include naturebasedsolutions climate...</td>\n",
              "      <td>0</td>\n",
              "    </tr>\n",
              "  </tbody>\n",
              "</table>\n",
              "</div>"
            ],
            "text/plain": [
              "               username user_handle        date retweets favorites  \\\n",
              "0  WWF Climate & Energy  climateWWF  2020-04-28       11        22   \n",
              "1  WWF Climate & Energy  climateWWF  2020-04-22        6        16   \n",
              "2  WWF Climate & Energy  climateWWF  2020-04-01       43        69   \n",
              "3  WWF Climate & Energy  climateWWF  2020-03-30       24        30   \n",
              "4  WWF Climate & Energy  climateWWF  2020-03-30       22        40   \n",
              "\n",
              "                                                text  label  \n",
              "0  economic recovery national climate pledges mus...      0  \n",
              "1  difficult time hard connect natural world eart...      0  \n",
              "2  decision postpone cop unavoidable collective p...      0  \n",
              "3  japan worlds fifth largest emitter greenhouse ...      0  \n",
              "4  countries include naturebasedsolutions climate...      0  "
            ]
          },
          "metadata": {
            "tags": []
          },
          "execution_count": 3
        }
      ]
    },
    {
      "cell_type": "markdown",
      "metadata": {
        "id": "wDiUyOIIGdzM",
        "colab_type": "text"
      },
      "source": [
        "#### Embedder"
      ]
    },
    {
      "cell_type": "code",
      "metadata": {
        "id": "dHwQIROJGdzP",
        "colab_type": "code",
        "colab": {}
      },
      "source": [
        "###you have to download the pre-trained vectorizer at: https://fasttext.cc/docs/en/english-vectors.html\n",
        "\n",
        "model = 'wiki-news-300d-1M.vec'\n",
        "\n",
        "model_emb = KeyedVectors.load_word2vec_format(model, binary=False)\n",
        "\n",
        "# import gensim.downloader as api\n",
        "# model_emb = api.load(model)"
      ],
      "execution_count": null,
      "outputs": []
    },
    {
      "cell_type": "code",
      "metadata": {
        "id": "tP80rYlhGdzZ",
        "colab_type": "code",
        "colab": {}
      },
      "source": [
        "unvectorizable = set()\n",
        "all_words = set()\n",
        "\n",
        "\n",
        "def Word2VectorizeTweet(tweet):\n",
        "    global all_words\n",
        "    global unvectorizable\n",
        "    \n",
        "    tweet_vector = np.zeros(shape=(300,), dtype=\"float32\")\n",
        "    n_vectorizable = 0\n",
        "    \n",
        "    for word in tweet.split():\n",
        "        try:\n",
        "#             print(f\"Adding {word} to word representation\")\n",
        "            tweet_vector = np.add(tweet_vector, model_emb.get_vector(word))\n",
        "            all_words.add(word)\n",
        "            n_vectorizable += 1\n",
        "        except KeyError:\n",
        "            d = enchant.Dict(\"en_US\")\n",
        "            words = [''.join(_ngram) for _ngram in everygrams(word) if d.check(''.join(_ngram)) and len(_ngram) > 1]\n",
        "            if len(words) == 0:\n",
        "                if word not in unvectorizable:\n",
        "                    #print(f\"Could not vectorize {word}\")\n",
        "                    unvectorizable.add(word)\n",
        "            else:\n",
        "                for w in words:\n",
        "                    try:\n",
        "                        tweet_vector = np.add(tweet_vector, model_emb.get_vector(w))\n",
        "                        all_words.add(w)\n",
        "                        n_vectorizable += 1\n",
        "                    except KeyError:  \n",
        "                        if w not in unvectorizable:\n",
        "                            #print(f\"Could not vectorize {w}\")\n",
        "                            unvectorizable.add(w)\n",
        "    return (tweet_vector/n_vectorizable)"
      ],
      "execution_count": null,
      "outputs": []
    },
    {
      "cell_type": "code",
      "metadata": {
        "id": "F2BaujHmGdzj",
        "colab_type": "code",
        "colab": {},
        "outputId": "9b9201ba-30b7-4ecd-e3ef-075ea55e4df2"
      },
      "source": [
        "tqdm.pandas(tqdm_notebook)\n",
        "tweets[\"FastText\"] = tweets.text.progress_apply(func=Word2VectorizeTweet)"
      ],
      "execution_count": null,
      "outputs": [
        {
          "output_type": "stream",
          "text": [
            "100%|████████████████████████████████████████████████████████████████████████████| 18009/18009 [05:03<00:00, 59.27it/s]\n"
          ],
          "name": "stderr"
        }
      ]
    },
    {
      "cell_type": "code",
      "metadata": {
        "id": "6a-iJDDcGdzy",
        "colab_type": "code",
        "colab": {},
        "outputId": "1ed5405a-4d71-4c13-c6cc-df0d41780ab0"
      },
      "source": [
        "print(unvectorizable)"
      ],
      "execution_count": null,
      "outputs": [
        {
          "output_type": "stream",
          "text": [
            "{'urger', 'migrator', 'macing', 'insp', 'eyer', 'hemmer', 'shanny', 'gamb', 'verbid', 'lovelock', 'brei', 'latten', 'luntz', 'gcb', 'ersh', 'troys', 'airt', 'erne', 'wwfsg', 'lwei', 'hypoth', 'strati', 'grig', 'wmnf', 'taction', 'izzard', 'logiest', 'obstructor', 'dinge', 'fth', 'retrad', 'xrnyc', 'inorg', 'djf', 'rehi', 'cered', 'algor', 'cnni', 'teleg', 'eddo', 'ticals', 'stoss', 'oping', 'surv', 'olid', 'delayers', 'sociol', 'uwp', 'akene', 'inkles', 'responser', 'terf', 'ctn', 'tyg', 'rooking', 'keas', 'kier', 'illation', 'epw', 'csch', 'djt', 'lustrate', 'linin', 'tingler', 'wlrn', 'argol', 'hyla', 'illations', 'loq', 'bigeyes', 'igcz', 'scorner', 'smatter', 'instancy', 'unhq', 'undp', 'gean', 'haler', 'spicer', 'snc', 'rugging', 'zens', 'milden', 'paralyzingly', 'wwfepo', 'ecol', 'hent', 'kxl', 'qts', 'manhattans', 'lacier', 'ankus', 'alee', 'wwfs', 'ayins', 'beths', 'blackheart', 'kyte', 'seiu', 'propr', 'pottiest', 'omber', 'furn', 'neral', 'cyclings', 'obb', 'cnns', 'thebe', 'egoistically', 'rkyte', 'rept', 'charlottes', 'ekko', 'odea', 'crenshaw', 'archit', 'enl', 'dipl', 'cbcns', 'vdu', 'pitifulness', 'chillest', 'eide', 'harl', 'vys', 'intoner', 'ywis', 'peans', 'ristra', 'buncombe', 'yeld', 'intrans', 'olzak', 'wrko', 'wfd', 'tammies', 'chillings', 'tinct', 'seism', 'phis', 'obeli', 'shmo', 'zazzle', 'youthen', 'wersh', 'enwomb', 'eui', 'bowse', 'reface', 'thebes', 'bached', 'hellers', 'suzyji', 'constr', 'unsg', 'eagre', 'stere', 'cryst', 'eike', 'elates', 'enate', 'ament', 'aport', 'ubc', 'wjec', 'wwfuk', 'tfw', 'lints', 'ernes', 'rall', 'nival', 'astr', 'lustra', 'prau', 'plashed', 'fiorin', 'encl', 'exr'}\n"
          ],
          "name": "stdout"
        }
      ]
    },
    {
      "cell_type": "code",
      "metadata": {
        "scrolled": true,
        "id": "McIdqIwkGdz8",
        "colab_type": "code",
        "colab": {},
        "outputId": "1cd0d14a-cd4b-4d6a-e1c4-31e16a9de67b"
      },
      "source": [
        "print(tweets.shape)"
      ],
      "execution_count": null,
      "outputs": [
        {
          "output_type": "stream",
          "text": [
            "(18009, 8)\n"
          ],
          "name": "stdout"
        }
      ]
    },
    {
      "cell_type": "code",
      "metadata": {
        "id": "qDUfV2zKGd0E",
        "colab_type": "code",
        "colab": {},
        "outputId": "9feeaa56-cb5e-4c21-c35a-fe2af3df60cb"
      },
      "source": [
        "plt.figure(figsize=(14, 10))\n",
        "\n",
        "res = random.sample(range(1, len(all_words)), 20) \n",
        "\n",
        "vocab = model_emb[all_words]\n",
        "pca = PCA(n_components=2)\n",
        "pca_results = pca.fit_transform(vocab)\n",
        "\n",
        "plt.scatter(pca_results[res, 0], pca_results[res, 1])\n",
        "\n",
        "words = list(model_emb.vocab)\n",
        "\n",
        "for i, word in enumerate(words):\n",
        "    if i in res:\n",
        "        plt.annotate(word[:], xy=(pca_results[i, 0], pca_results[i, 1]))\n",
        "plt.show()"
      ],
      "execution_count": null,
      "outputs": [
        {
          "output_type": "display_data",
          "data": {
            "image/png": "[encoded data removed]",
            "text/plain": [
              "<Figure size 1008x720 with 1 Axes>"
            ]
          },
          "metadata": {
            "tags": [],
            "needs_background": "light"
          }
        }
      ]
    },
    {
      "cell_type": "markdown",
      "metadata": {
        "id": "uAVqLapXGd0O",
        "colab_type": "text"
      },
      "source": [
        "#### Remove NaN"
      ]
    },
    {
      "cell_type": "code",
      "metadata": {
        "id": "9akylNynGd0Q",
        "colab_type": "code",
        "colab": {},
        "outputId": "10088cde-fd63-4550-f5b5-4a32fef656bf"
      },
      "source": [
        "print(tweets.shape)\n",
        "tweets['FastTextNan'] = tweets['FastText']\n",
        "tweets['FastTextNan'] = np.array([k.tolist() for k in tweets.FastText.values]) \n",
        "print(tweets.shape)"
      ],
      "execution_count": null,
      "outputs": [
        {
          "output_type": "stream",
          "text": [
            "(18009, 8)\n",
            "(18009, 9)\n"
          ],
          "name": "stdout"
        }
      ]
    },
    {
      "cell_type": "code",
      "metadata": {
        "id": "vQQCmgZXGd0W",
        "colab_type": "code",
        "colab": {},
        "outputId": "c254f407-d8e3-457d-c02b-3a1ce0b1bc90"
      },
      "source": [
        "print(tweets.shape)\n",
        "\n",
        "tweets.dropna(inplace=True)\n",
        "\n",
        "print(tweets.shape)"
      ],
      "execution_count": null,
      "outputs": [
        {
          "output_type": "stream",
          "text": [
            "(18009, 9)\n",
            "(18008, 9)\n"
          ],
          "name": "stdout"
        }
      ]
    },
    {
      "cell_type": "markdown",
      "metadata": {
        "id": "4WcAh9XwGd0f",
        "colab_type": "text"
      },
      "source": [
        "### Training of the Model"
      ]
    },
    {
      "cell_type": "code",
      "metadata": {
        "id": "uhG_Zs2KGd0i",
        "colab_type": "code",
        "colab": {}
      },
      "source": [
        "X = np.array([k.tolist() for k in tweets.FastText.values])\n",
        "\n",
        "X_train, X_test, y_train, y_test = train_test_split(X, tweets.label.values, \n",
        "                                                    test_size=0.2, random_state=17, \n",
        "                                                    shuffle=True) # explicit default\n",
        "\n",
        "#[print(dat[:3], dat.shape, end=\"\\n\"*2) for dat in [X_train, X_test, y_train, y_test]];\n",
        "\n"
      ],
      "execution_count": null,
      "outputs": []
    },
    {
      "cell_type": "code",
      "metadata": {
        "id": "rDeeSq1FGd0p",
        "colab_type": "code",
        "colab": {},
        "outputId": "22a1f420-1f31-43f6-f309-22e21439855c"
      },
      "source": [
        "X_train.shape"
      ],
      "execution_count": null,
      "outputs": [
        {
          "output_type": "execute_result",
          "data": {
            "text/plain": [
              "(14406, 300)"
            ]
          },
          "metadata": {
            "tags": []
          },
          "execution_count": 21
        }
      ]
    },
    {
      "cell_type": "code",
      "metadata": {
        "id": "YBuANEQOGd0w",
        "colab_type": "code",
        "colab": {},
        "outputId": "2dbb6d9d-406f-4b3f-8716-03155f652088"
      },
      "source": [
        "params = {'C':1, 'max_iter':1000, 'multi_class' :\"ovr\", 'solver':'saga'}\n",
        "\n",
        "\n",
        "model = LogisticRegression(**params) # use all CPUs\n",
        "\n",
        "model.fit(X_train, y_train)"
      ],
      "execution_count": null,
      "outputs": [
        {
          "output_type": "execute_result",
          "data": {
            "text/plain": [
              "LogisticRegression(C=1, max_iter=1000, multi_class='ovr', solver='saga')"
            ]
          },
          "metadata": {
            "tags": []
          },
          "execution_count": 22
        }
      ]
    },
    {
      "cell_type": "code",
      "metadata": {
        "id": "YqiKkwkvGd03",
        "colab_type": "code",
        "colab": {},
        "outputId": "71201ada-24f3-42e1-9213-6d52053cccb6"
      },
      "source": [
        "pred = model.predict(X_test)\n",
        "\n",
        "accuracy = accuracy_score(y_test,pred)\n",
        "precision = precision_score(y_test,pred)\n",
        "recall = recall_score(y_test,pred)\n",
        "f0_5 = fbeta_score(y_test,pred,beta=0.5)\n",
        "f1 = f1_score(y_test,pred)\n",
        "f2 = fbeta_score(y_test,pred,beta=2)\n",
        "\n",
        "print('Accuracy: {}'.format(round(accuracy,4)))\n",
        "print('Precision: {}'.format(round(precision,4)))\n",
        "print('Recall: {}'.format(round(recall,4)))\n",
        "print('F0_5_score: {}'.format(round(f0_5,4)))\n",
        "print('F1_score: {}'.format(round(f1,4)))\n",
        "print('F2_score: {}'.format(round(f2,4)))"
      ],
      "execution_count": null,
      "outputs": [
        {
          "output_type": "stream",
          "text": [
            "Accuracy: 0.8723\n",
            "Precision: 0.8954\n",
            "Recall: 0.8887\n",
            "F0_5_score: 0.894\n",
            "F1_score: 0.892\n",
            "F2_score: 0.89\n"
          ],
          "name": "stdout"
        }
      ]
    },
    {
      "cell_type": "code",
      "metadata": {
        "id": "JHlHptWDGd0_",
        "colab_type": "code",
        "colab": {},
        "outputId": "4df4987b-6a12-42c0-8a94-6c368d770492"
      },
      "source": [
        "y_score = model.predict_proba(X_test)[:, 1]\n",
        "average_precision = average_precision_score(y_test, y_score)\n",
        "\n",
        "print('Average precision-recall score: {0:0.2f}'.format(\n",
        "      average_precision))\n",
        "\n",
        "fig, axes = plt.subplots(figsize=(12,4),nrows=1,ncols=2)\n",
        "disp = plot_precision_recall_curve(model, X_test, y_test,ax=axes[0])\n",
        "disp.ax_.set_title('2-class Precision-Recall curve: '\n",
        "                   'AP={0:0.2f}'.format(average_precision))\n",
        "axes[0].legend(loc=\"upper right\")\n",
        "\n",
        "\n",
        "fpr, tpr, _ = roc_curve(y_test, y_score)\n",
        "roc_auc = auc(fpr, tpr)\n",
        "\n",
        "#plt.figure()\n",
        "lw = 2\n",
        "axes[1].plot(fpr, tpr, color='darkorange',lw=lw, label='ROC curve (area = %0.2f)' % roc_auc)\n",
        "axes[1].plot([0, 1], [0, 1], color='navy', lw=lw, linestyle='--')\n",
        "axes[1].set_xlim([0.0, 1.0])\n",
        "axes[1].set_ylim([0.0, 1.05])\n",
        "axes[1].set_xlabel('False Positive Rate')\n",
        "axes[1].set_ylabel('True Positive Rate')\n",
        "axes[1].set_title('Receiver Operating Characteristic Curve')\n",
        "axes[1].legend(loc=\"lower right\")\n",
        "plt.show()"
      ],
      "execution_count": null,
      "outputs": [
        {
          "output_type": "stream",
          "text": [
            "Average precision-recall score: 0.94\n"
          ],
          "name": "stdout"
        },
        {
          "output_type": "display_data",
          "data": {
            "image/png": "[encoded data removed]",
            "text/plain": [
              "<Figure size 864x288 with 2 Axes>"
            ]
          },
          "metadata": {
            "tags": [],
            "needs_background": "light"
          }
        }
      ]
    },
    {
      "cell_type": "code",
      "metadata": {
        "id": "BWewqKaRGd1F",
        "colab_type": "code",
        "colab": {}
      },
      "source": [
        ""
      ],
      "execution_count": null,
      "outputs": []
    },
    {
      "cell_type": "code",
      "metadata": {
        "id": "3TuKHIs5Gd1L",
        "colab_type": "code",
        "colab": {}
      },
      "source": [
        ""
      ],
      "execution_count": null,
      "outputs": []
    }
  ]
}