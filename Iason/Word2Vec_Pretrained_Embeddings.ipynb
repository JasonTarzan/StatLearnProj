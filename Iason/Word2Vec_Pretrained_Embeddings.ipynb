{
  "nbformat": 4,
  "nbformat_minor": 0,
  "metadata": {
    "kernelspec": {
      "display_name": "Python 3",
      "language": "python",
      "name": "python3"
    },
    "language_info": {
      "codemirror_mode": {
        "name": "ipython",
        "version": 3
      },
      "file_extension": ".py",
      "mimetype": "text/x-python",
      "name": "python",
      "nbconvert_exporter": "python",
      "pygments_lexer": "ipython3",
      "version": "3.7.1"
    },
    "colab": {
      "name": "Word2Vec_Pretrained_Embeddings.ipynb",
      "provenance": [],
      "include_colab_link": true
    },
    "accelerator": "GPU"
  },
  "cells": [
    {
      "cell_type": "markdown",
      "metadata": {
        "id": "view-in-github",
        "colab_type": "text"
      },
      "source": [
        "<a href=\"https://colab.research.google.com/github/anilkeshwani/StatLearnProj/blob/master/Iason/Word2Vec_Pretrained_Embeddings.ipynb\" target=\"_parent\"><img src=\"https://colab.research.google.com/assets/colab-badge.svg\" alt=\"Open In Colab\"/></a>"
      ]
    },
    {
      "cell_type": "code",
      "metadata": {
        "id": "mNXLvV_FHko8",
        "colab_type": "code",
        "colab": {}
      },
      "source": [
        "%%capture\n",
        "!apt install -qq enchant\n",
        "!pip install pyenchant\n",
        "!pip install emoji \n",
        "import nltk\n",
        "nltk.download('stopwords')"
      ],
      "execution_count": 14,
      "outputs": []
    },
    {
      "cell_type": "code",
      "metadata": {
        "id": "lCHXQvRGGdya",
        "colab_type": "code",
        "colab": {}
      },
      "source": [
        "import pandas as pd\n",
        "import numpy as np\n",
        "import json\n",
        "import random\n",
        "from tqdm import tqdm,tqdm_notebook\n",
        "import enchant\n",
        "from nltk import everygrams\n",
        "\n",
        "import matplotlib.pyplot as plt\n",
        "%matplotlib inline\n",
        "\n",
        "from sklearn.preprocessing import MaxAbsScaler,MinMaxScaler\n",
        "from sklearn.model_selection import train_test_split,GridSearchCV,KFold,RandomizedSearchCV\n",
        "from sklearn.metrics import classification_report,confusion_matrix,accuracy_score,precision_score,recall_score,f1_score,make_scorer,fbeta_score\n",
        "from sklearn.metrics import average_precision_score,plot_precision_recall_curve,precision_recall_curve\n",
        "from sklearn.metrics import roc_auc_score,roc_curve, auc\n",
        "\n",
        "from scipy.stats import randint as sp_randint\n",
        "from scipy.stats import uniform as sp_uniform\n",
        "\n",
        "from sklearn.decomposition import PCA\n",
        "\n",
        "from gensim.models import KeyedVectors, Word2Vec\n",
        "import gensim.downloader as api\n",
        "\n",
        "from sklearn.linear_model import LogisticRegression"
      ],
      "execution_count": 2,
      "outputs": []
    },
    {
      "cell_type": "code",
      "metadata": {
        "id": "SGnYrmF-IbAY",
        "colab_type": "code",
        "colab": {}
      },
      "source": [
        "# Clean Text Class\n",
        "\n",
        "\n",
        "import csv  # for slang\n",
        "import os\n",
        "import re  # regex\n",
        "import string  # punct\n",
        "import numpy as np\n",
        "import pandas as pd\n",
        "import emoji  # for emoji\n",
        "import nltk\n",
        "import sklearn\n",
        "from gensim.models import Word2Vec\n",
        "\n",
        "from nltk.corpus import stopwords  # stopwords\n",
        "from nltk.stem import PorterStemmer,SnowballStemmer  # stemming\n",
        "from nltk.stem.wordnet import WordNetLemmatizer\n",
        "from nltk.tokenize import word_tokenize\n",
        "from sklearn.base import BaseEstimator, TransformerMixin\n",
        "\n",
        "\n",
        "\n",
        "class CleanText(BaseEstimator, TransformerMixin):\n",
        "    \n",
        "    def remove_mentions(self, input_text):\n",
        "        '''\n",
        "        Remove mentions, like @Mplamplampla\n",
        "        '''\n",
        "        return re.sub(r'@+', '', input_text)\n",
        "    \n",
        "    def remove_urls(self, input_text):\n",
        "        '''\n",
        "        Remove the urls mention in a tweet\n",
        "        '''\n",
        "        input_text  = ' '.join([w for w in input_text.split(' ') if '.com' not in w])\n",
        "        return re.sub(r'http.?://[^\\s]+[\\s]?', '', input_text)\n",
        "    \n",
        "    def emoji_oneword(self, input_text):\n",
        "        # By compressing the underscore, the emoji is kept as one word\n",
        "        input_text = emoji.demojize(input_text)\n",
        "        input_text = input_text.replace('_','')\n",
        "        input_text = input_text.replace(':','')\n",
        "        return input_text\n",
        "    \n",
        "    def possessive_pronouns(self, input_text):\n",
        "        '''\n",
        "        Remove the possesive pronouns, because otherwise after tokenization we will end up with a word and an s\n",
        "        Example: government's --> [\"government\", \"s\"]\n",
        "        '''\n",
        "        return input_text.replace(\"'s\", \"\")\n",
        "    \n",
        "    def characters(self, input_text):\n",
        "        '''\n",
        "        Remove special and redundant characters that may appear on a tweet and that don't really help in our analysis\n",
        "        '''\n",
        "        input_text = input_text.replace(\"\\r\", \" \") # Carriage Return\n",
        "        input_text = input_text.replace(\"\\n\", \" \") # Newline\n",
        "        input_text = \" \".join(input_text.split()) # Double space\n",
        "        input_text = input_text.replace('\"', '') # Quotes\n",
        "        return input_text\n",
        "    \n",
        "    def remove_punctuation(self, input_text):\n",
        "        '''\n",
        "        Remove punctuation and specifically these symbols '!\"#$%&\\'()*+,-./:;<=>?@[\\\\]^_`{|}~'\n",
        "        '''\n",
        "        punct = string.punctuation # string with all the punctuation symbols '!\"#$%&\\'()*+,-./:;<=>?@[\\\\]^_`{|}~'\n",
        "        trantab = str.maketrans(punct, len(punct)*' ')  # Every punctuation symbol will be replaced by a space\n",
        "        return input_text.translate(trantab)\n",
        "    \n",
        "    def remove_digits(self, input_text):\n",
        "        '''\n",
        "        Remove numbers\n",
        "        '''\n",
        "        return re.sub('\\d+', '', input_text)\n",
        "    \n",
        "    def to_lower(self, input_text):\n",
        "        '''\n",
        "        Convert all the sentences(words) to lowercase\n",
        "        '''\n",
        "        return input_text.lower()\n",
        "    \n",
        "    def remove_stopwords(self, input_text):\n",
        "        '''\n",
        "        Remove stopwords (refers to the most common words in a language)\n",
        "        '''\n",
        "        stopwords_list = stopwords.words('english')\n",
        "        # Some words which might indicate a certain sentiment are kept via a whitelist\n",
        "        whitelist = [\"n't\", \"not\", \"no\"]\n",
        "        words = input_text.split() \n",
        "        clean_words = [word for word in words if (word not in stopwords_list or word in whitelist) and len(word) > 1] \n",
        "        return \" \".join(clean_words) \n",
        "    \n",
        "    def stemming(self, input_text):\n",
        "        '''\n",
        "        Reduce the words to their stem\n",
        "        '''\n",
        "        porter = PorterStemmer()\n",
        "        words = input_text.split() \n",
        "        stemmed_words = [porter.stem(word) for word in words]\n",
        "        return \" \".join(stemmed_words)\n",
        "    \n",
        "    def encode_decode(self, input_text):\n",
        "        '''\n",
        "        Remove weird characters that are result of encoding problems\n",
        "        '''\n",
        "        return  \" \".join([k.encode(\"ascii\", \"ignore\").decode() for k in input_text.split(\" \")])\n",
        "    \n",
        "    \n",
        "    def translator(self, input_text):\n",
        "        '''\n",
        "        Transform abbrevations to normal words\n",
        "        Example: asap --> as soon as possible\n",
        "        '''\n",
        "        input_text = input_text.split(\" \")\n",
        "        j = 0\n",
        "        for _str in input_text:\n",
        "            # File path which consists of Abbreviations.\n",
        "            fileName = r\"slang.txt\"\n",
        "            # File Access mode [Read Mode]\n",
        "            accessMode = \"r\"\n",
        "            with open(fileName, accessMode) as myCSVfile:\n",
        "                # Reading file as CSV with delimiter as \"=\", so that \n",
        "                # abbreviation are stored in row[0] and phrases in row[1]\n",
        "                dataFromFile = csv.reader(myCSVfile, delimiter=\"=\")\n",
        "                # Removing Special Characters.\n",
        "                _str = re.sub('[^a-zA-Z0-9-_.]', '', _str)\n",
        "                for row in dataFromFile:\n",
        "                    # Check if selected word matches short forms[LHS] in text file.\n",
        "                    if _str.upper() == row[0]:\n",
        "                        # If match found replace it with its appropriate phrase in text file.\n",
        "                        input_text[j] = row[1]\n",
        "                myCSVfile.close()\n",
        "            j = j + 1\n",
        "        \n",
        "        return(' '.join(input_text))\n",
        "    \n",
        "    def fit(self, X, y=None, **fit_params):\n",
        "        return self\n",
        "    \n",
        "    def transform(self, X, **transform_params):\n",
        "        clean_X = (X.apply(self.translator)\n",
        "                    .apply(self.remove_mentions)\n",
        "                    .apply(self.remove_urls)\n",
        "                    .apply(self.emoji_oneword)\n",
        "                    .apply(self.possessive_pronouns)\n",
        "                    .apply(self.remove_punctuation)\n",
        "                    .apply(self.remove_digits)\n",
        "                    .apply(self.encode_decode)\n",
        "                    .apply(self.characters)\n",
        "                    .apply(self.to_lower)\n",
        "                    .apply(self.remove_stopwords)\n",
        "                    .apply(self.stemming))\n",
        "        return clean_X\n",
        "    \n",
        "    def transform_no_stem(self, X, **transform_params):\n",
        "        clean_X = (X.apply(self.translator)\n",
        "                    .apply(self.remove_mentions)\n",
        "                    .apply(self.remove_urls)\n",
        "                    .apply(self.emoji_oneword)\n",
        "                    .apply(self.possessive_pronouns)\n",
        "                    .apply(self.remove_punctuation)\n",
        "                    .apply(self.remove_digits)\n",
        "                    .apply(self.encode_decode)\n",
        "                    .apply(self.characters)\n",
        "                    .apply(self.to_lower)\n",
        "                    .apply(self.remove_stopwords))\n",
        "        return clean_X"
      ],
      "execution_count": 15,
      "outputs": []
    },
    {
      "cell_type": "code",
      "metadata": {
        "id": "6uDdNomuGdys",
        "colab_type": "code",
        "colab": {
          "base_uri": "https://localhost:8080/",
          "height": 206
        },
        "outputId": "faf8e62e-1312-4182-dd58-d646ad563fec"
      },
      "source": [
        "tweets = pd.read_csv('https://github.com/anilkeshwani/StatLearnProj/raw/master/Iason/climate_change_tweets_sample-2020-05-16-17-57.csv')\n",
        "tweets.head()"
      ],
      "execution_count": 6,
      "outputs": [
        {
          "output_type": "execute_result",
          "data": {
            "text/html": [
              "<div>\n",
              "<style scoped>\n",
              "    .dataframe tbody tr th:only-of-type {\n",
              "        vertical-align: middle;\n",
              "    }\n",
              "\n",
              "    .dataframe tbody tr th {\n",
              "        vertical-align: top;\n",
              "    }\n",
              "\n",
              "    .dataframe thead th {\n",
              "        text-align: right;\n",
              "    }\n",
              "</style>\n",
              "<table border=\"1\" class=\"dataframe\">\n",
              "  <thead>\n",
              "    <tr style=\"text-align: right;\">\n",
              "      <th></th>\n",
              "      <th>username</th>\n",
              "      <th>user_handle</th>\n",
              "      <th>date</th>\n",
              "      <th>retweets</th>\n",
              "      <th>favorites</th>\n",
              "      <th>text</th>\n",
              "      <th>label</th>\n",
              "    </tr>\n",
              "  </thead>\n",
              "  <tbody>\n",
              "    <tr>\n",
              "      <th>0</th>\n",
              "      <td>WWF Climate &amp; Energy</td>\n",
              "      <td>climateWWF</td>\n",
              "      <td>2020-04-28</td>\n",
              "      <td>11</td>\n",
              "      <td>22</td>\n",
              "      <td>Economic recovery and national climate pledges...</td>\n",
              "      <td>0</td>\n",
              "    </tr>\n",
              "    <tr>\n",
              "      <th>1</th>\n",
              "      <td>WWF Climate &amp; Energy</td>\n",
              "      <td>climateWWF</td>\n",
              "      <td>2020-04-22</td>\n",
              "      <td>6</td>\n",
              "      <td>16</td>\n",
              "      <td>In this difficult time, it’s hard to connect w...</td>\n",
              "      <td>0</td>\n",
              "    </tr>\n",
              "    <tr>\n",
              "      <th>2</th>\n",
              "      <td>WWF Climate &amp; Energy</td>\n",
              "      <td>climateWWF</td>\n",
              "      <td>2020-04-01</td>\n",
              "      <td>43</td>\n",
              "      <td>69</td>\n",
              "      <td>The decision to postpone # COP26, is unavoidab...</td>\n",
              "      <td>0</td>\n",
              "    </tr>\n",
              "    <tr>\n",
              "      <th>3</th>\n",
              "      <td>WWF Climate &amp; Energy</td>\n",
              "      <td>climateWWF</td>\n",
              "      <td>2020-03-30</td>\n",
              "      <td>24</td>\n",
              "      <td>30</td>\n",
              "      <td>Japan - the world’s fifth largest emitter of g...</td>\n",
              "      <td>0</td>\n",
              "    </tr>\n",
              "    <tr>\n",
              "      <th>4</th>\n",
              "      <td>WWF Climate &amp; Energy</td>\n",
              "      <td>climateWWF</td>\n",
              "      <td>2020-03-30</td>\n",
              "      <td>22</td>\n",
              "      <td>40</td>\n",
              "      <td>How can countries include # NatureBasedSolutio...</td>\n",
              "      <td>0</td>\n",
              "    </tr>\n",
              "  </tbody>\n",
              "</table>\n",
              "</div>"
            ],
            "text/plain": [
              "               username  ... label\n",
              "0  WWF Climate & Energy  ...     0\n",
              "1  WWF Climate & Energy  ...     0\n",
              "2  WWF Climate & Energy  ...     0\n",
              "3  WWF Climate & Energy  ...     0\n",
              "4  WWF Climate & Energy  ...     0\n",
              "\n",
              "[5 rows x 7 columns]"
            ]
          },
          "metadata": {
            "tags": []
          },
          "execution_count": 6
        }
      ]
    },
    {
      "cell_type": "code",
      "metadata": {
        "id": "TIkRyTCeGdy_",
        "colab_type": "code",
        "colab": {
          "base_uri": "https://localhost:8080/",
          "height": 206
        },
        "outputId": "7cd055df-22dc-48df-98a9-2c32c2f1f475"
      },
      "source": [
        "clean_text = CleanText()\n",
        "tweets[\"text\"] = clean_text.transform_no_stem(tweets.text)\n",
        "tweets = tweets.loc[(~tweets.text.isnull()), :]\n",
        "tweets.head()"
      ],
      "execution_count": 16,
      "outputs": [
        {
          "output_type": "execute_result",
          "data": {
            "text/html": [
              "<div>\n",
              "<style scoped>\n",
              "    .dataframe tbody tr th:only-of-type {\n",
              "        vertical-align: middle;\n",
              "    }\n",
              "\n",
              "    .dataframe tbody tr th {\n",
              "        vertical-align: top;\n",
              "    }\n",
              "\n",
              "    .dataframe thead th {\n",
              "        text-align: right;\n",
              "    }\n",
              "</style>\n",
              "<table border=\"1\" class=\"dataframe\">\n",
              "  <thead>\n",
              "    <tr style=\"text-align: right;\">\n",
              "      <th></th>\n",
              "      <th>username</th>\n",
              "      <th>user_handle</th>\n",
              "      <th>date</th>\n",
              "      <th>retweets</th>\n",
              "      <th>favorites</th>\n",
              "      <th>text</th>\n",
              "      <th>label</th>\n",
              "    </tr>\n",
              "  </thead>\n",
              "  <tbody>\n",
              "    <tr>\n",
              "      <th>0</th>\n",
              "      <td>WWF Climate &amp; Energy</td>\n",
              "      <td>climateWWF</td>\n",
              "      <td>2020-04-28</td>\n",
              "      <td>11</td>\n",
              "      <td>22</td>\n",
              "      <td>economic recovery national climate pledges mus...</td>\n",
              "      <td>0</td>\n",
              "    </tr>\n",
              "    <tr>\n",
              "      <th>1</th>\n",
              "      <td>WWF Climate &amp; Energy</td>\n",
              "      <td>climateWWF</td>\n",
              "      <td>2020-04-22</td>\n",
              "      <td>6</td>\n",
              "      <td>16</td>\n",
              "      <td>difficult time hard connect natural world eart...</td>\n",
              "      <td>0</td>\n",
              "    </tr>\n",
              "    <tr>\n",
              "      <th>2</th>\n",
              "      <td>WWF Climate &amp; Energy</td>\n",
              "      <td>climateWWF</td>\n",
              "      <td>2020-04-01</td>\n",
              "      <td>43</td>\n",
              "      <td>69</td>\n",
              "      <td>decision postpone cop unavoidable collective p...</td>\n",
              "      <td>0</td>\n",
              "    </tr>\n",
              "    <tr>\n",
              "      <th>3</th>\n",
              "      <td>WWF Climate &amp; Energy</td>\n",
              "      <td>climateWWF</td>\n",
              "      <td>2020-03-30</td>\n",
              "      <td>24</td>\n",
              "      <td>30</td>\n",
              "      <td>japan worlds fifth largest emitter greenhouse ...</td>\n",
              "      <td>0</td>\n",
              "    </tr>\n",
              "    <tr>\n",
              "      <th>4</th>\n",
              "      <td>WWF Climate &amp; Energy</td>\n",
              "      <td>climateWWF</td>\n",
              "      <td>2020-03-30</td>\n",
              "      <td>22</td>\n",
              "      <td>40</td>\n",
              "      <td>countries include naturebasedsolutions climate...</td>\n",
              "      <td>0</td>\n",
              "    </tr>\n",
              "  </tbody>\n",
              "</table>\n",
              "</div>"
            ],
            "text/plain": [
              "               username  ... label\n",
              "0  WWF Climate & Energy  ...     0\n",
              "1  WWF Climate & Energy  ...     0\n",
              "2  WWF Climate & Energy  ...     0\n",
              "3  WWF Climate & Energy  ...     0\n",
              "4  WWF Climate & Energy  ...     0\n",
              "\n",
              "[5 rows x 7 columns]"
            ]
          },
          "metadata": {
            "tags": []
          },
          "execution_count": 16
        }
      ]
    },
    {
      "cell_type": "markdown",
      "metadata": {
        "id": "wDiUyOIIGdzM",
        "colab_type": "text"
      },
      "source": [
        "#### Embedder"
      ]
    },
    {
      "cell_type": "code",
      "metadata": {
        "id": "dHwQIROJGdzP",
        "colab_type": "code",
        "colab": {
          "base_uri": "https://localhost:8080/",
          "height": 92
        },
        "outputId": "6eabeca7-fe73-4f8e-898f-99ba221fa594"
      },
      "source": [
        "model_emb = api.load('word2vec-google-news-300')"
      ],
      "execution_count": 17,
      "outputs": [
        {
          "output_type": "stream",
          "text": [
            "[==================================================] 100.0% 1662.8/1662.8MB downloaded\n"
          ],
          "name": "stdout"
        },
        {
          "output_type": "stream",
          "text": [
            "/usr/local/lib/python3.6/dist-packages/smart_open/smart_open_lib.py:254: UserWarning: This function is deprecated, use smart_open.open instead. See the migration notes for details: https://github.com/RaRe-Technologies/smart_open/blob/master/README.rst#migrating-to-the-new-open-function\n",
            "  'See the migration notes for details: %s' % _MIGRATION_NOTES_URL\n"
          ],
          "name": "stderr"
        }
      ]
    },
    {
      "cell_type": "code",
      "metadata": {
        "id": "tP80rYlhGdzZ",
        "colab_type": "code",
        "colab": {}
      },
      "source": [
        "unvectorizable = set()\n",
        "all_words = set()\n",
        "\n",
        "\n",
        "def Word2VectorizeTweet(tweet):\n",
        "    global all_words\n",
        "    global unvectorizable\n",
        "    \n",
        "    tweet_vector = np.zeros(shape=(300,), dtype=\"float32\")\n",
        "    n_vectorizable = 0\n",
        "    \n",
        "    for word in tweet.split():\n",
        "        try:\n",
        "#             print(f\"Adding {word} to word representation\")\n",
        "            tweet_vector = np.add(tweet_vector, model_emb.get_vector(word))\n",
        "            all_words.add(word)\n",
        "            n_vectorizable += 1\n",
        "        except KeyError:\n",
        "            d = enchant.Dict(\"en_US\")\n",
        "            words = [''.join(_ngram) for _ngram in everygrams(word) if d.check(''.join(_ngram)) and len(_ngram) > 1]\n",
        "            if len(words) == 0:\n",
        "                if word not in unvectorizable:\n",
        "                    #print(f\"Could not vectorize {word}\")\n",
        "                    unvectorizable.add(word)\n",
        "            else:\n",
        "                for w in words:\n",
        "                    try:\n",
        "                        tweet_vector = np.add(tweet_vector, model_emb.get_vector(w))\n",
        "                        all_words.add(w)\n",
        "                        n_vectorizable += 1\n",
        "                    except KeyError:  \n",
        "                        if w not in unvectorizable:\n",
        "                            #print(f\"Could not vectorize {w}\")\n",
        "                            unvectorizable.add(w)\n",
        "    return (tweet_vector/n_vectorizable)"
      ],
      "execution_count": 18,
      "outputs": []
    },
    {
      "cell_type": "code",
      "metadata": {
        "id": "F2BaujHmGdzj",
        "colab_type": "code",
        "colab": {
          "base_uri": "https://localhost:8080/",
          "height": 35
        },
        "outputId": "10762bd3-0e21-43ef-aece-69effa4355c6"
      },
      "source": [
        "tqdm.pandas(tqdm_notebook)\n",
        "tweets[\"FastText\"] = tweets.text.progress_apply(func=Word2VectorizeTweet)"
      ],
      "execution_count": 19,
      "outputs": [
        {
          "output_type": "stream",
          "text": [
            "100%|██████████| 18009/18009 [04:09<00:00, 72.19it/s] \n"
          ],
          "name": "stderr"
        }
      ]
    },
    {
      "cell_type": "code",
      "metadata": {
        "id": "6a-iJDDcGdzy",
        "colab_type": "code",
        "colab": {
          "base_uri": "https://localhost:8080/",
          "height": 55
        },
        "outputId": "591fef0b-5741-41a5-fa20-ee610fc61361"
      },
      "source": [
        "print(unvectorizable)"
      ],
      "execution_count": 20,
      "outputs": [
        {
          "output_type": "stream",
          "text": [
            "{'strophe', 'eike', 'scorner', 'to', 'siwi', 'luntz', 'ecol', 'rkyte', 'haler', 'gcb', 'fsc', 'pcd', 'sulphur', 'logiest', 'karoly', 'honer', 'yfp', 'demigoddess', 'aoc', 'cdu', 'olzak', 'niro', 'ceca', 'kyte', 'xis', 'womble', 'igcz', 'hods', 'vys', 'masc', 'tdsb', 'cbcns', 'lnp', 'rehi', 'chillings', 'agu', 'pseudos', 'fulfil', 'archaeology', 'wwfsg', 'unsdsn', 'nir', 'naki', 'lynda', 'irb', 'tve', 'dfm', 'wndgao', 'unsdg', 'chillest', 'wapo', 'glamour', 'intrans', 'zazzle', 'nra', 'kxl', 'boko', 'ssrc', 'geom', 'xrnyc', 'taus', 'cnns', 'waic', 'lizzo', 'vra', 'gaia', 'wos', 'fiu', 'rowel', 'vdu', 'sjcpbs', 'lour', 'seiu', 'wrko', 'lacier', 'lix', 'unep', 'kens', 'phis', 'aiagw', 'wlrn', 'seibt', 'sgp', 'zmkf', 'arggh', 'bryce', 'wfd', 'ezra', 'epw', 'cnni', 'of', 'wwfuk', 'isl', 'tvo', 'ruiz', 'hemmer', 'troys', 'puc', 'suzyji', 'plashed', 'and', 'unsg', 'lints', 'encl', 'btfo', 'snp', 'gurria', 'wmnf', 'brios', 'ubc', 'stria', 'pseud', 'analyses', 'legates', 'instr', 'iwd', 'oecd', 'pulkovo', 'tfw', 'kalw', 'brr', 'zika', 'nps', 'phds', 'gnd', 'pnwlng', 'xq', 'whd', 'kundu', 'raquel', 'wwd', 'nsc', 'yuge', 'wwfdg', 'wwfepo', 'prosy', 'facepalming', 'krazyvz', 'afec', 'wnd', 'olve', 'whm', 'qts', 'wwgdg', 'wjec', 'agw', 'dyk', 'ibd', 'viscus', 'maunder', 'djf', 'iamb', 'tmw', 'cruzs', 'snc', 'eph', 'iucn', 'opes', 'unhq', 'undp', 'ilea', 'ctn', 'strati', 'nro', 'wwfeu', 'neut', 'plash', 'eib', 'fnc', 'wwfs', 'egoistically', 'uwp', 'kys', 'araujo', 'canst', 'afneil', 'lvi', 'unsc', 'rcp', 'elev', 'macrons', 'pottiest', 'sdg', 'intoner', 'wmbd', 'cdmx', 'raiyna', 'cdp', 'ucd', 'woc', 'zs', 'rps', 'rooking', 'rggi', 'khda', 'djt', 'oho', 'ihg', 'wilful', 'ekko'}\n"
          ],
          "name": "stdout"
        }
      ]
    },
    {
      "cell_type": "code",
      "metadata": {
        "scrolled": true,
        "id": "McIdqIwkGdz8",
        "colab_type": "code",
        "colab": {
          "base_uri": "https://localhost:8080/",
          "height": 35
        },
        "outputId": "702d680c-8a88-4d49-ddc1-ce41f6109cc1"
      },
      "source": [
        "print(tweets.shape)"
      ],
      "execution_count": 21,
      "outputs": [
        {
          "output_type": "stream",
          "text": [
            "(18009, 8)\n"
          ],
          "name": "stdout"
        }
      ]
    },
    {
      "cell_type": "code",
      "metadata": {
        "id": "qDUfV2zKGd0E",
        "colab_type": "code",
        "colab": {
          "base_uri": "https://localhost:8080/",
          "height": 592
        },
        "outputId": "a4b2103c-45cf-4677-f404-c6f1f45f31db"
      },
      "source": [
        "plt.figure(figsize=(14, 10))\n",
        "\n",
        "res = random.sample(range(1, len(all_words)), 20) \n",
        "\n",
        "vocab = model_emb[all_words]\n",
        "pca = PCA(n_components=2)\n",
        "pca_results = pca.fit_transform(vocab)\n",
        "\n",
        "plt.scatter(pca_results[res, 0], pca_results[res, 1])\n",
        "\n",
        "words = list(model_emb.vocab)\n",
        "\n",
        "for i, word in enumerate(words):\n",
        "    if i in res:\n",
        "        plt.annotate(word[:], xy=(pca_results[i, 0], pca_results[i, 1]))\n",
        "plt.show()"
      ],
      "execution_count": 22,
      "outputs": [
        {
          "output_type": "display_data",
          "data": {
            "image/png": "[encoded data removed]",
            "text/plain": [
              "<Figure size 1008x720 with 1 Axes>"
            ]
          },
          "metadata": {
            "tags": [],
            "needs_background": "light"
          }
        }
      ]
    },
    {
      "cell_type": "markdown",
      "metadata": {
        "id": "uAVqLapXGd0O",
        "colab_type": "text"
      },
      "source": [
        "#### Remove NaN"
      ]
    },
    {
      "cell_type": "code",
      "metadata": {
        "id": "9akylNynGd0Q",
        "colab_type": "code",
        "colab": {
          "base_uri": "https://localhost:8080/",
          "height": 54
        },
        "outputId": "6ddd3bf1-ffa4-4f0b-c20b-9ea628988e17"
      },
      "source": [
        "print(tweets.shape)\n",
        "tweets['FastTextNan'] = tweets['FastText']\n",
        "tweets['FastTextNan'] = np.array([k.tolist() for k in tweets.FastText.values]) \n",
        "print(tweets.shape)"
      ],
      "execution_count": 23,
      "outputs": [
        {
          "output_type": "stream",
          "text": [
            "(18009, 8)\n",
            "(18009, 9)\n"
          ],
          "name": "stdout"
        }
      ]
    },
    {
      "cell_type": "code",
      "metadata": {
        "id": "vQQCmgZXGd0W",
        "colab_type": "code",
        "colab": {
          "base_uri": "https://localhost:8080/",
          "height": 54
        },
        "outputId": "986093d5-494c-4e32-d483-9489a9feedf4"
      },
      "source": [
        "print(tweets.shape)\n",
        "\n",
        "tweets.dropna(inplace=True)\n",
        "\n",
        "print(tweets.shape)"
      ],
      "execution_count": 24,
      "outputs": [
        {
          "output_type": "stream",
          "text": [
            "(18009, 9)\n",
            "(18008, 9)\n"
          ],
          "name": "stdout"
        }
      ]
    },
    {
      "cell_type": "markdown",
      "metadata": {
        "id": "4WcAh9XwGd0f",
        "colab_type": "text"
      },
      "source": [
        "### Training of the Model"
      ]
    },
    {
      "cell_type": "code",
      "metadata": {
        "id": "uhG_Zs2KGd0i",
        "colab_type": "code",
        "colab": {}
      },
      "source": [
        "X = np.array([k.tolist() for k in tweets.FastText.values])\n",
        "\n",
        "X_train, X_test, y_train, y_test = train_test_split(X, tweets.label.values, \n",
        "                                                    test_size=0.2, random_state=17, \n",
        "                                                    shuffle=True) # explicit default\n",
        "\n",
        "#[print(dat[:3], dat.shape, end=\"\\n\"*2) for dat in [X_train, X_test, y_train, y_test]];\n",
        "\n"
      ],
      "execution_count": 25,
      "outputs": []
    },
    {
      "cell_type": "code",
      "metadata": {
        "id": "rDeeSq1FGd0p",
        "colab_type": "code",
        "colab": {
          "base_uri": "https://localhost:8080/",
          "height": 35
        },
        "outputId": "63029645-ff96-4891-b14e-9aef29dbde4e"
      },
      "source": [
        "X_train.shape"
      ],
      "execution_count": 26,
      "outputs": [
        {
          "output_type": "execute_result",
          "data": {
            "text/plain": [
              "(14406, 300)"
            ]
          },
          "metadata": {
            "tags": []
          },
          "execution_count": 26
        }
      ]
    },
    {
      "cell_type": "code",
      "metadata": {
        "id": "YBuANEQOGd0w",
        "colab_type": "code",
        "colab": {
          "base_uri": "https://localhost:8080/",
          "height": 109
        },
        "outputId": "c1c72fd3-4706-4ac3-b9e7-1f41379c9b07"
      },
      "source": [
        "params = {'C':1, 'max_iter':1000, 'multi_class' :\"ovr\", 'solver':'saga'}\n",
        "\n",
        "\n",
        "model = LogisticRegression(**params) # use all CPUs\n",
        "\n",
        "model.fit(X_train, y_train)"
      ],
      "execution_count": 27,
      "outputs": [
        {
          "output_type": "execute_result",
          "data": {
            "text/plain": [
              "LogisticRegression(C=1, class_weight=None, dual=False, fit_intercept=True,\n",
              "                   intercept_scaling=1, l1_ratio=None, max_iter=1000,\n",
              "                   multi_class='ovr', n_jobs=None, penalty='l2',\n",
              "                   random_state=None, solver='saga', tol=0.0001, verbose=0,\n",
              "                   warm_start=False)"
            ]
          },
          "metadata": {
            "tags": []
          },
          "execution_count": 27
        }
      ]
    },
    {
      "cell_type": "code",
      "metadata": {
        "id": "YqiKkwkvGd03",
        "colab_type": "code",
        "colab": {
          "base_uri": "https://localhost:8080/",
          "height": 127
        },
        "outputId": "128616d0-2ddf-41b5-e516-ce2a6f41626a"
      },
      "source": [
        "pred = model.predict(X_test)\n",
        "\n",
        "accuracy = accuracy_score(y_test,pred)\n",
        "precision = precision_score(y_test,pred)\n",
        "recall = recall_score(y_test,pred)\n",
        "f0_5 = fbeta_score(y_test,pred,beta=0.5)\n",
        "f1 = f1_score(y_test,pred)\n",
        "f2 = fbeta_score(y_test,pred,beta=2)\n",
        "\n",
        "print('Accuracy: {}'.format(round(accuracy,4)))\n",
        "print('Precision: {}'.format(round(precision,4)))\n",
        "print('Recall: {}'.format(round(recall,4)))\n",
        "print('F0_5_score: {}'.format(round(f0_5,4)))\n",
        "print('F1_score: {}'.format(round(f1,4)))\n",
        "print('F2_score: {}'.format(round(f2,4)))"
      ],
      "execution_count": 28,
      "outputs": [
        {
          "output_type": "stream",
          "text": [
            "Accuracy: 0.8584\n",
            "Precision: 0.8814\n",
            "Recall: 0.8798\n",
            "F0_5_score: 0.8811\n",
            "F1_score: 0.8806\n",
            "F2_score: 0.8801\n"
          ],
          "name": "stdout"
        }
      ]
    },
    {
      "cell_type": "code",
      "metadata": {
        "id": "JHlHptWDGd0_",
        "colab_type": "code",
        "colab": {
          "base_uri": "https://localhost:8080/",
          "height": 313
        },
        "outputId": "32fb7044-4ac5-4adf-f9b8-914f22fda71d"
      },
      "source": [
        "y_score = model.predict_proba(X_test)[:, 1]\n",
        "average_precision = average_precision_score(y_test, y_score)\n",
        "\n",
        "print('Average precision-recall score: {0:0.2f}'.format(\n",
        "      average_precision))\n",
        "\n",
        "fig, axes = plt.subplots(figsize=(12,4),nrows=1,ncols=2)\n",
        "disp = plot_precision_recall_curve(model, X_test, y_test,ax=axes[0])\n",
        "disp.ax_.set_title('2-class Precision-Recall curve: '\n",
        "                   'AP={0:0.2f}'.format(average_precision))\n",
        "axes[0].legend(loc=\"upper right\")\n",
        "\n",
        "\n",
        "fpr, tpr, _ = roc_curve(y_test, y_score)\n",
        "roc_auc = auc(fpr, tpr)\n",
        "\n",
        "#plt.figure()\n",
        "lw = 2\n",
        "axes[1].plot(fpr, tpr, color='darkorange',lw=lw, label='ROC curve (area = %0.2f)' % roc_auc)\n",
        "axes[1].plot([0, 1], [0, 1], color='navy', lw=lw, linestyle='--')\n",
        "axes[1].set_xlim([0.0, 1.0])\n",
        "axes[1].set_ylim([0.0, 1.05])\n",
        "axes[1].set_xlabel('False Positive Rate')\n",
        "axes[1].set_ylabel('True Positive Rate')\n",
        "axes[1].set_title('Receiver Operating Characteristic Curve')\n",
        "axes[1].legend(loc=\"lower right\")\n",
        "plt.show()"
      ],
      "execution_count": 29,
      "outputs": [
        {
          "output_type": "stream",
          "text": [
            "Average precision-recall score: 0.94\n"
          ],
          "name": "stdout"
        },
        {
          "output_type": "display_data",
          "data": {
            "image/png": "[encoded data removed]",
            "text/plain": [
              "<Figure size 864x288 with 2 Axes>"
            ]
          },
          "metadata": {
            "tags": [],
            "needs_background": "light"
          }
        }
      ]
    },
    {
      "cell_type": "code",
      "metadata": {
        "id": "BWewqKaRGd1F",
        "colab_type": "code",
        "colab": {}
      },
      "source": [
        ""
      ],
      "execution_count": null,
      "outputs": []
    },
    {
      "cell_type": "code",
      "metadata": {
        "id": "3TuKHIs5Gd1L",
        "colab_type": "code",
        "colab": {}
      },
      "source": [
        ""
      ],
      "execution_count": null,
      "outputs": []
    }
  ]
}