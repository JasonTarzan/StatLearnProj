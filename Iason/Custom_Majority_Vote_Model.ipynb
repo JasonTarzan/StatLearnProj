{
 "cells": [
  {
   "cell_type": "code",
   "execution_count": 1,
   "metadata": {},
   "outputs": [],
   "source": [
    "####import libraries\n",
    "\n",
    "import pandas as pd\n",
    "import numpy as np\n",
    "from operator import itemgetter\n",
    "\n",
    "import matplotlib.pyplot as plt\n",
    "%matplotlib inline\n",
    "import seaborn as sns\n",
    "from tqdm import tqdm_notebook\n",
    "\n",
    "from sklearn.feature_extraction.text import CountVectorizer, TfidfVectorizer\n",
    "from sklearn.preprocessing import MaxAbsScaler,MinMaxScaler\n",
    "from sklearn.model_selection import train_test_split,KFold,GridSearchCV\n",
    "from sklearn.metrics import classification_report,confusion_matrix,accuracy_score,precision_score,recall_score,f1_score,make_scorer,fbeta_score\n",
    "from sklearn.metrics import average_precision_score,plot_precision_recall_curve,precision_recall_curve\n",
    "from sklearn.metrics import roc_auc_score,roc_curve, auc, brier_score_loss\n",
    "\n",
    "from sklearn.linear_model import LogisticRegression\n",
    "from sklearn.naive_bayes import MultinomialNB\n",
    "from sklearn.svm import SVC\n",
    "from sklearn.ensemble import RandomForestClassifier,VotingClassifier,StackingClassifier\n",
    "import catboost as cb\n",
    "import clean_text as ct"
   ]
  },
  {
   "cell_type": "markdown",
   "metadata": {},
   "source": [
    "#### Dataset import and some quick exploration"
   ]
  },
  {
   "cell_type": "code",
   "execution_count": 2,
   "metadata": {},
   "outputs": [
    {
     "data": {
      "text/html": [
       "<div>\n",
       "<style scoped>\n",
       "    .dataframe tbody tr th:only-of-type {\n",
       "        vertical-align: middle;\n",
       "    }\n",
       "\n",
       "    .dataframe tbody tr th {\n",
       "        vertical-align: top;\n",
       "    }\n",
       "\n",
       "    .dataframe thead th {\n",
       "        text-align: right;\n",
       "    }\n",
       "</style>\n",
       "<table border=\"1\" class=\"dataframe\">\n",
       "  <thead>\n",
       "    <tr style=\"text-align: right;\">\n",
       "      <th></th>\n",
       "      <th>username</th>\n",
       "      <th>user_handle</th>\n",
       "      <th>date</th>\n",
       "      <th>retweets</th>\n",
       "      <th>favorites</th>\n",
       "      <th>text</th>\n",
       "      <th>label</th>\n",
       "    </tr>\n",
       "  </thead>\n",
       "  <tbody>\n",
       "    <tr>\n",
       "      <th>0</th>\n",
       "      <td>WWF Climate &amp; Energy</td>\n",
       "      <td>climateWWF</td>\n",
       "      <td>2020-04-28</td>\n",
       "      <td>11</td>\n",
       "      <td>22</td>\n",
       "      <td>Economic recovery and national climate pledges...</td>\n",
       "      <td>0</td>\n",
       "    </tr>\n",
       "    <tr>\n",
       "      <th>1</th>\n",
       "      <td>WWF Climate &amp; Energy</td>\n",
       "      <td>climateWWF</td>\n",
       "      <td>2020-04-22</td>\n",
       "      <td>6</td>\n",
       "      <td>16</td>\n",
       "      <td>In this difficult time, it’s hard to connect w...</td>\n",
       "      <td>0</td>\n",
       "    </tr>\n",
       "    <tr>\n",
       "      <th>2</th>\n",
       "      <td>WWF Climate &amp; Energy</td>\n",
       "      <td>climateWWF</td>\n",
       "      <td>2020-04-01</td>\n",
       "      <td>43</td>\n",
       "      <td>69</td>\n",
       "      <td>The decision to postpone # COP26, is unavoidab...</td>\n",
       "      <td>0</td>\n",
       "    </tr>\n",
       "    <tr>\n",
       "      <th>3</th>\n",
       "      <td>WWF Climate &amp; Energy</td>\n",
       "      <td>climateWWF</td>\n",
       "      <td>2020-03-30</td>\n",
       "      <td>24</td>\n",
       "      <td>30</td>\n",
       "      <td>Japan - the world’s fifth largest emitter of g...</td>\n",
       "      <td>0</td>\n",
       "    </tr>\n",
       "    <tr>\n",
       "      <th>4</th>\n",
       "      <td>WWF Climate &amp; Energy</td>\n",
       "      <td>climateWWF</td>\n",
       "      <td>2020-03-30</td>\n",
       "      <td>22</td>\n",
       "      <td>40</td>\n",
       "      <td>How can countries include # NatureBasedSolutio...</td>\n",
       "      <td>0</td>\n",
       "    </tr>\n",
       "  </tbody>\n",
       "</table>\n",
       "</div>"
      ],
      "text/plain": [
       "               username user_handle        date retweets favorites  \\\n",
       "0  WWF Climate & Energy  climateWWF  2020-04-28       11        22   \n",
       "1  WWF Climate & Energy  climateWWF  2020-04-22        6        16   \n",
       "2  WWF Climate & Energy  climateWWF  2020-04-01       43        69   \n",
       "3  WWF Climate & Energy  climateWWF  2020-03-30       24        30   \n",
       "4  WWF Climate & Energy  climateWWF  2020-03-30       22        40   \n",
       "\n",
       "                                                text  label  \n",
       "0  Economic recovery and national climate pledges...      0  \n",
       "1  In this difficult time, it’s hard to connect w...      0  \n",
       "2  The decision to postpone # COP26, is unavoidab...      0  \n",
       "3  Japan - the world’s fifth largest emitter of g...      0  \n",
       "4  How can countries include # NatureBasedSolutio...      0  "
      ]
     },
     "execution_count": 2,
     "metadata": {},
     "output_type": "execute_result"
    }
   ],
   "source": [
    "tweets = pd.read_csv('climate_change_tweets_sample-2020-05-16-17-57.csv')\n",
    "tweets.head()"
   ]
  },
  {
   "cell_type": "code",
   "execution_count": 3,
   "metadata": {},
   "outputs": [],
   "source": [
    "clean_text = ct.CleanText()\n",
    "tweets[\"text\"] = clean_text.fit_transform(tweets.text)\n",
    "tweets = tweets.loc[(~tweets.text.isnull()), :]"
   ]
  },
  {
   "cell_type": "code",
   "execution_count": 4,
   "metadata": {},
   "outputs": [],
   "source": [
    "#tweets.to_csv(\"clean_tweets.csv\",index=False) # save once processed\n",
    "# tweets = pd.read_csv(\"clean_tweets.csv\")\n",
    "# tweets.head()"
   ]
  },
  {
   "cell_type": "code",
   "execution_count": 5,
   "metadata": {},
   "outputs": [
    {
     "data": {
      "image/png": "[encoded data removed]",
      "text/plain": [
       "<Figure size 864x360 with 2 Axes>"
      ]
     },
     "metadata": {
      "needs_background": "light"
     },
     "output_type": "display_data"
    }
   ],
   "source": [
    "# Data to plot\n",
    "fig, ax = plt.subplots(figsize=(12,5),nrows=1,ncols=2)\n",
    "\n",
    "labels = 'Supporters', 'Deniers'\n",
    "sizes = len(tweets.label.values[tweets.label.values==0]),len(tweets.label.values[tweets.label.values==1])\n",
    "colors = ['lightskyblue','lightcoral']\n",
    "explode = (0.1, 0)  # explode 1st slice\n",
    "\n",
    "# Plot\n",
    "ax[0].pie(sizes, explode=explode, labels=labels, colors=colors,\n",
    "autopct='%1.1f%%', shadow=True, startangle=140)\n",
    "\n",
    "ax[0].axis('equal')\n",
    "\n",
    "\n",
    "labels, counts = np.unique(tweets.label.values, return_counts=True)\n",
    "ax[1].bar(labels, counts, align='center',color='#607c8e',alpha=0.8)\n",
    "ax[1].set_xticks(labels)\n",
    "ax[1].grid()\n",
    "\n",
    "\n",
    "plt.show()"
   ]
  },
  {
   "cell_type": "code",
   "execution_count": 6,
   "metadata": {},
   "outputs": [],
   "source": [
    "X_train, X_test, y_train, y_test = train_test_split(tweets.text, tweets.label, \n",
    "                                                    test_size=0.2, random_state=17, \n",
    "                                                    shuffle=True) # explicit default"
   ]
  },
  {
   "cell_type": "markdown",
   "metadata": {},
   "source": [
    "###### Bag-Of-Words and Scaling"
   ]
  },
  {
   "cell_type": "markdown",
   "metadata": {},
   "source": [
    "![BagOfWords](https://www.novuslight.com/uploads/n/BagofWords.jpg)"
   ]
  },
  {
   "cell_type": "code",
   "execution_count": 7,
   "metadata": {},
   "outputs": [],
   "source": [
    "#Bigrams representation (1,2)\n",
    "BOW_vectorizer = CountVectorizer(stop_words = 'english', \n",
    "                                 binary=True, \n",
    "                                 ngram_range=(1,2),            \n",
    "                                 min_df = 10)\n",
    "\n",
    "BOW_vectorizer.fit(X_train)\n",
    "BOW_train = BOW_vectorizer.transform(X_train)\n",
    "BOW_test = BOW_vectorizer.transform(X_test)\n",
    "\n",
    "\n",
    "#### BE CAREFUL!!!! ####\n",
    "scaler_BOW = MaxAbsScaler()  ####<-- For BOW scaling is reduntant, but I do it in matters of consistency.\n",
    "\n",
    "X_train = scaler_BOW.fit_transform(BOW_train)\n",
    "X_test = scaler_BOW.transform(BOW_test)"
   ]
  },
  {
   "cell_type": "code",
   "execution_count": 8,
   "metadata": {},
   "outputs": [],
   "source": [
    "class Majority_vote():\n",
    "    \"\"\"\n",
    "    averaging all models\n",
    "    \"\"\"\n",
    "    def __init__(self,models,threshold=None):\n",
    "        self.base_models = models\n",
    "        if threshold:\n",
    "            self.threshold = threshold\n",
    "        else:\n",
    "            self.threshold = 0.5\n",
    "              \n",
    "    \n",
    "    def fit(self,X_train,y_train):\n",
    "        for model in self.base_models:       \n",
    "            model.fit(X_train,y_train)\n",
    "\n",
    "    def predict_score(self,X):\n",
    "        s = []\n",
    "        for k,model in enumerate(self.base_models):\n",
    "            pred = model.predict_proba(X)[:,1]\n",
    "            s.append(pred)\n",
    "        s = np.array(s)\n",
    "        return(np.sum(s,axis=0)/len(self.base_models))\n",
    "    \n",
    "    def predict(self,X):\n",
    "        score = self.predict_score(X)\n",
    "        pred = np.zeros(X.shape[0])\n",
    "        pred[score>=self.threshold] = 1\n",
    "        return pred"
   ]
  },
  {
   "cell_type": "markdown",
   "metadata": {},
   "source": [
    "![dd](https://miro.medium.com/max/700/1*EekXroXi99N05jcskdPsIg.png)"
   ]
  },
  {
   "cell_type": "code",
   "execution_count": 9,
   "metadata": {},
   "outputs": [],
   "source": [
    "estimators = [RandomForestClassifier(**{'bootstrap': True,'max_depth': None,'max_features': 'log2',\n",
    "                                        'min_samples_leaf': 1,'min_samples_split': 10,'n_estimators': 300,\n",
    "                                        'random_state':17}),\n",
    "              SVC(**{'C': 100, 'gamma': 0.001, 'kernel': 'rbf','probability':True,'random_state':17}),\n",
    "              LogisticRegression(**{'C':1,'max_iter':1000, 'multi_class':\"ovr\", 'solver':\"saga\",'random_state':17}),\n",
    "              cb.CatBoostClassifier(**{\"border_count\": 200, \"depth\": 6, \"l2_leaf_reg\": 10,\n",
    "                                       \"learning_rate\": 0.3, \"n_estimators\": 1000,'verbose':0,'random_state':17})]"
   ]
  },
  {
   "cell_type": "code",
   "execution_count": 10,
   "metadata": {},
   "outputs": [],
   "source": [
    "# kfcv = KFold(n_splits=3,shuffle=True,random_state=101)"
   ]
  },
  {
   "cell_type": "code",
   "execution_count": 11,
   "metadata": {},
   "outputs": [
    {
     "name": "stderr",
     "output_type": "stream",
     "text": [
      "c:\\users\\jason\\anaconda3\\envs\\sl\\lib\\site-packages\\ipykernel_launcher.py:4: TqdmDeprecationWarning: This function will be removed in tqdm==5.0.0\n",
      "Please use `tqdm.notebook.tqdm` instead of `tqdm.tqdm_notebook`\n",
      "  after removing the cwd from sys.path.\n"
     ]
    },
    {
     "data": {
      "application/vnd.jupyter.widget-view+json": {
       "model_id": "5bfb268cb85b43d8b25a20489e2a7783",
       "version_major": 2,
       "version_minor": 0
      },
      "text/plain": [
       "HBox(children=(FloatProgress(value=0.0, max=5.0), HTML(value='')))"
      ]
     },
     "metadata": {},
     "output_type": "display_data"
    },
    {
     "name": "stdout",
     "output_type": "stream",
     "text": [
      "\n"
     ]
    }
   ],
   "source": [
    "# best = 0\n",
    "# threshold = 0.5\n",
    "\n",
    "# for t in tqdm_notebook([0.4,0.45,0.5,0.55,0.6]):\n",
    "\n",
    "#     score_accuracy = []\n",
    "#     for train_index, val_index in kfcv.split(X_train,y_train):\n",
    "#         XX_train, XX_val = X_train[train_index], X_train[val_index]\n",
    "#         yy_train, yy_val = y_train.values[train_index], y_train.values[val_index]\n",
    "#         clf = Majority_vote(estimators,threshold=t)\n",
    "#         clf.fit(XX_train,yy_train)\n",
    "#         pred = clf.predict(XX_val)\n",
    "#         accuracy = accuracy_score(yy_val,pred)\n",
    "#         score_accuracy.append(accuracy)\n",
    "        \n",
    "#     if np.mean(score_accuracy) >= best:\n",
    "#         best = np.mean(score_accuracy)\n",
    "#         threshold = t"
   ]
  },
  {
   "cell_type": "code",
   "execution_count": 12,
   "metadata": {},
   "outputs": [
    {
     "name": "stdout",
     "output_type": "stream",
     "text": [
      "0.911778913573528\n",
      "0.55\n"
     ]
    }
   ],
   "source": [
    "# print(best)\n",
    "# print(threshold)"
   ]
  },
  {
   "cell_type": "code",
   "execution_count": 13,
   "metadata": {},
   "outputs": [],
   "source": [
    "# clf = Majority_vote(estimators,threshold=threshold)\n",
    "# clf.fit(X_train,y_train)"
   ]
  },
  {
   "cell_type": "code",
   "execution_count": 14,
   "metadata": {},
   "outputs": [],
   "source": [
    "def plot_figure(X,y,clf):\n",
    "    '''Plots Precision-Recall & ROC curves'''\n",
    "\n",
    "    y_score = clf.predict_score(X)\n",
    "    average_precision = average_precision_score(y, y_score)\n",
    "\n",
    "    print('Average precision-recall score: {0:0.2f}'.format(\n",
    "          average_precision))\n",
    "\n",
    "\n",
    "\n",
    "\n",
    "    fpr, tpr, _ = roc_curve(y, y_score)\n",
    "    roc_auc = auc(fpr, tpr)\n",
    "\n",
    "    #plt.figure()\n",
    "    lw = 2\n",
    "    plt.plot(fpr, tpr, color='darkorange',lw=lw, label='ROC curve (area = %0.2f)' % roc_auc)\n",
    "    plt.plot([0, 1], [0, 1], color='navy', lw=lw, linestyle='--')\n",
    "    plt.xlim([0.0, 1.0])\n",
    "    plt.ylim([0.0, 1.05])\n",
    "    plt.xlabel('False Positive Rate')\n",
    "    plt.ylabel('True Positive Rate')\n",
    "    plt.title('Receiver Operating Characteristic Curve')\n",
    "    plt.legend(loc=\"lower right\")\n",
    "    plt.grid()\n",
    "    \n",
    "    plt.show()"
   ]
  },
  {
   "cell_type": "code",
   "execution_count": 15,
   "metadata": {},
   "outputs": [
    {
     "name": "stdout",
     "output_type": "stream",
     "text": [
      "#######################\n",
      "\n",
      "Accuracy: 0.9203\n",
      "Precision: 0.9376\n",
      "Recall: 0.9275\n",
      "F1_score: 0.9325\n",
      "F2_score: 0.9295\n",
      "F5_score: 0.9279\n",
      "AUC_score: 0.9741\n",
      "1-Brier_score: 0.9396\n",
      "\n",
      "#######################\n",
      "\n",
      "Average precision-recall score: 0.98\n"
     ]
    },
    {
     "data": {
      "image/png": "[encoded data removed]",
      "text/plain": [
       "<Figure size 432x288 with 1 Axes>"
      ]
     },
     "metadata": {
      "needs_background": "light"
     },
     "output_type": "display_data"
    }
   ],
   "source": [
    "pred = clf.predict(X_test)\n",
    "accuracy = accuracy_score(y_test,pred)\n",
    "precision = precision_score(y_test,pred)\n",
    "recall = recall_score(y_test,pred)\n",
    "f1 = f1_score(y_test,pred)\n",
    "f2 = fbeta_score(y_test,pred,beta=2)\n",
    "f5 = fbeta_score(y_test,pred,beta=5)\n",
    "y_score = clf.predict_score(X_test)\n",
    "auc_score = roc_auc_score(y_test,y_score)\n",
    "brier_score = brier_score_loss(y_test, y_score)\n",
    "\n",
    "\n",
    "print('#######################\\n')\n",
    "print('Accuracy: {}'.format(round(accuracy,4)))\n",
    "print('Precision: {}'.format(round(precision,4)))\n",
    "print('Recall: {}'.format(round(recall,4)))\n",
    "print('F1_score: {}'.format(round(f1,4)))\n",
    "print('F2_score: {}'.format(round(f2,4)))\n",
    "print('F5_score: {}'.format(round(f5,4)))\n",
    "print('AUC_score: {}'.format(round(auc_score,4)))\n",
    "print('1-Brier_score: {}'.format(round(1-brier_score,4)))\n",
    "print()\n",
    "print('#######################\\n')\n",
    "\n",
    "\n",
    "plot_figure(X_test,y_test,clf)"
   ]
  },
  {
   "cell_type": "code",
   "execution_count": 16,
   "metadata": {},
   "outputs": [
    {
     "name": "stdout",
     "output_type": "stream",
     "text": [
      "#######################\n",
      "\n",
      "Accuracy: 0.9217\n",
      "Precision: 0.928\n",
      "Recall: 0.9411\n",
      "F1_score: 0.9345\n",
      "F2_score: 0.9384\n",
      "F5_score: 0.9406\n",
      "AUC_score: 0.9741\n",
      "1-Brier_score: 0.9396\n",
      "\n",
      "#######################\n",
      "\n",
      "Average precision-recall score: 0.98\n"
     ]
    },
    {
     "data": {
      "image/png": "[encoded data removed]",
      "text/plain": [
       "<Figure size 432x288 with 1 Axes>"
      ]
     },
     "metadata": {
      "needs_background": "light"
     },
     "output_type": "display_data"
    }
   ],
   "source": [
    "clf = Majority_vote(estimators)\n",
    "clf.fit(X_train,y_train)\n",
    "\n",
    "pred = clf.predict(X_test)\n",
    "accuracy = accuracy_score(y_test,pred)\n",
    "precision = precision_score(y_test,pred)\n",
    "recall = recall_score(y_test,pred)\n",
    "f1 = f1_score(y_test,pred)\n",
    "f2 = fbeta_score(y_test,pred,beta=2)\n",
    "f5 = fbeta_score(y_test,pred,beta=5)\n",
    "y_score = clf.predict_score(X_test)\n",
    "auc_score = roc_auc_score(y_test,y_score)\n",
    "brier_score = brier_score_loss(y_test, y_score)\n",
    "\n",
    "\n",
    "print('#######################\\n')\n",
    "print('Accuracy: {}'.format(round(accuracy,4)))\n",
    "print('Precision: {}'.format(round(precision,4)))\n",
    "print('Recall: {}'.format(round(recall,4)))\n",
    "print('F1_score: {}'.format(round(f1,4)))\n",
    "print('F2_score: {}'.format(round(f2,4)))\n",
    "print('F5_score: {}'.format(round(f5,4)))\n",
    "print('AUC_score: {}'.format(round(auc_score,4)))\n",
    "print('1-Brier_score: {}'.format(round(1-brier_score,4)))\n",
    "print()\n",
    "print('#######################\\n')\n",
    "\n",
    "\n",
    "plot_figure(X_test,y_test,clf)"
   ]
  },
  {
   "cell_type": "code",
   "execution_count": null,
   "metadata": {},
   "outputs": [],
   "source": []
  }
 ],
 "metadata": {
  "kernelspec": {
   "display_name": "Python 3",
   "language": "python",
   "name": "python3"
  },
  "language_info": {
   "codemirror_mode": {
    "name": "ipython",
    "version": 3
   },
   "file_extension": ".py",
   "mimetype": "text/x-python",
   "name": "python",
   "nbconvert_exporter": "python",
   "pygments_lexer": "ipython3",
   "version": "3.7.1"
  }
 },
 "nbformat": 4,
 "nbformat_minor": 4
}
