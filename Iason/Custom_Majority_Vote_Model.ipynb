{
 "cells": [
  {
   "cell_type": "code",
   "execution_count": 1,
   "metadata": {},
   "outputs": [],
   "source": [
    "####import libraries\n",
    "\n",
    "import pandas as pd\n",
    "import numpy as np\n",
    "from operator import itemgetter\n",
    "\n",
    "import matplotlib.pyplot as plt\n",
    "%matplotlib inline\n",
    "import seaborn as sns\n",
    "\n",
    "from sklearn.feature_extraction.text import CountVectorizer, TfidfVectorizer\n",
    "from sklearn.preprocessing import MaxAbsScaler,MinMaxScaler\n",
    "from sklearn.model_selection import train_test_split,KFold\n",
    "from sklearn.metrics import classification_report,confusion_matrix,accuracy_score,precision_score,recall_score,f1_score,make_scorer,fbeta_score\n",
    "from sklearn.metrics import average_precision_score,plot_precision_recall_curve,precision_recall_curve\n",
    "from sklearn.metrics import roc_auc_score,roc_curve, auc, brier_score_loss\n",
    "\n",
    "from sklearn.linear_model import LogisticRegression\n",
    "from sklearn.naive_bayes import MultinomialNB\n",
    "from sklearn.svm import SVC\n",
    "from sklearn.ensemble import RandomForestClassifier,VotingClassifier,StackingClassifier\n",
    "import catboost as cb\n",
    "import clean_text as ct"
   ]
  },
  {
   "cell_type": "markdown",
   "metadata": {},
   "source": [
    "#### Dataset import and some quick exploration"
   ]
  },
  {
   "cell_type": "code",
   "execution_count": 2,
   "metadata": {},
   "outputs": [],
   "source": [
    "# tweets = pd.read_csv('climate_change_tweets_sample-2020-05-16-17-57.csv')\n",
    "# tweets.head()"
   ]
  },
  {
   "cell_type": "code",
   "execution_count": 3,
   "metadata": {},
   "outputs": [],
   "source": [
    "# clean_text = ct.CleanText()\n",
    "# tweets[\"text\"] = clean_text.fit_transform(tweets.text)\n",
    "# tweets.to_csv(\"clean_tweets.csv\") # save once processed"
   ]
  },
  {
   "cell_type": "code",
   "execution_count": 4,
   "metadata": {},
   "outputs": [
    {
     "data": {
      "text/html": [
       "<div>\n",
       "<style scoped>\n",
       "    .dataframe tbody tr th:only-of-type {\n",
       "        vertical-align: middle;\n",
       "    }\n",
       "\n",
       "    .dataframe tbody tr th {\n",
       "        vertical-align: top;\n",
       "    }\n",
       "\n",
       "    .dataframe thead th {\n",
       "        text-align: right;\n",
       "    }\n",
       "</style>\n",
       "<table border=\"1\" class=\"dataframe\">\n",
       "  <thead>\n",
       "    <tr style=\"text-align: right;\">\n",
       "      <th></th>\n",
       "      <th>Unnamed: 0</th>\n",
       "      <th>username</th>\n",
       "      <th>user_handle</th>\n",
       "      <th>date</th>\n",
       "      <th>retweets</th>\n",
       "      <th>favorites</th>\n",
       "      <th>text</th>\n",
       "      <th>label</th>\n",
       "    </tr>\n",
       "  </thead>\n",
       "  <tbody>\n",
       "    <tr>\n",
       "      <th>0</th>\n",
       "      <td>0</td>\n",
       "      <td>WWF Climate &amp; Energy</td>\n",
       "      <td>climateWWF</td>\n",
       "      <td>2020-04-28</td>\n",
       "      <td>11</td>\n",
       "      <td>22</td>\n",
       "      <td>econom recoveri nation climat pledg must desig...</td>\n",
       "      <td>0</td>\n",
       "    </tr>\n",
       "    <tr>\n",
       "      <th>1</th>\n",
       "      <td>1</td>\n",
       "      <td>WWF Climate &amp; Energy</td>\n",
       "      <td>climateWWF</td>\n",
       "      <td>2020-04-22</td>\n",
       "      <td>6</td>\n",
       "      <td>16</td>\n",
       "      <td>difficult time hard connect natur world earthd...</td>\n",
       "      <td>0</td>\n",
       "    </tr>\n",
       "    <tr>\n",
       "      <th>2</th>\n",
       "      <td>2</td>\n",
       "      <td>WWF Climate &amp; Energy</td>\n",
       "      <td>climateWWF</td>\n",
       "      <td>2020-04-01</td>\n",
       "      <td>43</td>\n",
       "      <td>69</td>\n",
       "      <td>decis postpon cop unavoid collect prioriti mus...</td>\n",
       "      <td>0</td>\n",
       "    </tr>\n",
       "    <tr>\n",
       "      <th>3</th>\n",
       "      <td>3</td>\n",
       "      <td>WWF Climate &amp; Energy</td>\n",
       "      <td>climateWWF</td>\n",
       "      <td>2020-03-30</td>\n",
       "      <td>24</td>\n",
       "      <td>30</td>\n",
       "      <td>japan world fifth largest emitt greenhous gase...</td>\n",
       "      <td>0</td>\n",
       "    </tr>\n",
       "    <tr>\n",
       "      <th>4</th>\n",
       "      <td>4</td>\n",
       "      <td>WWF Climate &amp; Energy</td>\n",
       "      <td>climateWWF</td>\n",
       "      <td>2020-03-30</td>\n",
       "      <td>22</td>\n",
       "      <td>40</td>\n",
       "      <td>countri includ naturebasedsolut climat plan nd...</td>\n",
       "      <td>0</td>\n",
       "    </tr>\n",
       "  </tbody>\n",
       "</table>\n",
       "</div>"
      ],
      "text/plain": [
       "   Unnamed: 0              username user_handle        date retweets  \\\n",
       "0           0  WWF Climate & Energy  climateWWF  2020-04-28       11   \n",
       "1           1  WWF Climate & Energy  climateWWF  2020-04-22        6   \n",
       "2           2  WWF Climate & Energy  climateWWF  2020-04-01       43   \n",
       "3           3  WWF Climate & Energy  climateWWF  2020-03-30       24   \n",
       "4           4  WWF Climate & Energy  climateWWF  2020-03-30       22   \n",
       "\n",
       "  favorites                                               text  label  \n",
       "0        22  econom recoveri nation climat pledg must desig...      0  \n",
       "1        16  difficult time hard connect natur world earthd...      0  \n",
       "2        69  decis postpon cop unavoid collect prioriti mus...      0  \n",
       "3        30  japan world fifth largest emitt greenhous gase...      0  \n",
       "4        40  countri includ naturebasedsolut climat plan nd...      0  "
      ]
     },
     "execution_count": 4,
     "metadata": {},
     "output_type": "execute_result"
    }
   ],
   "source": [
    "tweets = pd.read_csv(\"clean_tweets.csv\") # read in instead\n",
    "tweets = tweets.loc[(~tweets.text.isnull()), :]\n",
    "tweets.head()"
   ]
  },
  {
   "cell_type": "code",
   "execution_count": 5,
   "metadata": {},
   "outputs": [
    {
     "data": {
      "image/png": "[encoded data removed]",
      "text/plain": [
       "<Figure size 864x360 with 2 Axes>"
      ]
     },
     "metadata": {
      "needs_background": "light"
     },
     "output_type": "display_data"
    }
   ],
   "source": [
    "# Data to plot\n",
    "fig, ax = plt.subplots(figsize=(12,5),nrows=1,ncols=2)\n",
    "\n",
    "labels = 'Supporters', 'Deniers'\n",
    "sizes = len(tweets.label.values[tweets.label.values==0]),len(tweets.label.values[tweets.label.values==1])\n",
    "colors = ['lightskyblue','lightcoral']\n",
    "explode = (0.1, 0)  # explode 1st slice\n",
    "\n",
    "# Plot\n",
    "ax[0].pie(sizes, explode=explode, labels=labels, colors=colors,\n",
    "autopct='%1.1f%%', shadow=True, startangle=140)\n",
    "\n",
    "ax[0].axis('equal')\n",
    "\n",
    "\n",
    "labels, counts = np.unique(tweets.label.values, return_counts=True)\n",
    "ax[1].bar(labels, counts, align='center',color='#607c8e',alpha=0.8)\n",
    "ax[1].set_xticks(labels)\n",
    "ax[1].grid()\n",
    "\n",
    "\n",
    "plt.show()"
   ]
  },
  {
   "cell_type": "code",
   "execution_count": 6,
   "metadata": {},
   "outputs": [],
   "source": [
    "X_train, X_test, y_train, y_test = train_test_split(tweets.text, tweets.label, \n",
    "                                                    test_size=0.2, random_state=17, \n",
    "                                                    shuffle=True) # explicit default"
   ]
  },
  {
   "cell_type": "markdown",
   "metadata": {},
   "source": [
    "###### Bag-Of-Words and Scaling"
   ]
  },
  {
   "cell_type": "markdown",
   "metadata": {},
   "source": [
    "![BagOfWords](https://www.novuslight.com/uploads/n/BagofWords.jpg)"
   ]
  },
  {
   "cell_type": "code",
   "execution_count": 7,
   "metadata": {},
   "outputs": [],
   "source": [
    "#Bigrams representation (1,2)\n",
    "BOW_vectorizer = CountVectorizer(stop_words = 'english', \n",
    "                                 binary=True, \n",
    "                                 ngram_range=(1,2),            \n",
    "                                 min_df = 10)\n",
    "\n",
    "BOW_vectorizer.fit(X_train)\n",
    "BOW_train = BOW_vectorizer.transform(X_train)\n",
    "BOW_test = BOW_vectorizer.transform(X_test)\n",
    "\n",
    "\n",
    "#### BE CAREFUL!!!! ####\n",
    "scaler_BOW = MaxAbsScaler()  ####<-- For BOW scaling is reduntant, but I do it in matters of consistency.\n",
    "\n",
    "X_train = scaler_BOW.fit_transform(BOW_train)\n",
    "X_test = scaler_BOW.transform(BOW_test)"
   ]
  },
  {
   "cell_type": "code",
   "execution_count": 8,
   "metadata": {},
   "outputs": [],
   "source": [
    "class Majority_vote():\n",
    "    \"\"\"\n",
    "    averaging all models\n",
    "    \"\"\"\n",
    "    def __init__(self,models,threshold=None):\n",
    "        self.base_models = models\n",
    "        if threshold:\n",
    "            self.threshold = threshold\n",
    "        self.threshold = 0.5\n",
    "              \n",
    "    \n",
    "    def fit(self,X_train,y_train):\n",
    "        for model in self.base_models:       \n",
    "            model.fit(X_train,y_train)\n",
    "\n",
    "    def predict_score(self,X):\n",
    "        s = []\n",
    "        for k,model in enumerate(self.base_models):\n",
    "            pred = model.predict_proba(X)[:,1]\n",
    "            s.append(pred)\n",
    "        s = np.array(s)\n",
    "        return(np.sum(s,axis=0)/len(self.base_models))\n",
    "    \n",
    "    def predict(self,X):\n",
    "        score = self.predict_score(X)\n",
    "        pred = np.zeros(X.shape[0])\n",
    "        pred[score>=self.threshold] = 1\n",
    "        return pred"
   ]
  },
  {
   "cell_type": "markdown",
   "metadata": {},
   "source": [
    "![dd](https://miro.medium.com/max/700/1*EekXroXi99N05jcskdPsIg.png)"
   ]
  },
  {
   "cell_type": "code",
   "execution_count": 9,
   "metadata": {},
   "outputs": [],
   "source": [
    "estimators = [RandomForestClassifier(n_estimators=10, random_state=42),\n",
    "              SVC(**{'C': 100, 'gamma': 0.001, 'kernel': 'rbf','probability':True}),\n",
    "              LogisticRegression(**{'C':1,'max_iter':1000, 'multi_class':\"ovr\", 'solver':\"saga\"}),\n",
    "              cb.CatBoostClassifier(**{\"border_count\": 20, \"depth\": 9, \"l2_leaf_reg\": 10,\n",
    "                                       \"learning_rate\": 0.3, \"n_estimators\": 1000,'verbose':0})]"
   ]
  },
  {
   "cell_type": "code",
   "execution_count": 10,
   "metadata": {},
   "outputs": [],
   "source": [
    "clf = Majority_vote(estimators)\n",
    "clf.fit(X_train,y_train)"
   ]
  },
  {
   "cell_type": "code",
   "execution_count": 11,
   "metadata": {},
   "outputs": [],
   "source": [
    "def plot_figure(X,y,clf):\n",
    "    '''Plots Precision-Recall & ROC curves'''\n",
    "\n",
    "    y_score = clf.predict_score(X)\n",
    "    average_precision = average_precision_score(y, y_score)\n",
    "\n",
    "    print('Average precision-recall score: {0:0.2f}'.format(\n",
    "          average_precision))\n",
    "\n",
    "\n",
    "\n",
    "\n",
    "    fpr, tpr, _ = roc_curve(y, y_score)\n",
    "    roc_auc = auc(fpr, tpr)\n",
    "\n",
    "    #plt.figure()\n",
    "    lw = 2\n",
    "    plt.plot(fpr, tpr, color='darkorange',lw=lw, label='ROC curve (area = %0.2f)' % roc_auc)\n",
    "    plt.plot([0, 1], [0, 1], color='navy', lw=lw, linestyle='--')\n",
    "    plt.xlim([0.0, 1.0])\n",
    "    plt.ylim([0.0, 1.05])\n",
    "    plt.xlabel('False Positive Rate')\n",
    "    plt.ylabel('True Positive Rate')\n",
    "    plt.title('Receiver Operating Characteristic Curve')\n",
    "    plt.legend(loc=\"lower right\")\n",
    "    plt.grid()\n",
    "    \n",
    "    plt.show()"
   ]
  },
  {
   "cell_type": "code",
   "execution_count": null,
   "metadata": {},
   "outputs": [
    {
     "name": "stdout",
     "output_type": "stream",
     "text": [
      "#######################\n",
      "\n",
      "Accuracy: 0.9167\n",
      "Precision: 0.9302\n",
      "Recall: 0.9294\n",
      "F1_score: 0.9298\n",
      "F2_score: 0.9295\n",
      "F5_score: 0.9294\n",
      "AUC_score: 0.9727\n",
      "1-Brier_score: 0.938\n",
      "\n",
      "#######################\n",
      "\n"
     ]
    }
   ],
   "source": [
    "pred = clf.predict(X_test)\n",
    "accuracy = accuracy_score(y_test,pred)\n",
    "precision = precision_score(y_test,pred)\n",
    "recall = recall_score(y_test,pred)\n",
    "f1 = f1_score(y_test,pred)\n",
    "f2 = fbeta_score(y_test,pred,beta=2)\n",
    "f5 = fbeta_score(y_test,pred,beta=5)\n",
    "y_score = clf.predict_score(X_test)\n",
    "auc_score = roc_auc_score(y_test,y_score)\n",
    "brier_score = brier_score_loss(y_test, y_score)\n",
    "\n",
    "\n",
    "print('#######################\\n')\n",
    "print('Accuracy: {}'.format(round(accuracy,4)))\n",
    "print('Precision: {}'.format(round(precision,4)))\n",
    "print('Recall: {}'.format(round(recall,4)))\n",
    "print('F1_score: {}'.format(round(f1,4)))\n",
    "print('F2_score: {}'.format(round(f2,4)))\n",
    "print('F5_score: {}'.format(round(f5,4)))\n",
    "print('AUC_score: {}'.format(round(auc_score,4)))\n",
    "print('1-Brier_score: {}'.format(round(1-brier_score,4)))\n",
    "print()\n",
    "print('#######################\\n')\n",
    "\n",
    "\n",
    "plot_figure(X_test,y_test,clf)"
   ]
  },
  {
   "cell_type": "code",
   "execution_count": null,
   "metadata": {},
   "outputs": [],
   "source": []
  }
 ],
 "metadata": {
  "kernelspec": {
   "display_name": "Python 3",
   "language": "python",
   "name": "python3"
  },
  "language_info": {
   "codemirror_mode": {
    "name": "ipython",
    "version": 3
   },
   "file_extension": ".py",
   "mimetype": "text/x-python",
   "name": "python",
   "nbconvert_exporter": "python",
   "pygments_lexer": "ipython3",
   "version": "3.7.1"
  }
 },
 "nbformat": 4,
 "nbformat_minor": 4
}
