{
 "cells": [
  {
   "cell_type": "code",
   "execution_count": 1,
   "metadata": {},
   "outputs": [],
   "source": [
    "import pandas as pd\n",
    "import numpy as np\n",
    "import re\n",
    "import csv\n",
    "import string\n",
    "\n",
    "import matplotlib.pyplot as plt\n",
    "%matplotlib inline\n",
    "\n",
    "import nltk\n",
    "from nltk.tokenize import word_tokenize \n",
    "from nltk.corpus import stopwords\n",
    "from nltk.stem.wordnet import WordNetLemmatizer\n",
    "from nltk.stem import PorterStemmer,SnowballStemmer\n",
    "\n",
    "from gensim.models import Word2Vec\n",
    "\n",
    "from sklearn.preprocessing import MaxAbsScaler,MinMaxScaler\n",
    "from sklearn.feature_extraction.text import TfidfVectorizer,CountVectorizer\n",
    "from sklearn.model_selection import train_test_split,GridSearchCV,KFold\n",
    "from sklearn.metrics import classification_report,confusion_matrix,accuracy_score,precision_score,recall_score,f1_score,make_scorer,fbeta_score\n",
    "from sklearn.metrics import average_precision_score,plot_precision_recall_curve,precision_recall_curve\n",
    "from sklearn.metrics import roc_auc_score,roc_curve, auc\n",
    "\n",
    "from sklearn.naive_bayes import MultinomialNB,GaussianNB\n",
    "from sklearn.neural_network import MLPClassifier\n",
    "from sklearn.ensemble import RandomForestClassifier,StackingClassifier, GradientBoostingClassifier,AdaBoostClassifier\n",
    "from sklearn.linear_model import LogisticRegression\n",
    "import xgboost as xgb\n",
    "import lightgbm as lgb\n",
    "from sklearn.discriminant_analysis import LinearDiscriminantAnalysis\n",
    "from sklearn.svm import LinearSVC"
   ]
  },
  {
   "cell_type": "code",
   "execution_count": 2,
   "metadata": {},
   "outputs": [],
   "source": [
    "#import tweets dataset \n",
    "df = pd.read_csv('climate_change_tweets_sample-2020-05-16-17-57.csv')"
   ]
  },
  {
   "cell_type": "code",
   "execution_count": 3,
   "metadata": {},
   "outputs": [
    {
     "data": {
      "text/plain": [
       "<matplotlib.axes._subplots.AxesSubplot at 0x7f00b1ea9f28>"
      ]
     },
     "execution_count": 3,
     "metadata": {},
     "output_type": "execute_result"
    },
    {
     "data": {
      "image/png": "[encoded data removed]",
      "text/plain": [
       "<Figure size 432x288 with 1 Axes>"
      ]
     },
     "metadata": {
      "needs_background": "light"
     },
     "output_type": "display_data"
    }
   ],
   "source": [
    "#show labels frequencies\n",
    "df['label'].plot.hist(grid=True, rwidth=0.9,color='#607c8e')"
   ]
  },
  {
   "cell_type": "code",
   "execution_count": 4,
   "metadata": {},
   "outputs": [],
   "source": [
    "tweets = df['text'].values\n",
    "labels = df['label'].values"
   ]
  },
  {
   "cell_type": "markdown",
   "metadata": {},
   "source": [
    "## TEXT PREPROCESSING"
   ]
  },
  {
   "cell_type": "code",
   "execution_count": 5,
   "metadata": {},
   "outputs": [
    {
     "data": {
      "text/plain": [
       "'EXCLUSIVE: Study Finds Temperature Adjustments Account For â€˜Nearly All Of The Warmingâ€™ In Climate Data http://dailycaller.com/2017/07/05/exclusive-study-finds-temperature-adjustments-account-for-nearly-all-of-the-warming-in-climate-data/?utm_source=site-share â€¦'"
      ]
     },
     "execution_count": 5,
     "metadata": {},
     "output_type": "execute_result"
    }
   ],
   "source": [
    "tweets[-5]"
   ]
  },
  {
   "cell_type": "code",
   "execution_count": 6,
   "metadata": {},
   "outputs": [
    {
     "data": {
      "text/plain": [
       "'EXCLUSIVE: Study Finds Temperature Adjustments Account For â€˜Nearly All Of The Warmingâ€™ In Climate Data â€¦'"
      ]
     },
     "execution_count": 6,
     "metadata": {},
     "output_type": "execute_result"
    }
   ],
   "source": [
    "#REMOVE web external_links\n",
    "tweets_short = np.array([' '.join([w for w in k.split(' ') if '.com' not in w]) for k in tweets])\n",
    "tweets_short[-5]"
   ]
  },
  {
   "cell_type": "code",
   "execution_count": 7,
   "metadata": {},
   "outputs": [
    {
     "data": {
      "text/plain": [
       "'EXCLUSIVE: Study Finds Temperature Adjustments Account For Nearly All Of The Warming In Climate Data '"
      ]
     },
     "execution_count": 7,
     "metadata": {},
     "output_type": "execute_result"
    }
   ],
   "source": [
    "#remove non-ASCII characters\n",
    "\n",
    "tweets_short = np.array([k.encode(\"ascii\", \"ignore\").decode() for k in tweets_short])\n",
    "tweets_short[-5]"
   ]
  },
  {
   "cell_type": "code",
   "execution_count": 8,
   "metadata": {},
   "outputs": [
    {
     "name": "stdout",
     "output_type": "stream",
     "text": [
      "EXAMPLE: asap ----> As Soon As Possible\n"
     ]
    }
   ],
   "source": [
    "def translator(user_string):\n",
    "    '''this function transforms abbrevations to normal words'''\n",
    "    user_string = user_string.split(\" \")\n",
    "    j = 0\n",
    "    for _str in user_string:\n",
    "        # File path which consists of Abbreviations.\n",
    "        fileName = \"slang.txt\"\n",
    "        # File Access mode [Read Mode]\n",
    "        accessMode = \"r\"\n",
    "        with open(fileName, accessMode) as myCSVfile:\n",
    "            # Reading file as CSV with delimiter as \"=\", so that abbreviation are stored in row[0] and phrases in row[1]\n",
    "            dataFromFile = csv.reader(myCSVfile, delimiter=\"=\")\n",
    "            # Removing Special Characters.\n",
    "            _str = re.sub('[^a-zA-Z0-9-_.]', '', _str)\n",
    "            for row in dataFromFile:\n",
    "                # Check if selected word matches short forms[LHS] in text file.\n",
    "                if _str.upper() == row[0]:\n",
    "                    # If match found replace it with its appropriate phrase in text file.\n",
    "                    user_string[j] = row[1]\n",
    "            myCSVfile.close()\n",
    "        j = j + 1\n",
    "    # Replacing commas with spaces for final output.\n",
    "#     print(' '.join(user_string))\n",
    "#     print('===================================================')\n",
    "#     print('')\n",
    "    return(' '.join(user_string))\n",
    "\n",
    "print('EXAMPLE: asap ----> {}'.format(translator('asap')))\n"
   ]
  },
  {
   "cell_type": "code",
   "execution_count": 9,
   "metadata": {},
   "outputs": [
    {
     "data": {
      "text/plain": [
       "'EXCLUSIVE: Study Finds Temperature Adjustments Account For Nearly All Of The Warming In Climate Data '"
      ]
     },
     "execution_count": 9,
     "metadata": {},
     "output_type": "execute_result"
    }
   ],
   "source": [
    "#ABBREVIATIONS FIX\n",
    "tweets_short = np.array([translator(k) for k in tweets_short])\n",
    "tweets_short[-5]"
   ]
  },
  {
   "cell_type": "code",
   "execution_count": 10,
   "metadata": {},
   "outputs": [
    {
     "data": {
      "text/plain": [
       "'exclusive: study finds temperature adjustments account for nearly all of the warming in climate data'"
      ]
     },
     "execution_count": 10,
     "metadata": {},
     "output_type": "execute_result"
    }
   ],
   "source": [
    "#TO LOWERCASE\n",
    "tweets_short = np.array([' '.join([ word.lower() for word in k.split() ]) for k in tweets_short]) \n",
    "tweets_short[-5]"
   ]
  },
  {
   "cell_type": "code",
   "execution_count": 11,
   "metadata": {},
   "outputs": [
    {
     "data": {
      "text/plain": [
       "'exclusive study finds temperature adjustments account for nearly all of the warming in climate data'"
      ]
     },
     "execution_count": 11,
     "metadata": {},
     "output_type": "execute_result"
    }
   ],
   "source": [
    "#KEEP ALPHA_NUMERIC ONLY\n",
    "tweets_short = np.array([\" \".join(w for w in nltk.wordpunct_tokenize(k) if w.isalnum() ) for k in tweets_short])\n",
    "tweets_short[-5]"
   ]
  },
  {
   "cell_type": "code",
   "execution_count": 12,
   "metadata": {},
   "outputs": [
    {
     "data": {
      "text/plain": [
       "'exclusive study finds temperature adjustments account for nearly all of the warming in climate data'"
      ]
     },
     "execution_count": 12,
     "metadata": {},
     "output_type": "execute_result"
    }
   ],
   "source": [
    "#DELETE PUNCTUATIONS\n",
    "tweets_short = np.array([''.join([w for w in k if w not in string.punctuation]) for k in tweets_short])\n",
    "tweets_short[-5]"
   ]
  },
  {
   "cell_type": "code",
   "execution_count": 13,
   "metadata": {
    "scrolled": true
   },
   "outputs": [
    {
     "data": {
      "text/plain": [
       "'exclusive study finds temperature adjustments account nearly warming climate data'"
      ]
     },
     "execution_count": 13,
     "metadata": {},
     "output_type": "execute_result"
    }
   ],
   "source": [
    "#REMOVE STOPWORDS\n",
    "stop = stopwords.words('english')\n",
    "\n",
    "tweets_short = np.array([' '.join([word for word in k.split() if word not in (stop)]) for k in tweets_short])\n",
    "tweets_short[-5]"
   ]
  },
  {
   "cell_type": "code",
   "execution_count": 14,
   "metadata": {},
   "outputs": [
    {
     "data": {
      "text/plain": [
       "'exclusive study find temperature adjustments account nearly warm climate data'"
      ]
     },
     "execution_count": 14,
     "metadata": {},
     "output_type": "execute_result"
    }
   ],
   "source": [
    "#LEMMATIZATION\n",
    "lmtzr = WordNetLemmatizer()\n",
    "tweets_short = np.array([' '.join([lmtzr.lemmatize(word,'v') for word in k.split() ]) for k in tweets_short])\n",
    "tweets_short[-5]"
   ]
  },
  {
   "cell_type": "code",
   "execution_count": 15,
   "metadata": {},
   "outputs": [],
   "source": [
    "# import spacy\n",
    "# # Load the spacy model that you have installed\n",
    "# nlp = spacy.load('en_core_web_md')\n",
    "# # process a sentence using the model\n",
    "# doc = nlp(\"This is some text that I am processing with Spacy\")\n",
    "# # It's that simple - all of the vectors and words are assigned after this point\n",
    "# # Get the vector for 'text':\n",
    "# doc[3].vector\n",
    "# # Get the mean vector for the entire sentence (useful for sentence classification etc.)\n",
    "# doc.vector"
   ]
  },
  {
   "cell_type": "code",
   "execution_count": 16,
   "metadata": {},
   "outputs": [],
   "source": [
    "# import spacy\n",
    "# # Load the spacy model that you have installed\n",
    "# nlp = spacy.load('en_core_web_md')\n",
    "\n",
    "# tweets_short = np.array([nlp(str(k)).vector for k in tweets_short])"
   ]
  },
  {
   "cell_type": "code",
   "execution_count": 17,
   "metadata": {},
   "outputs": [
    {
     "data": {
      "text/plain": [
       "'exclus studi find temperatur adjust account near warm climat data'"
      ]
     },
     "execution_count": 17,
     "metadata": {},
     "output_type": "execute_result"
    }
   ],
   "source": [
    "#STEMMING\n",
    "\n",
    "#stm = PorterStemmer()\n",
    "stm = SnowballStemmer('english')\n",
    "\n",
    "tweets_short = np.array([' '.join([stm.stem(word) for word in k.split() ]) for k in tweets_short])\n",
    "tweets_short[-5]"
   ]
  },
  {
   "cell_type": "code",
   "execution_count": 18,
   "metadata": {},
   "outputs": [],
   "source": [
    "#train_test split\n",
    "test_size = 0.3\n",
    "X_train, X_test, y_train, y_test = train_test_split(tweets_short,labels,test_size=test_size,shuffle=True,\n",
    "                                                   random_state=101)"
   ]
  },
  {
   "cell_type": "code",
   "execution_count": 19,
   "metadata": {},
   "outputs": [],
   "source": [
    "# import tensorflow.keras as K\n",
    "\n",
    "# vocab_size = 10000\n",
    "\n",
    "# tokens = K.preprocessing.text.Tokenizer(num_words=vocab_size)\n",
    "# tokens.fit_on_texts(X_train)\n",
    "\n",
    "# X_train = tokens.texts_to_matrix(X_train)\n",
    "# X_test = tokens.texts_to_matrix(X_test)\n"
   ]
  },
  {
   "cell_type": "code",
   "execution_count": 20,
   "metadata": {},
   "outputs": [],
   "source": [
    "#words vectorization\n",
    "\n",
    "vectorizer = CountVectorizer()\n",
    "#vectorizer = TfidfVectorizer()\n",
    "X_train = vectorizer.fit_transform(X_train)\n",
    "X_test = vectorizer.transform(X_test)"
   ]
  },
  {
   "cell_type": "code",
   "execution_count": 21,
   "metadata": {},
   "outputs": [],
   "source": [
    "#inputs scaling\n",
    "\n",
    "scaler = MaxAbsScaler()\n",
    "\n",
    "X_train = scaler.fit_transform(X_train)\n",
    "X_test = scaler.transform(X_test)"
   ]
  },
  {
   "cell_type": "markdown",
   "metadata": {},
   "source": [
    "## MODELS EVALUATION"
   ]
  },
  {
   "cell_type": "code",
   "execution_count": 22,
   "metadata": {},
   "outputs": [],
   "source": [
    "kfcv = KFold(n_splits=5,shuffle=True,random_state=101) #<--- 5-fold cross-validation"
   ]
  },
  {
   "cell_type": "markdown",
   "metadata": {},
   "source": [
    "### Logistic Regression"
   ]
  },
  {
   "cell_type": "code",
   "execution_count": 23,
   "metadata": {},
   "outputs": [
    {
     "name": "stdout",
     "output_type": "stream",
     "text": [
      "Fitting 5 folds for each of 21 candidates, totalling 105 fits\n"
     ]
    },
    {
     "name": "stderr",
     "output_type": "stream",
     "text": [
      "[Parallel(n_jobs=-1)]: Using backend LokyBackend with 4 concurrent workers.\n",
      "[Parallel(n_jobs=-1)]: Done  33 tasks      | elapsed:    2.4s\n",
      "[Parallel(n_jobs=-1)]: Done 105 out of 105 | elapsed:   13.1s finished\n"
     ]
    },
    {
     "name": "stdout",
     "output_type": "stream",
     "text": [
      "score: 0.9205\n",
      "Test set score : 0.929\n"
     ]
    }
   ],
   "source": [
    "param_grid = {\n",
    "    'penalty': ['l2'],\n",
    "    'C': [0,0.1,0.5,1,5,10,100],\n",
    "    'solver': ['lbfgs','liblinear','sag'],\n",
    "    'multi_class': ['ovr']\n",
    "}# Create a based model\n",
    "\n",
    "\n",
    "clf = LogisticRegression()# Instantiate the grid search model\n",
    "grid_search = GridSearchCV(estimator = clf, param_grid = param_grid, \n",
    "                           cv=kfcv,n_jobs = -1, verbose =2, scoring='accuracy')\n",
    "\n",
    "grid_search.fit(X_train,y_train)\n",
    "best_grid = grid_search.best_estimator_\n",
    "best_params = best_grid.get_params()\n",
    "print('score: {}'.format(round(grid_search.best_score_,4)))\n",
    "\n",
    "print(\"Test set score : {:.3f}\".format(accuracy_score(best_grid.predict(X_test), y_test)))"
   ]
  },
  {
   "cell_type": "markdown",
   "metadata": {},
   "source": [
    "### Random Forest"
   ]
  },
  {
   "cell_type": "code",
   "execution_count": 24,
   "metadata": {},
   "outputs": [
    {
     "name": "stdout",
     "output_type": "stream",
     "text": [
      "Fitting 5 folds for each of 1 candidates, totalling 5 fits\n"
     ]
    },
    {
     "name": "stderr",
     "output_type": "stream",
     "text": [
      "[Parallel(n_jobs=-1)]: Using backend LokyBackend with 4 concurrent workers.\n",
      "[Parallel(n_jobs=-1)]: Done   5 out of   5 | elapsed:   42.3s finished\n"
     ]
    },
    {
     "name": "stdout",
     "output_type": "stream",
     "text": [
      "score: 0.8993\n",
      "Test set score : 0.904\n"
     ]
    }
   ],
   "source": [
    "# param_grid = {\n",
    "#     'bootstrap': [True],\n",
    "#     'max_depth': [10,20,50],\n",
    "#     'max_features': [2,5,10],\n",
    "#     'min_samples_leaf': [5,10,15],\n",
    "#     'min_samples_split': [2,8, 12],\n",
    "#     'n_estimators': [100],\n",
    "#     'random_state':[101]\n",
    "# }# Create a based model\n",
    "\n",
    "param_grid = {}# Create a based model\n",
    "\n",
    "\n",
    "clf = RandomForestClassifier()# Instantiate the grid search model\n",
    "grid_search = GridSearchCV(estimator = clf, param_grid = param_grid, \n",
    "                           cv=kfcv,n_jobs = -1, verbose =2, scoring='accuracy')\n",
    "\n",
    "grid_search.fit(X_train,y_train)\n",
    "best_grid = grid_search.best_estimator_\n",
    "best_params = best_grid.get_params()\n",
    "print('score: {}'.format(round(grid_search.best_score_,4)))\n",
    "\n",
    "print(\"Test set score : {:.3f}\".format(accuracy_score(best_grid.predict(X_test), y_test)))"
   ]
  },
  {
   "cell_type": "markdown",
   "metadata": {},
   "source": [
    "### Multinomial Naive-Bayes"
   ]
  },
  {
   "cell_type": "code",
   "execution_count": 25,
   "metadata": {},
   "outputs": [
    {
     "name": "stdout",
     "output_type": "stream",
     "text": [
      "Fitting 5 folds for each of 1 candidates, totalling 5 fits\n",
      "score: 0.9135\n",
      "Test set score : 0.921\n"
     ]
    },
    {
     "name": "stderr",
     "output_type": "stream",
     "text": [
      "[Parallel(n_jobs=-1)]: Using backend LokyBackend with 4 concurrent workers.\n",
      "[Parallel(n_jobs=-1)]: Done   5 out of   5 | elapsed:    0.0s finished\n"
     ]
    }
   ],
   "source": [
    "param_grid = {}# Create a based model\n",
    "\n",
    "\n",
    "clf = MultinomialNB()\n",
    "grid_search = GridSearchCV(estimator = clf, param_grid = param_grid, \n",
    "                           cv=kfcv,n_jobs = -1, verbose =2, scoring='accuracy')\n",
    "\n",
    "grid_search.fit(X_train,y_train)\n",
    "best_grid = grid_search.best_estimator_\n",
    "best_params = best_grid.get_params()\n",
    "print('score: {}'.format(round(grid_search.best_score_,4)))\n",
    "\n",
    "print(\"Test set score : {:.3f}\".format(accuracy_score(best_grid.predict(X_test), y_test)))"
   ]
  },
  {
   "cell_type": "markdown",
   "metadata": {},
   "source": [
    "### AdaBoosting"
   ]
  },
  {
   "cell_type": "code",
   "execution_count": 26,
   "metadata": {},
   "outputs": [],
   "source": [
    "# param_grid = {}# Create a based model\n",
    "\n",
    "\n",
    "# clf = AdaBoostClassifier()\n",
    "# grid_search = GridSearchCV(estimator = clf, param_grid = param_grid, \n",
    "#                            cv=kfcv,n_jobs = -1, verbose =2, scoring='accuracy')\n",
    "\n",
    "# grid_search.fit(X_train,y_train)\n",
    "# best_grid = grid_search.best_estimator_\n",
    "# best_params = best_grid.get_params()\n",
    "# print('score: {}'.format(round(grid_search.best_score_,4)))\n",
    "\n",
    "# print(\"Test set score : {:.3f}\".format(accuracy_score(best_grid.predict(X_test), y_test)))"
   ]
  },
  {
   "cell_type": "markdown",
   "metadata": {},
   "source": [
    "### MLP"
   ]
  },
  {
   "cell_type": "code",
   "execution_count": 27,
   "metadata": {},
   "outputs": [],
   "source": [
    "# param_grid = {}# Create a based model\n",
    "\n",
    "\n",
    "# clf = MLPClassifier()\n",
    "# grid_search = GridSearchCV(estimator = clf, param_grid = param_grid, \n",
    "#                            cv=kfcv,n_jobs = -1, verbose =2, scoring='accuracy')\n",
    "\n",
    "# grid_search.fit(X_train,y_train)\n",
    "# best_grid = grid_search.best_estimator_\n",
    "# best_params = best_grid.get_params()\n",
    "# print('score: {}'.format(round(grid_search.best_score_,4)))\n",
    "\n",
    "# print(\"Test set score : {:.3f}\".format(accuracy_score(best_grid.predict(X_test), y_test)))"
   ]
  },
  {
   "cell_type": "markdown",
   "metadata": {},
   "source": [
    "### GradientBoosting"
   ]
  },
  {
   "cell_type": "code",
   "execution_count": 28,
   "metadata": {},
   "outputs": [],
   "source": [
    "# param_grid = {}# Create a based model\n",
    "\n",
    "\n",
    "# clf = GradientBoostingClassifier()\n",
    "# grid_search = GridSearchCV(estimator = clf, param_grid = param_grid, \n",
    "#                            cv=kfcv,n_jobs = -1, verbose =2, scoring='accuracy')\n",
    "\n",
    "# grid_search.fit(X_train,y_train)\n",
    "# best_grid = grid_search.best_estimator_\n",
    "# best_params = best_grid.get_params()\n",
    "# print('score: {}'.format(round(grid_search.best_score_,4)))\n",
    "\n",
    "# print(\"Test set score : {:.3f}\".format(accuracy_score(best_grid.predict(X_test), y_test)))"
   ]
  },
  {
   "cell_type": "markdown",
   "metadata": {},
   "source": [
    "### Linear SVM-Classifier"
   ]
  },
  {
   "cell_type": "code",
   "execution_count": 29,
   "metadata": {},
   "outputs": [
    {
     "name": "stdout",
     "output_type": "stream",
     "text": [
      "Fitting 5 folds for each of 1 candidates, totalling 5 fits\n"
     ]
    },
    {
     "name": "stderr",
     "output_type": "stream",
     "text": [
      "[Parallel(n_jobs=-1)]: Using backend LokyBackend with 4 concurrent workers.\n"
     ]
    },
    {
     "name": "stdout",
     "output_type": "stream",
     "text": [
      "score: 0.912\n",
      "Test set score : 0.920\n"
     ]
    },
    {
     "name": "stderr",
     "output_type": "stream",
     "text": [
      "[Parallel(n_jobs=-1)]: Done   5 out of   5 | elapsed:    0.4s finished\n"
     ]
    }
   ],
   "source": [
    "param_grid = {}# Create a based model\n",
    "\n",
    "\n",
    "clf = LinearSVC()\n",
    "grid_search = GridSearchCV(estimator = clf, param_grid = param_grid, \n",
    "                           cv=kfcv,n_jobs = -1, verbose =2, scoring='accuracy')\n",
    "\n",
    "grid_search.fit(X_train,y_train)\n",
    "best_grid = grid_search.best_estimator_\n",
    "best_params = best_grid.get_params()\n",
    "print('score: {}'.format(round(grid_search.best_score_,4)))\n",
    "\n",
    "print(\"Test set score : {:.3f}\".format(accuracy_score(best_grid.predict(X_test), y_test)))"
   ]
  },
  {
   "cell_type": "markdown",
   "metadata": {},
   "source": [
    "### XGBoosting"
   ]
  },
  {
   "cell_type": "code",
   "execution_count": 30,
   "metadata": {},
   "outputs": [],
   "source": [
    "# param_grid = {}# Create a based model\n",
    "\n",
    "# clf = xgb.XGBRFClassifier()\n",
    "# grid_search = GridSearchCV(estimator = clf, param_grid = param_grid, \n",
    "#                            cv=kfcv,n_jobs = -1, verbose =2, scoring='accuracy')\n",
    "\n",
    "# grid_search.fit(X_train,y_train)\n",
    "# best_grid = grid_search.best_estimator_\n",
    "# best_params = best_grid.get_params()\n",
    "# print('score: {}'.format(round(grid_search.best_score_,4)))\n",
    "\n",
    "\n",
    "# print(\"Test set score : {:.3f}\".format(accuracy_score(best_grid.predict(X_test), y_test)))"
   ]
  },
  {
   "cell_type": "markdown",
   "metadata": {},
   "source": [
    "### Gaussian Naive-Bayes"
   ]
  },
  {
   "cell_type": "code",
   "execution_count": 31,
   "metadata": {},
   "outputs": [],
   "source": [
    "# param_grid = {}\n",
    "\n",
    "# clf = GaussianNB()\n",
    "# grid_search = GridSearchCV(estimator = clf, param_grid = param_grid, \n",
    "#                            cv=kfcv,n_jobs = -1, verbose =2, scoring='accuracy')\n",
    "\n",
    "# grid_search.fit(X_train.toarray(),y_train)\n",
    "# best_grid = grid_search.best_estimator_\n",
    "# best_params = best_grid.get_params()\n",
    "# print('score: {}'.format(round(grid_search.best_score_,4)))\n",
    "\n",
    "# print(\"Test set score : {:.3f}\".format(accuracy_score(best_grid.predict(X_test.toarray()), y_test)))"
   ]
  },
  {
   "cell_type": "markdown",
   "metadata": {},
   "source": [
    "### LDA"
   ]
  },
  {
   "cell_type": "code",
   "execution_count": 32,
   "metadata": {},
   "outputs": [],
   "source": [
    "# param_grid = {}\n",
    "\n",
    "#clf = LinearDiscriminantAnalysis()\n",
    "# grid_search = GridSearchCV(estimator = clf, param_grid = param_grid, \n",
    "#                            cv=kfcv,n_jobs = -1, verbose =2, scoring='accuracy')\n",
    "\n",
    "\n",
    "# grid_search.fit(X_train,y_train)\n",
    "# best_grid = grid_search.best_estimator_\n",
    "# best_params = best_grid.get_params()\n",
    "# print('score: {}'.format(round(grid_search.best_score_,4)))\n",
    "\n",
    "# print(\"Test set score : {:.3f}\".format(accuracy_score(best_grid.predict(X_test.toarray()), y_test)))"
   ]
  },
  {
   "cell_type": "markdown",
   "metadata": {},
   "source": [
    "### LightGradientBoosting"
   ]
  },
  {
   "cell_type": "code",
   "execution_count": 33,
   "metadata": {},
   "outputs": [
    {
     "name": "stderr",
     "output_type": "stream",
     "text": [
      "[Parallel(n_jobs=-1)]: Using backend LokyBackend with 4 concurrent workers.\n"
     ]
    },
    {
     "name": "stdout",
     "output_type": "stream",
     "text": [
      "Fitting 5 folds for each of 1 candidates, totalling 5 fits\n"
     ]
    },
    {
     "name": "stderr",
     "output_type": "stream",
     "text": [
      "[Parallel(n_jobs=-1)]: Done   5 out of   5 | elapsed:    4.3s finished\n"
     ]
    },
    {
     "name": "stdout",
     "output_type": "stream",
     "text": [
      "score: 0.9027\n",
      "Test set score : 0.909\n"
     ]
    }
   ],
   "source": [
    "param_grid = {}\n",
    "\n",
    "clf = lgb.LGBMClassifier()\n",
    "grid_search = GridSearchCV(estimator = clf, param_grid = param_grid, \n",
    "                           cv=kfcv,n_jobs = -1, verbose =2, scoring='accuracy')\n",
    "\n",
    "grid_search.fit(X_train,y_train)\n",
    "best_grid = grid_search.best_estimator_\n",
    "best_params = best_grid.get_params()\n",
    "print('score: {}'.format(round(grid_search.best_score_,4)))\n",
    "\n",
    "print(\"Test set score : {:.3f}\".format(accuracy_score(best_grid.predict(X_test.toarray()), y_test)))"
   ]
  },
  {
   "cell_type": "markdown",
   "metadata": {},
   "source": [
    "### Stacked Model"
   ]
  },
  {
   "cell_type": "code",
   "execution_count": 34,
   "metadata": {},
   "outputs": [
    {
     "data": {
      "text/plain": [
       "StackingClassifier(cv=KFold(n_splits=5, random_state=101, shuffle=True),\n",
       "                   estimators=[('rf',\n",
       "                                RandomForestClassifier(bootstrap=True,\n",
       "                                                       ccp_alpha=0.0,\n",
       "                                                       class_weight=None,\n",
       "                                                       criterion='gini',\n",
       "                                                       max_depth=None,\n",
       "                                                       max_features='auto',\n",
       "                                                       max_leaf_nodes=None,\n",
       "                                                       max_samples=None,\n",
       "                                                       min_impurity_decrease=0.0,\n",
       "                                                       min_impurity_split=None,\n",
       "                                                       min_samples_leaf=1,\n",
       "                                                       min_samples_split=2,\n",
       "                                                       min_weight_fra...\n",
       "                                                   solver='lbfgs', tol=0.0001,\n",
       "                                                   verbose=0,\n",
       "                                                   warm_start=False))],\n",
       "                   final_estimator=LogisticRegression(C=1.0, class_weight=None,\n",
       "                                                      dual=False,\n",
       "                                                      fit_intercept=True,\n",
       "                                                      intercept_scaling=1,\n",
       "                                                      l1_ratio=None,\n",
       "                                                      max_iter=100,\n",
       "                                                      multi_class='auto',\n",
       "                                                      n_jobs=None, penalty='l2',\n",
       "                                                      random_state=None,\n",
       "                                                      solver='lbfgs',\n",
       "                                                      tol=0.0001, verbose=0,\n",
       "                                                      warm_start=False),\n",
       "                   n_jobs=-1, passthrough=False, stack_method='auto',\n",
       "                   verbose=0)"
      ]
     },
     "execution_count": 34,
     "metadata": {},
     "output_type": "execute_result"
    }
   ],
   "source": [
    "estimators = [\n",
    "     ('rf', RandomForestClassifier(n_estimators=10, random_state=42)),\n",
    "     ('svc',LinearSVC()),\n",
    "     ('NB',MultinomialNB()),\n",
    "     ('lgb',lgb.LGBMClassifier()),\n",
    "     ('log_reg',LogisticRegression())]\n",
    "clf = StackingClassifier(estimators=estimators, final_estimator= LogisticRegression(),cv=kfcv,n_jobs=-1)\n",
    "\n",
    "\n",
    "clf.fit(X_train, y_train)"
   ]
  },
  {
   "cell_type": "code",
   "execution_count": 35,
   "metadata": {},
   "outputs": [
    {
     "name": "stdout",
     "output_type": "stream",
     "text": [
      "Test set score : 0.935\n"
     ]
    }
   ],
   "source": [
    "print(\"Test set score : {:.3f}\".format(accuracy_score(clf.predict(X_test), y_test)))"
   ]
  },
  {
   "cell_type": "code",
   "execution_count": 36,
   "metadata": {},
   "outputs": [
    {
     "data": {
      "text/plain": [
       "array([[ 1.29498914,  1.01676171,  2.87415462,  2.47211282, -0.72685002]])"
      ]
     },
     "execution_count": 36,
     "metadata": {},
     "output_type": "execute_result"
    }
   ],
   "source": [
    "l = clf.final_estimator_\n",
    "\n",
    "#models_coefficients\n",
    "l.coef_"
   ]
  },
  {
   "cell_type": "code",
   "execution_count": 37,
   "metadata": {},
   "outputs": [
    {
     "name": "stdout",
     "output_type": "stream",
     "text": [
      "##################################\n",
      "REPORT\n",
      "##################################\n",
      "\n",
      "CONFUSION_MATRIX\n",
      "\n",
      "[[2077  173]\n",
      " [ 177 2976]]\n",
      "\n",
      "CLASSFICATION_REPORT\n",
      "\n",
      "              precision    recall  f1-score   support\n",
      "\n",
      "           0       0.92      0.92      0.92      2250\n",
      "           1       0.95      0.94      0.94      3153\n",
      "\n",
      "    accuracy                           0.94      5403\n",
      "   macro avg       0.93      0.93      0.93      5403\n",
      "weighted avg       0.94      0.94      0.94      5403\n",
      "\n",
      "\n",
      "------------------------------------\n",
      "------------------------------------\n"
     ]
    }
   ],
   "source": [
    "pred = clf.predict(X_test)\n",
    "\n",
    "print('##################################')\n",
    "print('REPORT')\n",
    "print('##################################')\n",
    "print()\n",
    "print('CONFUSION_MATRIX')\n",
    "print()\n",
    "print(confusion_matrix(y_test,pred))\n",
    "print()\n",
    "print('CLASSFICATION_REPORT')\n",
    "print()\n",
    "print(classification_report(y_test,pred))\n",
    "print()\n",
    "print('------------------------------------')\n",
    "print('------------------------------------')"
   ]
  },
  {
   "cell_type": "code",
   "execution_count": 38,
   "metadata": {},
   "outputs": [
    {
     "name": "stdout",
     "output_type": "stream",
     "text": [
      "##########\n",
      "Accuracy: 0.9352\n",
      "Precision: 0.9451\n",
      "Recall: 0.9439\n",
      "f1_score: 0.9445\n",
      "f2_score: 0.9441\n",
      "f5_score: 0.9441\n",
      "##########\n",
      "\n"
     ]
    }
   ],
   "source": [
    "pred = clf.predict(X_test)\n",
    "accuracy = accuracy_score(y_test,pred)\n",
    "precision = precision_score(y_test,pred)\n",
    "recall = recall_score(y_test,pred)\n",
    "f1 = f1_score(y_test,pred)\n",
    "f2 = fbeta_score(y_test,pred,beta=2)\n",
    "f5 = fbeta_score(y_test,pred,beta=2)\n",
    "\n",
    "print('##########')\n",
    "print('Accuracy: {}'.format(round(accuracy,4)))\n",
    "print('Precision: {}'.format(round(precision,4)))\n",
    "print('Recall: {}'.format(round(recall,4)))\n",
    "print('f1_score: {}'.format(round(f1,4)))\n",
    "print('f2_score: {}'.format(round(f2,4)))\n",
    "print('f5_score: {}'.format(round(f5,4)))\n",
    "print('##########')\n",
    "print()"
   ]
  },
  {
   "cell_type": "code",
   "execution_count": 39,
   "metadata": {},
   "outputs": [
    {
     "name": "stdout",
     "output_type": "stream",
     "text": [
      "Average precision-recall score: 0.98\n"
     ]
    },
    {
     "data": {
      "image/png": "[encoded data removed]",
      "text/plain": [
       "<Figure size 864x288 with 2 Axes>"
      ]
     },
     "metadata": {
      "needs_background": "light"
     },
     "output_type": "display_data"
    }
   ],
   "source": [
    "y_score = clf.decision_function(X_test)\n",
    "average_precision = average_precision_score(y_test, y_score)\n",
    "\n",
    "print('Average precision-recall score: {0:0.2f}'.format(\n",
    "      average_precision))\n",
    "\n",
    "fig, axes = plt.subplots(figsize=(12,4),nrows=1,ncols=2)\n",
    "disp = plot_precision_recall_curve(clf, X_test, y_test,ax=axes[0])\n",
    "disp.ax_.set_title('2-class Precision-Recall curve: '\n",
    "                   'AP={0:0.2f}'.format(average_precision))\n",
    "axes[0].legend(loc=\"upper right\")\n",
    "\n",
    "\n",
    "fpr, tpr, _ = roc_curve(y_test, y_score)\n",
    "roc_auc = auc(fpr, tpr)\n",
    "\n",
    "#plt.figure()\n",
    "lw = 2\n",
    "axes[1].plot(fpr, tpr, color='darkorange',lw=lw, label='ROC curve (area = %0.2f)' % roc_auc)\n",
    "axes[1].plot([0, 1], [0, 1], color='navy', lw=lw, linestyle='--')\n",
    "axes[1].set_xlim([0.0, 1.0])\n",
    "axes[1].set_ylim([0.0, 1.05])\n",
    "axes[1].set_xlabel('False Positive Rate')\n",
    "axes[1].set_ylabel('True Positive Rate')\n",
    "axes[1].set_title('Receiver Operating Characteristic Curve')\n",
    "axes[1].legend(loc=\"lower right\")\n",
    "plt.show()"
   ]
  },
  {
   "cell_type": "code",
   "execution_count": null,
   "metadata": {},
   "outputs": [],
   "source": []
  }
 ],
 "metadata": {
  "kernelspec": {
   "display_name": "Python 3",
   "language": "python",
   "name": "python3"
  },
  "language_info": {
   "codemirror_mode": {
    "name": "ipython",
    "version": 3
   },
   "file_extension": ".py",
   "mimetype": "text/x-python",
   "name": "python",
   "nbconvert_exporter": "python",
   "pygments_lexer": "ipython3",
   "version": "3.7.3"
  }
 },
 "nbformat": 4,
 "nbformat_minor": 2
}
