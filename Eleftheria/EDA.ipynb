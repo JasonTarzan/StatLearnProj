{
 "cells": [
  {
   "cell_type": "markdown",
   "metadata": {},
   "source": [
    "# Imports "
   ]
  },
  {
   "cell_type": "code",
   "execution_count": 1,
   "metadata": {},
   "outputs": [
    {
     "name": "stderr",
     "output_type": "stream",
     "text": [
      "C:\\Users\\HP\\Anaconda3\\lib\\site-packages\\ipykernel_launcher.py:3: FutureWarning: Passing a negative integer is deprecated in version 1.0 and will not be supported in future version. Instead, use None to not limit the column width.\n",
      "  This is separate from the ipykernel package so we can avoid doing imports until\n",
      "C:\\Users\\HP\\Anaconda3\\lib\\site-packages\\statsmodels\\tools\\_testing.py:19: FutureWarning: pandas.util.testing is deprecated. Use the functions in the public API at pandas.testing instead.\n",
      "  import pandas.util.testing as tm\n"
     ]
    }
   ],
   "source": [
    "import numpy as np \n",
    "import pandas as pd \n",
    "pd.set_option('display.max_colwidth', -1)\n",
    "from time import time\n",
    "import re\n",
    "import string\n",
    "import os\n",
    "import csv\n",
    "import emoji\n",
    "from pprint import pprint\n",
    "import collections\n",
    "import matplotlib.pyplot as plt\n",
    "import seaborn as sns\n",
    "sns.set(style=\"darkgrid\")\n",
    "sns.set(font_scale=1.3)\n",
    "from sklearn.base import BaseEstimator, TransformerMixin\n",
    "from sklearn.feature_extraction.text import CountVectorizer\n",
    "from sklearn.feature_extraction.text import TfidfVectorizer\n",
    "from sklearn.model_selection import GridSearchCV\n",
    "from sklearn.model_selection import train_test_split\n",
    "from sklearn.pipeline import Pipeline, FeatureUnion\n",
    "from sklearn.metrics import classification_report\n",
    "from sklearn.naive_bayes import MultinomialNB\n",
    "from sklearn.linear_model import LogisticRegression\n",
    "import joblib\n",
    "import gensim\n",
    "from nltk.corpus import stopwords\n",
    "from nltk.stem import PorterStemmer\n",
    "from nltk.tokenize import word_tokenize\n",
    "import warnings\n",
    "warnings.filterwarnings('ignore')\n",
    "np.random.seed(37)"
   ]
  },
  {
   "cell_type": "markdown",
   "metadata": {},
   "source": [
    "# Loading the data"
   ]
  },
  {
   "cell_type": "code",
   "execution_count": 2,
   "metadata": {},
   "outputs": [],
   "source": [
    "df = pd.read_csv(r\"C:\\Users\\HP\\Documents\\Year I Semester II\\SL\\Project\\Group 7 Pilot Dataset.csv\")\n",
    "df = df[['text', 'label']]"
   ]
  },
  {
   "cell_type": "code",
   "execution_count": 3,
   "metadata": {},
   "outputs": [
    {
     "data": {
      "text/html": [
       "<div>\n",
       "<style scoped>\n",
       "    .dataframe tbody tr th:only-of-type {\n",
       "        vertical-align: middle;\n",
       "    }\n",
       "\n",
       "    .dataframe tbody tr th {\n",
       "        vertical-align: top;\n",
       "    }\n",
       "\n",
       "    .dataframe thead th {\n",
       "        text-align: right;\n",
       "    }\n",
       "</style>\n",
       "<table border=\"1\" class=\"dataframe\">\n",
       "  <thead>\n",
       "    <tr style=\"text-align: right;\">\n",
       "      <th></th>\n",
       "      <th>text</th>\n",
       "      <th>label</th>\n",
       "    </tr>\n",
       "  </thead>\n",
       "  <tbody>\n",
       "    <tr>\n",
       "      <th>0</th>\n",
       "      <td>Economic recovery and national climate pledges must be designed hand in hand this year if we are to combat the twin global crises we face, says @ manupulgarvidal # PetersbergClimateDialogue Photo credit; BMU/Christoph Wehrerpic.twitter.com/8j85FD6HhW</td>\n",
       "      <td>0</td>\n",
       "    </tr>\n",
       "    <tr>\n",
       "      <th>1</th>\n",
       "      <td>In this difficult time, it’s hard to connect with the natural world. So this # EarthDay, we’re appreciating nature from afar by highlighting a few of the amazing ways it works to help our # climate. # EarthDay2020pic.twitter.com/OcxaSLKnYx</td>\n",
       "      <td>0</td>\n",
       "    </tr>\n",
       "    <tr>\n",
       "      <th>2</th>\n",
       "      <td>The decision to postpone # COP26, is unavoidable. Our collective priority must be to put health and lives first. But climate action must remain a non-negotiable global priority, says @ manupulgarvidal http://ow.ly/MMpd50z2CY2 @ wwf_media @ WWF @ VPerezCirera</td>\n",
       "      <td>0</td>\n",
       "    </tr>\n",
       "    <tr>\n",
       "      <th>3</th>\n",
       "      <td>Japan - the world’s fifth largest emitter of greenhouse gases - had an opportunity to step up # ClimateAction. Instead, it submitted an unchanged # climate plan ( # NDC) to the UN. It must rethink its submission, says @ WWF's @ manupulgarvidal:http://ow.ly/UoMH50yZYm3</td>\n",
       "      <td>0</td>\n",
       "    </tr>\n",
       "    <tr>\n",
       "      <th>4</th>\n",
       "      <td>How can countries include # NatureBasedSolutions in their # Climate plans ( # NDCs)? Our new guidance offers 8 simple recommendations: https://wwf.panda.org/?361395/NDCs-nature-based-solutions …pic.twitter.com/T4I1mSuM73</td>\n",
       "      <td>0</td>\n",
       "    </tr>\n",
       "  </tbody>\n",
       "</table>\n",
       "</div>"
      ],
      "text/plain": [
       "                                                                                                                                                                                                                                                                           text  \\\n",
       "0  Economic recovery and national climate pledges must be designed hand in hand this year if we are to combat the twin global crises we face, says @ manupulgarvidal # PetersbergClimateDialogue Photo credit; BMU/Christoph Wehrerpic.twitter.com/8j85FD6HhW                     \n",
       "1  In this difficult time, it’s hard to connect with the natural world. So this # EarthDay, we’re appreciating nature from afar by highlighting a few of the amazing ways it works to help our # climate. # EarthDay2020pic.twitter.com/OcxaSLKnYx                                \n",
       "2  The decision to postpone # COP26, is unavoidable. Our collective priority must be to put health and lives first. But climate action must remain a non-negotiable global priority, says @ manupulgarvidal http://ow.ly/MMpd50z2CY2 @ wwf_media @ WWF @ VPerezCirera             \n",
       "3  Japan - the world’s fifth largest emitter of greenhouse gases - had an opportunity to step up # ClimateAction. Instead, it submitted an unchanged # climate plan ( # NDC) to the UN. It must rethink its submission, says @ WWF's @ manupulgarvidal:http://ow.ly/UoMH50yZYm3   \n",
       "4  How can countries include # NatureBasedSolutions in their # Climate plans ( # NDCs)? Our new guidance offers 8 simple recommendations: https://wwf.panda.org/?361395/NDCs-nature-based-solutions …pic.twitter.com/T4I1mSuM73                                                   \n",
       "\n",
       "   label  \n",
       "0  0      \n",
       "1  0      \n",
       "2  0      \n",
       "3  0      \n",
       "4  0      "
      ]
     },
     "execution_count": 3,
     "metadata": {},
     "output_type": "execute_result"
    }
   ],
   "source": [
    "df.head()"
   ]
  },
  {
   "cell_type": "markdown",
   "metadata": {},
   "source": [
    "# Exploratory Data Analysis\n",
    "#### Target variable"
   ]
  },
  {
   "cell_type": "code",
   "execution_count": 4,
   "metadata": {},
   "outputs": [
    {
     "data": {
      "image/png": "[encoded data removed]",
      "text/plain": [
       "<Figure size 648x432 with 1 Axes>"
      ]
     },
     "metadata": {
      "needs_background": "light"
     },
     "output_type": "display_data"
    }
   ],
   "source": [
    "sns.factorplot(x=\"label\", data=df, kind=\"count\", size=6, aspect=1.5, palette=\"PuBuGn_d\")\n",
    "plt.show() # The class labels are imbalanced. One first approach is to undersample the majority class and oversample \n",
    "# the minority one, so as to obtain a more balanced dataset. \n",
    "# Other approach can be using other error metrics beyond accuracy such as the precision, the recall or the F1-score."
   ]
  },
  {
   "cell_type": "markdown",
   "metadata": {},
   "source": [
    "#### Input variable"
   ]
  },
  {
   "cell_type": "code",
   "execution_count": 5,
   "metadata": {},
   "outputs": [],
   "source": [
    "class TextCounts(BaseEstimator, TransformerMixin):\n",
    "    \n",
    "    def count_regex(self, pattern, tweet):\n",
    "        return len(re.findall(pattern, tweet))\n",
    "    \n",
    "    def fit(self, X, y=None, **fit_params):\n",
    "        # fit method is used when specific operations need to be done on the train data, but not on the test data\n",
    "        return self\n",
    "    \n",
    "    def transform(self, X, **transform_params):\n",
    "        count_words = X.apply(lambda x: self.count_regex(r'\\w+', x)) \n",
    "        count_mentions = X.apply(lambda x: self.count_regex(r'@\\w+', x))\n",
    "        count_hashtags = X.apply(lambda x: self.count_regex(r'#\\w+', x))\n",
    "        count_capital_words = X.apply(lambda x: self.count_regex(r'\\b[A-Z]{2,}\\b', x))\n",
    "        count_excl_quest_marks = X.apply(lambda x: self.count_regex(r'!|\\?', x))\n",
    "        count_urls = X.apply(lambda x: self.count_regex(r'http.?://[^\\s]+[\\s]?', x))\n",
    "        # We will replace the emoji symbols with a description, which makes using a regex for counting easier\n",
    "        # Moreover, it will result in having more words in the tweet\n",
    "        count_emojis = X.apply(lambda x: emoji.demojize(x)).apply(lambda x: self.count_regex(r':[a-z_&]+:', x))\n",
    "        \n",
    "        df = pd.DataFrame({'count_words': count_words # number of words in the tweet\n",
    "                           , 'count_mentions': count_mentions # referrals to other Twitter accounts start with a @\n",
    "                           , 'count_hashtags': count_hashtags # number of tag words, preceded by a #\n",
    "                           , 'count_capital_words': count_capital_words # number of uppercase words are sometimes \n",
    "                                                                       #used to “shout” and express (negative) emotions\n",
    "                           , 'count_excl_quest_marks': count_excl_quest_marks # number of question or exclamation marks\n",
    "                           , 'count_urls': count_urls # number of links in the tweet, preceded by http(s)\n",
    "                           , 'count_emojis': count_emojis # number of emoji, which might be a good sign of the sentiment\n",
    "                          }) \n",
    "        \n",
    "        return df\n",
    "tc = TextCounts()\n",
    "df_eda = tc.fit_transform(df.text)\n",
    "df_eda['label'] = df.label"
   ]
  },
  {
   "cell_type": "code",
   "execution_count": 6,
   "metadata": {},
   "outputs": [
    {
     "data": {
      "text/html": [
       "<div>\n",
       "<style scoped>\n",
       "    .dataframe tbody tr th:only-of-type {\n",
       "        vertical-align: middle;\n",
       "    }\n",
       "\n",
       "    .dataframe tbody tr th {\n",
       "        vertical-align: top;\n",
       "    }\n",
       "\n",
       "    .dataframe thead th {\n",
       "        text-align: right;\n",
       "    }\n",
       "</style>\n",
       "<table border=\"1\" class=\"dataframe\">\n",
       "  <thead>\n",
       "    <tr style=\"text-align: right;\">\n",
       "      <th></th>\n",
       "      <th>count_words</th>\n",
       "      <th>count_mentions</th>\n",
       "      <th>count_hashtags</th>\n",
       "      <th>count_capital_words</th>\n",
       "      <th>count_excl_quest_marks</th>\n",
       "      <th>count_urls</th>\n",
       "      <th>count_emojis</th>\n",
       "      <th>label</th>\n",
       "    </tr>\n",
       "  </thead>\n",
       "  <tbody>\n",
       "    <tr>\n",
       "      <th>0</th>\n",
       "      <td>36</td>\n",
       "      <td>0</td>\n",
       "      <td>0</td>\n",
       "      <td>1</td>\n",
       "      <td>0</td>\n",
       "      <td>0</td>\n",
       "      <td>0</td>\n",
       "      <td>0</td>\n",
       "    </tr>\n",
       "    <tr>\n",
       "      <th>1</th>\n",
       "      <td>40</td>\n",
       "      <td>0</td>\n",
       "      <td>0</td>\n",
       "      <td>0</td>\n",
       "      <td>0</td>\n",
       "      <td>0</td>\n",
       "      <td>0</td>\n",
       "      <td>0</td>\n",
       "    </tr>\n",
       "    <tr>\n",
       "      <th>2</th>\n",
       "      <td>37</td>\n",
       "      <td>0</td>\n",
       "      <td>0</td>\n",
       "      <td>1</td>\n",
       "      <td>0</td>\n",
       "      <td>1</td>\n",
       "      <td>0</td>\n",
       "      <td>0</td>\n",
       "    </tr>\n",
       "    <tr>\n",
       "      <th>3</th>\n",
       "      <td>41</td>\n",
       "      <td>0</td>\n",
       "      <td>0</td>\n",
       "      <td>3</td>\n",
       "      <td>0</td>\n",
       "      <td>1</td>\n",
       "      <td>1</td>\n",
       "      <td>0</td>\n",
       "    </tr>\n",
       "    <tr>\n",
       "      <th>4</th>\n",
       "      <td>30</td>\n",
       "      <td>0</td>\n",
       "      <td>0</td>\n",
       "      <td>0</td>\n",
       "      <td>2</td>\n",
       "      <td>1</td>\n",
       "      <td>0</td>\n",
       "      <td>0</td>\n",
       "    </tr>\n",
       "  </tbody>\n",
       "</table>\n",
       "</div>"
      ],
      "text/plain": [
       "   count_words  count_mentions  count_hashtags  count_capital_words  \\\n",
       "0  36           0               0               1                     \n",
       "1  40           0               0               0                     \n",
       "2  37           0               0               1                     \n",
       "3  41           0               0               3                     \n",
       "4  30           0               0               0                     \n",
       "\n",
       "   count_excl_quest_marks  count_urls  count_emojis  label  \n",
       "0  0                       0           0             0      \n",
       "1  0                       0           0             0      \n",
       "2  0                       1           0             0      \n",
       "3  0                       1           1             0      \n",
       "4  2                       1           0             0      "
      ]
     },
     "execution_count": 6,
     "metadata": {},
     "output_type": "execute_result"
    }
   ],
   "source": [
    "df_eda.head()"
   ]
  },
  {
   "cell_type": "code",
   "execution_count": 7,
   "metadata": {},
   "outputs": [],
   "source": [
    "def show_dist(df, col):\n",
    "    print('Descriptive stats for {}'.format(col))\n",
    "    print('-'*(len(col)+22))\n",
    "    print(df.groupby('label')[col].describe())\n",
    "    bins = np.arange(df[col].min(), df[col].max() + 1)\n",
    "    g = sns.FacetGrid(df, col='label', size=5, hue='label', palette=\"PuBuGn_d\")\n",
    "    g = g.map(sns.distplot, col, kde=False, norm_hist=True, bins=bins)\n",
    "    plt.show()"
   ]
  },
  {
   "cell_type": "code",
   "execution_count": 8,
   "metadata": {},
   "outputs": [
    {
     "name": "stdout",
     "output_type": "stream",
     "text": [
      "Descriptive stats for count_words\n",
      "---------------------------------\n",
      "         count       mean        std  min   25%   50%   75%   max\n",
      "label                                                            \n",
      "0      7438.0   32.444743  13.307175  1.0  22.0  31.0  43.0  84.0\n",
      "1      10571.0  24.912402  11.330541  4.0  17.0  22.0  30.0  92.0\n"
     ]
    },
    {
     "data": {
      "image/png": "[encoded data removed]",
      "text/plain": [
       "<Figure size 720x360 with 2 Axes>"
      ]
     },
     "metadata": {
      "needs_background": "light"
     },
     "output_type": "display_data"
    }
   ],
   "source": [
    "show_dist(df_eda,\"count_words\")"
   ]
  },
  {
   "cell_type": "code",
   "execution_count": 9,
   "metadata": {},
   "outputs": [
    {
     "name": "stdout",
     "output_type": "stream",
     "text": [
      "Descriptive stats for count_mentions\n",
      "------------------------------------\n",
      "         count      mean       std  min  25%  50%  75%   max\n",
      "label                                                       \n",
      "0      7438.0   0.611589  1.281475  0.0  0.0  0.0  1.0  17.0\n",
      "1      10571.0  0.004919  0.083527  0.0  0.0  0.0  0.0  2.0 \n"
     ]
    },
    {
     "data": {
      "image/png": "[encoded data removed]",
      "text/plain": [
       "<Figure size 720x360 with 2 Axes>"
      ]
     },
     "metadata": {
      "needs_background": "light"
     },
     "output_type": "display_data"
    }
   ],
   "source": [
    "show_dist(df_eda,\"count_mentions\") # big difference, could be a fault of the database"
   ]
  },
  {
   "cell_type": "code",
   "execution_count": 10,
   "metadata": {},
   "outputs": [
    {
     "name": "stdout",
     "output_type": "stream",
     "text": [
      "Descriptive stats for count_hashtags\n",
      "------------------------------------\n",
      "         count      mean       std  min  25%  50%  75%   max\n",
      "label                                                       \n",
      "0      7438.0   0.924173  1.419302  0.0  0.0  0.0  2.0  18.0\n",
      "1      10571.0  0.011257  0.109898  0.0  0.0  0.0  0.0  2.0 \n"
     ]
    },
    {
     "data": {
      "image/png": "[encoded data removed]",
      "text/plain": [
       "<Figure size 720x360 with 2 Axes>"
      ]
     },
     "metadata": {
      "needs_background": "light"
     },
     "output_type": "display_data"
    }
   ],
   "source": [
    "show_dist(df_eda,\"count_hashtags\") # huge difference "
   ]
  },
  {
   "cell_type": "code",
   "execution_count": 11,
   "metadata": {},
   "outputs": [
    {
     "name": "stdout",
     "output_type": "stream",
     "text": [
      "Descriptive stats for count_capital_words\n",
      "-----------------------------------------\n",
      "         count      mean       std  min  25%  50%  75%   max\n",
      "label                                                       \n",
      "0      7438.0   0.543829  1.220660  0.0  0.0  0.0  1.0  30.0\n",
      "1      10571.0  0.514332  1.250793  0.0  0.0  0.0  1.0  19.0\n"
     ]
    },
    {
     "data": {
      "image/png": "[encoded data removed]",
      "text/plain": [
       "<Figure size 720x360 with 2 Axes>"
      ]
     },
     "metadata": {
      "needs_background": "light"
     },
     "output_type": "display_data"
    }
   ],
   "source": [
    "show_dist(df_eda,\"count_capital_words\") "
   ]
  },
  {
   "cell_type": "code",
   "execution_count": 12,
   "metadata": {},
   "outputs": [
    {
     "name": "stdout",
     "output_type": "stream",
     "text": [
      "Descriptive stats for count_excl_quest_marks\n",
      "--------------------------------------------\n",
      "         count      mean       std  min  25%  50%  75%   max\n",
      "label                                                       \n",
      "0      7438.0   0.478892  0.825682  0.0  0.0  0.0  1.0  13.0\n",
      "1      10571.0  0.277457  0.535514  0.0  0.0  0.0  0.0  10.0\n"
     ]
    },
    {
     "data": {
      "image/png": "[encoded data removed]",
      "text/plain": [
       "<Figure size 720x360 with 2 Axes>"
      ]
     },
     "metadata": {
      "needs_background": "light"
     },
     "output_type": "display_data"
    }
   ],
   "source": [
    "show_dist(df_eda,\"count_excl_quest_marks\")"
   ]
  },
  {
   "cell_type": "code",
   "execution_count": 13,
   "metadata": {},
   "outputs": [
    {
     "name": "stdout",
     "output_type": "stream",
     "text": [
      "Descriptive stats for count_urls\n",
      "--------------------------------\n",
      "         count      mean       std  min  25%  50%  75%  max\n",
      "label                                                      \n",
      "0      7438.0   0.697365  0.500607  0.0  0.0  1.0  1.0  4.0\n",
      "1      10571.0  0.837574  0.395351  0.0  1.0  1.0  1.0  3.0\n"
     ]
    },
    {
     "data": {
      "image/png": "[encoded data removed]",
      "text/plain": [
       "<Figure size 720x360 with 2 Axes>"
      ]
     },
     "metadata": {
      "needs_background": "light"
     },
     "output_type": "display_data"
    }
   ],
   "source": [
    "show_dist(df_eda,\"count_urls\")"
   ]
  },
  {
   "cell_type": "code",
   "execution_count": 14,
   "metadata": {},
   "outputs": [
    {
     "name": "stdout",
     "output_type": "stream",
     "text": [
      "Descriptive stats for count_emojis\n",
      "----------------------------------\n",
      "         count      mean       std  min  25%  50%  75%  max\n",
      "label                                                      \n",
      "0      7438.0   0.097472  0.380783  0.0  0.0  0.0  0.0  7.0\n",
      "1      10571.0  0.124019  0.419083  0.0  0.0  0.0  0.0  6.0\n"
     ]
    },
    {
     "data": {
      "image/png": "[encoded data removed]",
      "text/plain": [
       "<Figure size 720x360 with 2 Axes>"
      ]
     },
     "metadata": {
      "needs_background": "light"
     },
     "output_type": "display_data"
    }
   ],
   "source": [
    "show_dist(df_eda,\"count_emojis\")"
   ]
  },
  {
   "cell_type": "markdown",
   "metadata": {},
   "source": [
    "# Text Cleaning"
   ]
  },
  {
   "cell_type": "code",
   "execution_count": 15,
   "metadata": {},
   "outputs": [],
   "source": [
    "class CleanText(BaseEstimator, TransformerMixin):\n",
    "    def remove_mentions(self, input_text):\n",
    "        return re.sub(r'@\\w+', '', input_text)\n",
    "    \n",
    "    def remove_urls(self, input_text):\n",
    "        return re.sub(r'http.?://[^\\s]+[\\s]?', '', input_text)\n",
    "    \n",
    "    def emoji_oneword(self, input_text):\n",
    "        # By compressing the underscore, the emoji is kept as one word\n",
    "        return input_text.replace('_','')\n",
    "    \n",
    "    def possessive_pronouns(self, input_text):\n",
    "        return input_text.replace(\"'s\", \"\")\n",
    "    \n",
    "    def characters(self, input_text):\n",
    "        input_text = input_text.replace(\"\\r\", \" \")\n",
    "        input_text = input_text.replace(\"\\n\", \" \")\n",
    "        input_text = input_text.replace(\"    \", \" \")\n",
    "        input_text = input_text.replace('\"', '')\n",
    "        return input_text\n",
    "    \n",
    "    def remove_punctuation(self, input_text):\n",
    "        # Make translation table\n",
    "        punct = string.punctuation\n",
    "        trantab = str.maketrans(punct, len(punct)*' ')  # Every punctuation symbol will be replaced by a space\n",
    "        return input_text.translate(trantab)\n",
    "    \n",
    "    def remove_digits(self, input_text):\n",
    "        return re.sub('\\d+', '', input_text)\n",
    "    \n",
    "    def to_lower(self, input_text):\n",
    "        return input_text.lower()\n",
    "    \n",
    "    def remove_stopwords(self, input_text):\n",
    "        stopwords_list = stopwords.words('english')\n",
    "        # Some words which might indicate a certain sentiment are kept via a whitelist\n",
    "        whitelist = [\"n't\", \"not\", \"no\"]\n",
    "        words = input_text.split() \n",
    "        clean_words = [word for word in words if (word not in stopwords_list or word in whitelist) and len(word) > 1] \n",
    "        return \" \".join(clean_words) \n",
    "    \n",
    "    def stemming(self, input_text):\n",
    "        porter = PorterStemmer()\n",
    "        words = input_text.split() \n",
    "        stemmed_words = [porter.stem(word) for word in words]\n",
    "        return \" \".join(stemmed_words)\n",
    "    \n",
    "    def translator(self, input_text):\n",
    "        '''this function transforms abbrevations to normal words'''\n",
    "        input_text = input_text.split(\" \")\n",
    "        j = 0\n",
    "        for _str in input_text:\n",
    "            # File path which consists of Abbreviations.\n",
    "            fileName = r\"C:\\Users\\HP\\Documents\\Year I Semester II\\SL\\Project\\StatLearnProj-master\\Iason\\slang.txt\"\n",
    "            # File Access mode [Read Mode]\n",
    "            accessMode = \"r\"\n",
    "            with open(fileName, accessMode) as myCSVfile:\n",
    "                # Reading file as CSV with delimiter as \"=\", so that abbreviation are stored in row[0] and phrases in row[1]\n",
    "                dataFromFile = csv.reader(myCSVfile, delimiter=\"=\")\n",
    "                # Removing Special Characters.\n",
    "                _str = re.sub('[^a-zA-Z0-9-_.]', '', _str)\n",
    "                for row in dataFromFile:\n",
    "                    # Check if selected word matches short forms[LHS] in text file.\n",
    "                    if _str.upper() == row[0]:\n",
    "                        # If match found replace it with its appropriate phrase in text file.\n",
    "                        input_text[j] = row[1]\n",
    "                myCSVfile.close()\n",
    "            j = j + 1\n",
    "        # Replacing commas with spaces for final output.\n",
    "    #     print(' '.join(input_text))\n",
    "    #     print('===================================================')\n",
    "    #     print('')\n",
    "        return(' '.join(input_text))\n",
    "    \n",
    "    def fit(self, X, y=None, **fit_params):\n",
    "        return self\n",
    "    \n",
    "    def transform(self, X, **transform_params):\n",
    "        clean_X = X.apply(self.translator).apply(self.remove_mentions).apply(self.remove_urls).apply(self.emoji_oneword).apply(self.remove_punctuation).apply(self.remove_digits).apply(self.to_lower).apply(self.remove_stopwords).apply(self.stemming).apply(self.characters).apply(self.possessive_pronouns)\n",
    "        return clean_X"
   ]
  },
  {
   "cell_type": "code",
   "execution_count": 16,
   "metadata": {},
   "outputs": [],
   "source": [
    "ct = CleanText()\n",
    "sr_clean = ct.fit_transform(df.text)"
   ]
  },
  {
   "cell_type": "code",
   "execution_count": 17,
   "metadata": {},
   "outputs": [
    {
     "name": "stdout",
     "output_type": "stream",
     "text": [
      "1 records have no words left after text cleaning\n"
     ]
    }
   ],
   "source": [
    "empty_clean = sr_clean == ''\n",
    "print('{} records have no words left after text cleaning'.format(sr_clean[empty_clean].count()))"
   ]
  },
  {
   "cell_type": "code",
   "execution_count": 18,
   "metadata": {},
   "outputs": [
    {
     "data": {
      "text/html": [
       "<div>\n",
       "<style scoped>\n",
       "    .dataframe tbody tr th:only-of-type {\n",
       "        vertical-align: middle;\n",
       "    }\n",
       "\n",
       "    .dataframe tbody tr th {\n",
       "        vertical-align: top;\n",
       "    }\n",
       "\n",
       "    .dataframe thead th {\n",
       "        text-align: right;\n",
       "    }\n",
       "</style>\n",
       "<table border=\"1\" class=\"dataframe\">\n",
       "  <thead>\n",
       "    <tr style=\"text-align: right;\">\n",
       "      <th></th>\n",
       "      <th>text</th>\n",
       "      <th>label</th>\n",
       "    </tr>\n",
       "  </thead>\n",
       "  <tbody>\n",
       "    <tr>\n",
       "      <th>3087</th>\n",
       "      <td>@capital_climate :)</td>\n",
       "      <td>0</td>\n",
       "    </tr>\n",
       "  </tbody>\n",
       "</table>\n",
       "</div>"
      ],
      "text/plain": [
       "                     text  label\n",
       "3087  @capital_climate :)  0    "
      ]
     },
     "execution_count": 18,
     "metadata": {},
     "output_type": "execute_result"
    }
   ],
   "source": [
    "df[empty_clean] # this tweet with the cleaning is left to nothing. So we'll remove it "
   ]
  },
  {
   "cell_type": "code",
   "execution_count": 19,
   "metadata": {},
   "outputs": [],
   "source": [
    "df = df.drop(3087)"
   ]
  },
  {
   "cell_type": "code",
   "execution_count": 20,
   "metadata": {},
   "outputs": [],
   "source": [
    "df.reset_index(inplace = True)\n",
    "df.drop(\"index\", axis = 1, inplace = True)"
   ]
  },
  {
   "cell_type": "code",
   "execution_count": 21,
   "metadata": {},
   "outputs": [
    {
     "data": {
      "image/png": "[encoded data removed]",
      "text/plain": [
       "<Figure size 864x720 with 1 Axes>"
      ]
     },
     "metadata": {
      "needs_background": "light"
     },
     "output_type": "display_data"
    }
   ],
   "source": [
    "# most frequent words\n",
    "cv = CountVectorizer()\n",
    "bow = cv.fit_transform(sr_clean)\n",
    "word_freq = dict(zip(cv.get_feature_names(), np.asarray(bow.sum(axis=0)).ravel()))\n",
    "word_counter = collections.Counter(word_freq)\n",
    "word_counter_df = pd.DataFrame(word_counter.most_common(20), columns = ['word', 'freq'])\n",
    "fig, ax = plt.subplots(figsize=(12, 10))\n",
    "sns.barplot(x=\"word\", y=\"freq\", data=word_counter_df, palette=\"PuBuGn_d\", ax=ax)\n",
    "plt.show();\n",
    "# here there are no, not, us etc. I don't know if we should remove them "
   ]
  },
  {
   "cell_type": "code",
   "execution_count": 22,
   "metadata": {},
   "outputs": [
    {
     "data": {
      "text/plain": [
       "18009"
      ]
     },
     "execution_count": 22,
     "metadata": {},
     "output_type": "execute_result"
    }
   ],
   "source": [
    "len(sr_clean) "
   ]
  },
  {
   "cell_type": "code",
   "execution_count": 23,
   "metadata": {},
   "outputs": [
    {
     "data": {
      "text/plain": [
       "18008"
      ]
     },
     "execution_count": 23,
     "metadata": {},
     "output_type": "execute_result"
    }
   ],
   "source": [
    "len(df)"
   ]
  },
  {
   "cell_type": "code",
   "execution_count": 24,
   "metadata": {},
   "outputs": [
    {
     "data": {
      "text/plain": [
       "0        econom recoveri nation climat pledg must design hand hand year combat twin global crise face say manupulgarvid petersbergclimatedialogu photo credit bmu christoph wehrerp twitter com jfdhhw\n",
       "1        difficult time it’ hard connect natur world earthday we’r appreci natur afar highlight amaz way work help climat earthdayp twitter com ocxaslknyx                                            \n",
       "2        decis postpon cop unavoid collect prioriti must put health live first climat action must remain non negoti global prioriti say manupulgarvid wwfmedia wwf vperezcirera                       \n",
       "3        japan world’ fifth largest emitt greenhous gase opportun step climateact instead submit unchang climat plan ndc un must rethink submiss say wwf manupulgarvid                                \n",
       "4        countri includ naturebasedsolut climat plan ndc new guidanc offer simpl recommend …pic twitter com timsum                                                                                    \n",
       "                                                           ...                                                                                                                                        \n",
       "18004    exclus studi find temperatur adjust account â€˜nearli warmingâ€™ climat data â€¦                                                                                                             \n",
       "18005    good news wastefeul climat alarmist panel end realdonaldtrump admin â€¦                                                                                                                      \n",
       "18006    epa climat alarmist corpor croni program â€¦                                                                                                                                                 \n",
       "18007    epa justic dept investig climat fraud scandal associ potenti loss tax dollar â€¦                                                                                                             \n",
       "18008    billion upon billion hard earn tax dollar spent climat scienc fraud account â€¦                                                                                                              \n",
       "Name: text, Length: 18008, dtype: object"
      ]
     },
     "execution_count": 24,
     "metadata": {},
     "output_type": "execute_result"
    }
   ],
   "source": [
    "sr_clean = sr_clean.drop(3087) # i deleted the 3087 from the df but not from the sr_clean\n",
    "sr_clean"
   ]
  },
  {
   "cell_type": "code",
   "execution_count": 25,
   "metadata": {},
   "outputs": [
    {
     "data": {
      "text/html": [
       "<div>\n",
       "<style scoped>\n",
       "    .dataframe tbody tr th:only-of-type {\n",
       "        vertical-align: middle;\n",
       "    }\n",
       "\n",
       "    .dataframe tbody tr th {\n",
       "        vertical-align: top;\n",
       "    }\n",
       "\n",
       "    .dataframe thead th {\n",
       "        text-align: right;\n",
       "    }\n",
       "</style>\n",
       "<table border=\"1\" class=\"dataframe\">\n",
       "  <thead>\n",
       "    <tr style=\"text-align: right;\">\n",
       "      <th></th>\n",
       "      <th>text</th>\n",
       "      <th>label</th>\n",
       "    </tr>\n",
       "  </thead>\n",
       "  <tbody>\n",
       "    <tr>\n",
       "      <th>0</th>\n",
       "      <td>Economic recovery and national climate pledges must be designed hand in hand this year if we are to combat the twin global crises we face, says @ manupulgarvidal # PetersbergClimateDialogue Photo credit; BMU/Christoph Wehrerpic.twitter.com/8j85FD6HhW</td>\n",
       "      <td>0</td>\n",
       "    </tr>\n",
       "    <tr>\n",
       "      <th>1</th>\n",
       "      <td>In this difficult time, it’s hard to connect with the natural world. So this # EarthDay, we’re appreciating nature from afar by highlighting a few of the amazing ways it works to help our # climate. # EarthDay2020pic.twitter.com/OcxaSLKnYx</td>\n",
       "      <td>0</td>\n",
       "    </tr>\n",
       "    <tr>\n",
       "      <th>2</th>\n",
       "      <td>The decision to postpone # COP26, is unavoidable. Our collective priority must be to put health and lives first. But climate action must remain a non-negotiable global priority, says @ manupulgarvidal http://ow.ly/MMpd50z2CY2 @ wwf_media @ WWF @ VPerezCirera</td>\n",
       "      <td>0</td>\n",
       "    </tr>\n",
       "    <tr>\n",
       "      <th>3</th>\n",
       "      <td>Japan - the world’s fifth largest emitter of greenhouse gases - had an opportunity to step up # ClimateAction. Instead, it submitted an unchanged # climate plan ( # NDC) to the UN. It must rethink its submission, says @ WWF's @ manupulgarvidal:http://ow.ly/UoMH50yZYm3</td>\n",
       "      <td>0</td>\n",
       "    </tr>\n",
       "    <tr>\n",
       "      <th>4</th>\n",
       "      <td>How can countries include # NatureBasedSolutions in their # Climate plans ( # NDCs)? Our new guidance offers 8 simple recommendations: https://wwf.panda.org/?361395/NDCs-nature-based-solutions …pic.twitter.com/T4I1mSuM73</td>\n",
       "      <td>0</td>\n",
       "    </tr>\n",
       "    <tr>\n",
       "      <th>...</th>\n",
       "      <td>...</td>\n",
       "      <td>...</td>\n",
       "    </tr>\n",
       "    <tr>\n",
       "      <th>18003</th>\n",
       "      <td>EXCLUSIVE: Study Finds Temperature Adjustments Account For â€˜Nearly All Of The Warmingâ€™ In Climate Data http://dailycaller.com/2017/07/05/exclusive-study-finds-temperature-adjustments-account-for-nearly-all-of-the-warming-in-climate-data/?utm_source=site-share â€¦</td>\n",
       "      <td>1</td>\n",
       "    </tr>\n",
       "    <tr>\n",
       "      <th>18004</th>\n",
       "      <td>Some good news. Wastefeul climate alarmist panel ended by @ realDonaldTrump admin. https://www.washingtonpost.com/news/energy-environment/wp/2017/08/20/the-trump-administration-just-disbanded-a-federal-advisory-committee-on-climate-change/ â€¦</td>\n",
       "      <td>1</td>\n",
       "    </tr>\n",
       "    <tr>\n",
       "      <th>18005</th>\n",
       "      <td>The EPA or the climate alarmist corporate crony program? https://twitter.com/EricLiptonNYT/status/901250216610983936 â€¦</td>\n",
       "      <td>1</td>\n",
       "    </tr>\n",
       "    <tr>\n",
       "      <th>18006</th>\n",
       "      <td>Will @ EPA and Justice Dept investigate the climate fraud scandal and associated potential loss of tax dollars? http://www.breitbart.com/big-government/2017/12/06/tidalgate-climate-alarmists-caught-faking-sea-level-rise/ â€¦</td>\n",
       "      <td>1</td>\n",
       "    </tr>\n",
       "    <tr>\n",
       "      <th>18007</th>\n",
       "      <td>Billions upon billions of hard-earned tax dollars spent on the climate science fraud. Accountability? https://twitter.com/DailyCaller/status/988872010502692864 â€¦</td>\n",
       "      <td>1</td>\n",
       "    </tr>\n",
       "  </tbody>\n",
       "</table>\n",
       "<p>18008 rows × 2 columns</p>\n",
       "</div>"
      ],
      "text/plain": [
       "                                                                                                                                                                                                                                                                               text  \\\n",
       "0      Economic recovery and national climate pledges must be designed hand in hand this year if we are to combat the twin global crises we face, says @ manupulgarvidal # PetersbergClimateDialogue Photo credit; BMU/Christoph Wehrerpic.twitter.com/8j85FD6HhW                     \n",
       "1      In this difficult time, it’s hard to connect with the natural world. So this # EarthDay, we’re appreciating nature from afar by highlighting a few of the amazing ways it works to help our # climate. # EarthDay2020pic.twitter.com/OcxaSLKnYx                                \n",
       "2      The decision to postpone # COP26, is unavoidable. Our collective priority must be to put health and lives first. But climate action must remain a non-negotiable global priority, says @ manupulgarvidal http://ow.ly/MMpd50z2CY2 @ wwf_media @ WWF @ VPerezCirera             \n",
       "3      Japan - the world’s fifth largest emitter of greenhouse gases - had an opportunity to step up # ClimateAction. Instead, it submitted an unchanged # climate plan ( # NDC) to the UN. It must rethink its submission, says @ WWF's @ manupulgarvidal:http://ow.ly/UoMH50yZYm3   \n",
       "4      How can countries include # NatureBasedSolutions in their # Climate plans ( # NDCs)? Our new guidance offers 8 simple recommendations: https://wwf.panda.org/?361395/NDCs-nature-based-solutions …pic.twitter.com/T4I1mSuM73                                                   \n",
       "...                                                                                                                                                                                                                             ...                                                   \n",
       "18003  EXCLUSIVE: Study Finds Temperature Adjustments Account For â€˜Nearly All Of The Warmingâ€™ In Climate Data http://dailycaller.com/2017/07/05/exclusive-study-finds-temperature-adjustments-account-for-nearly-all-of-the-warming-in-climate-data/?utm_source=site-share â€¦    \n",
       "18004  Some good news. Wastefeul climate alarmist panel ended by @ realDonaldTrump admin. https://www.washingtonpost.com/news/energy-environment/wp/2017/08/20/the-trump-administration-just-disbanded-a-federal-advisory-committee-on-climate-change/ â€¦                            \n",
       "18005  The EPA or the climate alarmist corporate crony program? https://twitter.com/EricLiptonNYT/status/901250216610983936 â€¦                                                                                                                                                       \n",
       "18006  Will @ EPA and Justice Dept investigate the climate fraud scandal and associated potential loss of tax dollars? http://www.breitbart.com/big-government/2017/12/06/tidalgate-climate-alarmists-caught-faking-sea-level-rise/ â€¦                                               \n",
       "18007  Billions upon billions of hard-earned tax dollars spent on the climate science fraud. Accountability? https://twitter.com/DailyCaller/status/988872010502692864 â€¦                                                                                                            \n",
       "\n",
       "       label  \n",
       "0      0      \n",
       "1      0      \n",
       "2      0      \n",
       "3      0      \n",
       "4      0      \n",
       "...   ..      \n",
       "18003  1      \n",
       "18004  1      \n",
       "18005  1      \n",
       "18006  1      \n",
       "18007  1      \n",
       "\n",
       "[18008 rows x 2 columns]"
      ]
     },
     "execution_count": 25,
     "metadata": {},
     "output_type": "execute_result"
    }
   ],
   "source": [
    "df"
   ]
  },
  {
   "cell_type": "code",
   "execution_count": 26,
   "metadata": {},
   "outputs": [
    {
     "data": {
      "text/html": [
       "<div>\n",
       "<style scoped>\n",
       "    .dataframe tbody tr th:only-of-type {\n",
       "        vertical-align: middle;\n",
       "    }\n",
       "\n",
       "    .dataframe tbody tr th {\n",
       "        vertical-align: top;\n",
       "    }\n",
       "\n",
       "    .dataframe thead th {\n",
       "        text-align: right;\n",
       "    }\n",
       "</style>\n",
       "<table border=\"1\" class=\"dataframe\">\n",
       "  <thead>\n",
       "    <tr style=\"text-align: right;\">\n",
       "      <th></th>\n",
       "      <th>text</th>\n",
       "      <th>label</th>\n",
       "    </tr>\n",
       "  </thead>\n",
       "  <tbody>\n",
       "    <tr>\n",
       "      <th>0</th>\n",
       "      <td>econom recoveri nation climat pledg must design hand hand year combat twin global crise face say manupulgarvid petersbergclimatedialogu photo credit bmu christoph wehrerp twitter com jfdhhw</td>\n",
       "      <td>0.0</td>\n",
       "    </tr>\n",
       "    <tr>\n",
       "      <th>1</th>\n",
       "      <td>difficult time it’ hard connect natur world earthday we’r appreci natur afar highlight amaz way work help climat earthdayp twitter com ocxaslknyx</td>\n",
       "      <td>0.0</td>\n",
       "    </tr>\n",
       "    <tr>\n",
       "      <th>2</th>\n",
       "      <td>decis postpon cop unavoid collect prioriti must put health live first climat action must remain non negoti global prioriti say manupulgarvid wwfmedia wwf vperezcirera</td>\n",
       "      <td>0.0</td>\n",
       "    </tr>\n",
       "    <tr>\n",
       "      <th>3</th>\n",
       "      <td>japan world’ fifth largest emitt greenhous gase opportun step climateact instead submit unchang climat plan ndc un must rethink submiss say wwf manupulgarvid</td>\n",
       "      <td>0.0</td>\n",
       "    </tr>\n",
       "    <tr>\n",
       "      <th>4</th>\n",
       "      <td>countri includ naturebasedsolut climat plan ndc new guidanc offer simpl recommend …pic twitter com timsum</td>\n",
       "      <td>0.0</td>\n",
       "    </tr>\n",
       "    <tr>\n",
       "      <th>...</th>\n",
       "      <td>...</td>\n",
       "      <td>...</td>\n",
       "    </tr>\n",
       "    <tr>\n",
       "      <th>18004</th>\n",
       "      <td>exclus studi find temperatur adjust account â€˜nearli warmingâ€™ climat data â€¦</td>\n",
       "      <td>1.0</td>\n",
       "    </tr>\n",
       "    <tr>\n",
       "      <th>18005</th>\n",
       "      <td>good news wastefeul climat alarmist panel end realdonaldtrump admin â€¦</td>\n",
       "      <td>1.0</td>\n",
       "    </tr>\n",
       "    <tr>\n",
       "      <th>18006</th>\n",
       "      <td>epa climat alarmist corpor croni program â€¦</td>\n",
       "      <td>1.0</td>\n",
       "    </tr>\n",
       "    <tr>\n",
       "      <th>18007</th>\n",
       "      <td>epa justic dept investig climat fraud scandal associ potenti loss tax dollar â€¦</td>\n",
       "      <td>1.0</td>\n",
       "    </tr>\n",
       "    <tr>\n",
       "      <th>18008</th>\n",
       "      <td>billion upon billion hard earn tax dollar spent climat scienc fraud account â€¦</td>\n",
       "      <td>NaN</td>\n",
       "    </tr>\n",
       "  </tbody>\n",
       "</table>\n",
       "<p>18008 rows × 2 columns</p>\n",
       "</div>"
      ],
      "text/plain": [
       "                                                                                                                                                                                                text  \\\n",
       "0      econom recoveri nation climat pledg must design hand hand year combat twin global crise face say manupulgarvid petersbergclimatedialogu photo credit bmu christoph wehrerp twitter com jfdhhw   \n",
       "1      difficult time it’ hard connect natur world earthday we’r appreci natur afar highlight amaz way work help climat earthdayp twitter com ocxaslknyx                                               \n",
       "2      decis postpon cop unavoid collect prioriti must put health live first climat action must remain non negoti global prioriti say manupulgarvid wwfmedia wwf vperezcirera                          \n",
       "3      japan world’ fifth largest emitt greenhous gase opportun step climateact instead submit unchang climat plan ndc un must rethink submiss say wwf manupulgarvid                                   \n",
       "4      countri includ naturebasedsolut climat plan ndc new guidanc offer simpl recommend …pic twitter com timsum                                                                                       \n",
       "...                                                                                                          ...                                                                                       \n",
       "18004  exclus studi find temperatur adjust account â€˜nearli warmingâ€™ climat data â€¦                                                                                                                \n",
       "18005  good news wastefeul climat alarmist panel end realdonaldtrump admin â€¦                                                                                                                         \n",
       "18006  epa climat alarmist corpor croni program â€¦                                                                                                                                                    \n",
       "18007  epa justic dept investig climat fraud scandal associ potenti loss tax dollar â€¦                                                                                                                \n",
       "18008  billion upon billion hard earn tax dollar spent climat scienc fraud account â€¦                                                                                                                 \n",
       "\n",
       "       label  \n",
       "0      0.0    \n",
       "1      0.0    \n",
       "2      0.0    \n",
       "3      0.0    \n",
       "4      0.0    \n",
       "...    ...    \n",
       "18004  1.0    \n",
       "18005  1.0    \n",
       "18006  1.0    \n",
       "18007  1.0    \n",
       "18008 NaN     \n",
       "\n",
       "[18008 rows x 2 columns]"
      ]
     },
     "execution_count": 26,
     "metadata": {},
     "output_type": "execute_result"
    }
   ],
   "source": [
    "dopo_eda = pd.DataFrame()\n",
    "dopo_eda[\"text\"] = sr_clean\n",
    "dopo_eda[\"label\"] = df.label\n",
    "dopo_eda"
   ]
  },
  {
   "cell_type": "code",
   "execution_count": 27,
   "metadata": {},
   "outputs": [],
   "source": [
    "dopo_eda.to_csv(\"dopo_eda.csv\")"
   ]
  }
 ],
 "metadata": {
  "kernelspec": {
   "display_name": "Python 3",
   "language": "python",
   "name": "python3"
  },
  "language_info": {
   "codemirror_mode": {
    "name": "ipython",
    "version": 3
   },
   "file_extension": ".py",
   "mimetype": "text/x-python",
   "name": "python",
   "nbconvert_exporter": "python",
   "pygments_lexer": "ipython3",
   "version": "3.7.4"
  }
 },
 "nbformat": 4,
 "nbformat_minor": 2
}
