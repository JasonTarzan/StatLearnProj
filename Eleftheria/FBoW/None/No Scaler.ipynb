{
 "cells": [
  {
   "cell_type": "markdown",
   "metadata": {
    "colab_type": "text",
    "id": "82aOeuGJG-el"
   },
   "source": [
    "# Imports"
   ]
  },
  {
   "cell_type": "code",
   "execution_count": 1,
   "metadata": {
    "colab": {
     "base_uri": "https://localhost:8080/",
     "height": 316,
     "resources": {
      "http://localhost:8080/nbextensions/google.colab/files.js": {
       "data": "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",
       "headers": [
        [
         "content-type",
         "application/javascript"
        ]
       ],
       "ok": true,
       "status": 200,
       "status_text": ""
      }
     }
    },
    "colab_type": "code",
    "executionInfo": {
     "elapsed": 15533,
     "status": "ok",
     "timestamp": 1591972581963,
     "user": {
      "displayName": "Eleftheria Ttl",
      "photoUrl": "https://lh3.googleusercontent.com/a-/AOh14GjEUn7VOujIAs9GyA_K_R9ukpn5Xo-J__z4rTCB=s64",
      "userId": "04117230757505482464"
     },
     "user_tz": -120
    },
    "id": "dtNSwJ60G_lp",
    "outputId": "23f472f4-6739-4eb5-d5bd-b52151ef2392"
   },
   "outputs": [
    {
     "name": "stdout",
     "output_type": "stream",
     "text": [
      "Requirement already up-to-date: emoji in c:\\users\\eleftheria\\appdata\\local\\continuum\\anaconda3\\lib\\site-packages (0.5.4)\n"
     ]
    },
    {
     "name": "stderr",
     "output_type": "stream",
     "text": [
      "Using TensorFlow backend.\n",
      "[nltk_data] Downloading package stopwords to\n",
      "[nltk_data]     C:\\Users\\Eleftheria\\AppData\\Roaming\\nltk_data...\n",
      "[nltk_data]   Package stopwords is already up-to-date!\n"
     ]
    }
   ],
   "source": [
    "import csv  # for slang\n",
    "import os\n",
    "import re  # regex\n",
    "import string  # punct\n",
    "from pprint import pprint\n",
    "!pip install emoji --upgrade\n",
    "import emoji  # for emoji\n",
    "import gensim\n",
    "import keras\n",
    "import lightgbm as lgb\n",
    "import matplotlib.pyplot as plt\n",
    "import nltk\n",
    "import numpy as np\n",
    "import pandas as pd\n",
    "import seaborn as sns\n",
    "import sklearn\n",
    "from gensim.models import Word2Vec\n",
    "from IPython.display import Image\n",
    "from matplotlib import pyplot as plt\n",
    "from nltk.corpus import stopwords  # stopwords\n",
    "from nltk.stem import PorterStemmer  # stemming\n",
    "from nltk.stem import SnowballStemmer\n",
    "from nltk.stem.wordnet import WordNetLemmatizer\n",
    "from nltk.tokenize import word_tokenize\n",
    "from sklearn import svm, tree\n",
    "from sklearn.base import BaseEstimator, TransformerMixin\n",
    "from sklearn.decomposition import PCA\n",
    "from sklearn.discriminant_analysis import LinearDiscriminantAnalysis\n",
    "from sklearn.ensemble import (AdaBoostClassifier, BaggingClassifier,\n",
    "                              GradientBoostingClassifier,\n",
    "                              RandomForestClassifier, RandomForestRegressor)\n",
    "from sklearn.feature_extraction.text import CountVectorizer, TfidfVectorizer\n",
    "from sklearn.linear_model import LogisticRegression, LogisticRegressionCV\n",
    "from sklearn.metrics import (accuracy_score, auc, average_precision_score,\n",
    "                             brier_score_loss, classification_report,\n",
    "                             confusion_matrix, f1_score, fbeta_score,\n",
    "                             make_scorer,\n",
    "                             precision_recall_curve, precision_score,\n",
    "                             recall_score, roc_auc_score, roc_curve)\n",
    "from sklearn.model_selection import (GridSearchCV, KFold, RandomizedSearchCV,\n",
    "                                     cross_val_score, train_test_split)\n",
    "from sklearn.preprocessing import MaxAbsScaler, MinMaxScaler\n",
    "\n",
    "\n",
    "# pd.set_option('display.max_rows', 500)\n",
    "pd.set_option('display.max_columns', 500)\n",
    "pd.set_option('display.width', 1000)\n",
    "#from google.colab import files\n",
    "#uploaded = files.upload()\n",
    "import nltk\n",
    "nltk.download('stopwords')\n",
    "\n",
    "%matplotlib inline"
   ]
  },
  {
   "cell_type": "markdown",
   "metadata": {
    "colab_type": "text",
    "id": "9-wrOA1Y9hDX"
   },
   "source": [
    "# Homemade Classes and Functions\n"
   ]
  },
  {
   "cell_type": "code",
   "execution_count": 2,
   "metadata": {
    "colab": {},
    "colab_type": "code",
    "id": "eyXuK2J3HJwA"
   },
   "outputs": [],
   "source": [
    "# Clean Text Class\n",
    "\n",
    "class CleanText(BaseEstimator, TransformerMixin):\n",
    "    \n",
    "    def remove_mentions(self, input_text):\n",
    "        '''\n",
    "        Remove mentions, like @Mplamplampla\n",
    "        '''\n",
    "        return re.sub(r'@+', '', input_text)\n",
    "    \n",
    "    def remove_urls(self, input_text):\n",
    "        '''\n",
    "        Remove the urls mention in a tweet\n",
    "        '''\n",
    "        input_text  = ' '.join([w for w in input_text.split(' ') if '.com' not in w])\n",
    "        return re.sub(r'http.?://[^\\s]+[\\s]?', '', input_text)\n",
    "    \n",
    "    def emoji_oneword(self, input_text):\n",
    "        # By compressing the underscore, the emoji is kept as one word\n",
    "        input_text = emoji.demojize(input_text)\n",
    "        input_text = input_text.replace('_','')\n",
    "        input_text = input_text.replace(':','')\n",
    "        return input_text\n",
    "    \n",
    "    def possessive_pronouns(self, input_text):\n",
    "        '''\n",
    "        Remove the possesive pronouns, because otherwise after tokenization we will end up with a word and an s\n",
    "        Example: government's --> [\"government\", \"s\"]\n",
    "        '''\n",
    "        return input_text.replace(\"'s\", \"\")\n",
    "    \n",
    "    def characters(self, input_text):\n",
    "        '''\n",
    "        Remove special and redundant characters that may appear on a tweet and that don't really help in our analysis\n",
    "        '''\n",
    "        input_text = input_text.replace(\"\\r\", \" \") # Carriage Return\n",
    "        input_text = input_text.replace(\"\\n\", \" \") # Newline\n",
    "        input_text = \" \".join(input_text.split()) # Double space\n",
    "        input_text = input_text.replace('\"', '') # Quotes\n",
    "        return input_text\n",
    "    \n",
    "    def remove_punctuation(self, input_text):\n",
    "        '''\n",
    "        Remove punctuation and specifically these symbols '!\"#$%&\\'()*+,-./:;<=>?@[\\\\]^_`{|}~'\n",
    "        '''\n",
    "        punct = string.punctuation # string with all the punctuation symbols '!\"#$%&\\'()*+,-./:;<=>?@[\\\\]^_`{|}~'\n",
    "        trantab = str.maketrans(punct, len(punct)*' ')  # Every punctuation symbol will be replaced by a space\n",
    "        return input_text.translate(trantab)\n",
    "    \n",
    "    def remove_digits(self, input_text):\n",
    "        '''\n",
    "        Remove numbers\n",
    "        '''\n",
    "        return re.sub('\\d+', '', input_text)\n",
    "    \n",
    "    def to_lower(self, input_text):\n",
    "        '''\n",
    "        Convert all the sentences(words) to lowercase\n",
    "        '''\n",
    "        return input_text.lower()\n",
    "    \n",
    "    def remove_stopwords(self, input_text):\n",
    "        '''\n",
    "        Remove stopwords (refers to the most common words in a language)\n",
    "        '''\n",
    "        stopwords_list = stopwords.words('english')\n",
    "        # Some words which might indicate a certain sentiment are kept via a whitelist\n",
    "        whitelist = [\"n't\", \"not\", \"no\"]\n",
    "        words = input_text.split() \n",
    "        clean_words = [word for word in words if (word not in stopwords_list or word in whitelist) and len(word) > 1] \n",
    "        return \" \".join(clean_words) \n",
    "    \n",
    "    def stemming(self, input_text):\n",
    "        '''\n",
    "        Reduce the words to their stem\n",
    "        '''\n",
    "        porter = PorterStemmer()\n",
    "        words = input_text.split() \n",
    "        stemmed_words = [porter.stem(word) for word in words]\n",
    "        return \" \".join(stemmed_words)\n",
    "    \n",
    "    def encode_decode(self, input_text):\n",
    "        '''\n",
    "        Remove weird characters that are result of encoding problems\n",
    "        '''\n",
    "        return  \" \".join([k.encode(\"ascii\", \"ignore\").decode() for k in input_text.split(\" \")])\n",
    "    \n",
    "    \n",
    "    def translator(self, input_text):\n",
    "        '''\n",
    "        Transform abbrevations to normal words\n",
    "        Example: asap --> as soon as possible\n",
    "        '''\n",
    "        input_text = input_text.split(\" \")\n",
    "        j = 0\n",
    "        for _str in input_text:\n",
    "            # File path which consists of Abbreviations.\n",
    "            fileName = r\"C:\\Users\\Eleftheria\\Desktop\\slang.txt\"\n",
    "            # File Access mode [Read Mode]\n",
    "            accessMode = \"r\"\n",
    "            with open(fileName, accessMode) as myCSVfile:\n",
    "                # Reading file as CSV with delimiter as \"=\", so that \n",
    "                # abbreviation are stored in row[0] and phrases in row[1]\n",
    "                dataFromFile = csv.reader(myCSVfile, delimiter=\"=\")\n",
    "                # Removing Special Characters.\n",
    "                _str = re.sub('[^a-zA-Z0-9-_.]', '', _str)\n",
    "                for row in dataFromFile:\n",
    "                    # Check if selected word matches short forms[LHS] in text file.\n",
    "                    if _str.upper() == row[0]:\n",
    "                        # If match found replace it with its appropriate phrase in text file.\n",
    "                        input_text[j] = row[1]\n",
    "                myCSVfile.close()\n",
    "            j = j + 1\n",
    "        \n",
    "        return(' '.join(input_text))\n",
    "    \n",
    "    def fit(self, X, y=None, **fit_params):\n",
    "        return self\n",
    "    \n",
    "    def transform(self, X, **transform_params):\n",
    "        clean_X = (X.apply(self.translator)\n",
    "                    .apply(self.remove_mentions)\n",
    "                    .apply(self.remove_urls)\n",
    "                    .apply(self.emoji_oneword)\n",
    "                    .apply(self.possessive_pronouns)\n",
    "                    .apply(self.remove_punctuation)\n",
    "                    .apply(self.remove_digits)\n",
    "                    .apply(self.encode_decode)\n",
    "                    .apply(self.characters)\n",
    "                    .apply(self.to_lower)\n",
    "                    .apply(self.remove_stopwords)\n",
    "                    .apply(self.stemming))\n",
    "        return clean_X\n",
    "    \n",
    "    def transform_no_stem(self, X, **transform_params):\n",
    "        clean_X = (X.apply(self.translator)\n",
    "                    .apply(self.remove_mentions)\n",
    "                    .apply(self.remove_urls)\n",
    "                    .apply(self.emoji_oneword)\n",
    "                    .apply(self.possessive_pronouns)\n",
    "                    .apply(self.remove_punctuation)\n",
    "                    .apply(self.remove_digits)\n",
    "                    .apply(self.encode_decode)\n",
    "                    .apply(self.characters)\n",
    "                    .apply(self.to_lower)\n",
    "                    .apply(self.remove_stopwords))\n",
    "        return clean_X"
   ]
  },
  {
   "cell_type": "markdown",
   "metadata": {
    "colab_type": "text",
    "id": "JZEugxAA9lOX"
   },
   "source": [
    "# Read in Data and Create Train and Test Sets"
   ]
  },
  {
   "cell_type": "code",
   "execution_count": 3,
   "metadata": {
    "colab": {
     "base_uri": "https://localhost:8080/",
     "height": 191
    },
    "colab_type": "code",
    "executionInfo": {
     "elapsed": 2808,
     "status": "ok",
     "timestamp": 1591972634219,
     "user": {
      "displayName": "Eleftheria Ttl",
      "photoUrl": "https://lh3.googleusercontent.com/a-/AOh14GjEUn7VOujIAs9GyA_K_R9ukpn5Xo-J__z4rTCB=s64",
      "userId": "04117230757505482464"
     },
     "user_tz": -120
    },
    "id": "VicBuqZGHWsL",
    "outputId": "672e9b3b-6a74-4657-c308-2ff4a8e761d5"
   },
   "outputs": [
    {
     "data": {
      "text/html": [
       "<div>\n",
       "<style scoped>\n",
       "    .dataframe tbody tr th:only-of-type {\n",
       "        vertical-align: middle;\n",
       "    }\n",
       "\n",
       "    .dataframe tbody tr th {\n",
       "        vertical-align: top;\n",
       "    }\n",
       "\n",
       "    .dataframe thead th {\n",
       "        text-align: right;\n",
       "    }\n",
       "</style>\n",
       "<table border=\"1\" class=\"dataframe\">\n",
       "  <thead>\n",
       "    <tr style=\"text-align: right;\">\n",
       "      <th></th>\n",
       "      <th>username</th>\n",
       "      <th>user_handle</th>\n",
       "      <th>date</th>\n",
       "      <th>retweets</th>\n",
       "      <th>favorites</th>\n",
       "      <th>text</th>\n",
       "      <th>label</th>\n",
       "    </tr>\n",
       "  </thead>\n",
       "  <tbody>\n",
       "    <tr>\n",
       "      <td>0</td>\n",
       "      <td>WWF Climate &amp; Energy</td>\n",
       "      <td>climateWWF</td>\n",
       "      <td>2020-04-28</td>\n",
       "      <td>11</td>\n",
       "      <td>22</td>\n",
       "      <td>Economic recovery and national climate pledges...</td>\n",
       "      <td>0</td>\n",
       "    </tr>\n",
       "    <tr>\n",
       "      <td>1</td>\n",
       "      <td>WWF Climate &amp; Energy</td>\n",
       "      <td>climateWWF</td>\n",
       "      <td>2020-04-22</td>\n",
       "      <td>6</td>\n",
       "      <td>16</td>\n",
       "      <td>In this difficult time, it’s hard to connect w...</td>\n",
       "      <td>0</td>\n",
       "    </tr>\n",
       "    <tr>\n",
       "      <td>2</td>\n",
       "      <td>WWF Climate &amp; Energy</td>\n",
       "      <td>climateWWF</td>\n",
       "      <td>2020-04-01</td>\n",
       "      <td>43</td>\n",
       "      <td>69</td>\n",
       "      <td>The decision to postpone # COP26, is unavoidab...</td>\n",
       "      <td>0</td>\n",
       "    </tr>\n",
       "    <tr>\n",
       "      <td>3</td>\n",
       "      <td>WWF Climate &amp; Energy</td>\n",
       "      <td>climateWWF</td>\n",
       "      <td>2020-03-30</td>\n",
       "      <td>24</td>\n",
       "      <td>30</td>\n",
       "      <td>Japan - the world’s fifth largest emitter of g...</td>\n",
       "      <td>0</td>\n",
       "    </tr>\n",
       "    <tr>\n",
       "      <td>4</td>\n",
       "      <td>WWF Climate &amp; Energy</td>\n",
       "      <td>climateWWF</td>\n",
       "      <td>2020-03-30</td>\n",
       "      <td>22</td>\n",
       "      <td>40</td>\n",
       "      <td>How can countries include # NatureBasedSolutio...</td>\n",
       "      <td>0</td>\n",
       "    </tr>\n",
       "  </tbody>\n",
       "</table>\n",
       "</div>"
      ],
      "text/plain": [
       "               username user_handle        date retweets favorites                                               text  label\n",
       "0  WWF Climate & Energy  climateWWF  2020-04-28       11        22  Economic recovery and national climate pledges...      0\n",
       "1  WWF Climate & Energy  climateWWF  2020-04-22        6        16  In this difficult time, it’s hard to connect w...      0\n",
       "2  WWF Climate & Energy  climateWWF  2020-04-01       43        69  The decision to postpone # COP26, is unavoidab...      0\n",
       "3  WWF Climate & Energy  climateWWF  2020-03-30       24        30  Japan - the world’s fifth largest emitter of g...      0\n",
       "4  WWF Climate & Energy  climateWWF  2020-03-30       22        40  How can countries include # NatureBasedSolutio...      0"
      ]
     },
     "execution_count": 3,
     "metadata": {},
     "output_type": "execute_result"
    }
   ],
   "source": [
    "tweets = pd.read_csv('https://github.com/anilkeshwani/StatLearnProj/raw/master/Iason/climate_change_tweets_sample-2020-05-16-17-57.csv')\n",
    "tweets.head()"
   ]
  },
  {
   "cell_type": "markdown",
   "metadata": {
    "colab_type": "text",
    "id": "2-5bMFdr9sYc"
   },
   "source": [
    "# Text Cleaning "
   ]
  },
  {
   "cell_type": "code",
   "execution_count": 4,
   "metadata": {
    "colab": {},
    "colab_type": "code",
    "id": "gdCFdFcT9tey"
   },
   "outputs": [],
   "source": [
    "ct = CleanText()\n",
    "tweets[\"text\"] = ct.fit_transform(tweets.text)\n",
    "tweets.to_csv(\"clean_tweets.csv\") # save once processed\n",
    "tweets = pd.read_csv(\"clean_tweets.csv\") # read in instead\n",
    "tweets = tweets.loc[(~tweets.text.isnull()), :]"
   ]
  },
  {
   "cell_type": "markdown",
   "metadata": {
    "colab_type": "text",
    "id": "lI3OIAs5YJlw"
   },
   "source": [
    "# Splitting "
   ]
  },
  {
   "cell_type": "code",
   "execution_count": 5,
   "metadata": {
    "colab": {
     "base_uri": "https://localhost:8080/",
     "height": 342
    },
    "colab_type": "code",
    "executionInfo": {
     "elapsed": 877,
     "status": "ok",
     "timestamp": 1591972754241,
     "user": {
      "displayName": "Eleftheria Ttl",
      "photoUrl": "https://lh3.googleusercontent.com/a-/AOh14GjEUn7VOujIAs9GyA_K_R9ukpn5Xo-J__z4rTCB=s64",
      "userId": "04117230757505482464"
     },
     "user_tz": -120
    },
    "id": "S6BWphtRYMdO",
    "outputId": "9d07ac0a-3188-4709-a218-dbc7e47f3e6d"
   },
   "outputs": [
    {
     "name": "stdout",
     "output_type": "stream",
     "text": [
      "3642     might progress climat area not enough global s...\n",
      "12695    trump crackdown politic scienc nasa climat div...\n",
      "8451     no one would believ human panick fals climat m...\n",
      "Name: text, dtype: object (14406,)\n",
      "\n",
      "8376     nazi root environment climat chang fraud bbcne...\n",
      "6111     interest democrat candid compar mani aspect cl...\n",
      "13983    ittrademark imposs see global warm signal minn...\n",
      "Name: text, dtype: object (3602,)\n",
      "\n",
      "3642     0\n",
      "12695    1\n",
      "8451     1\n",
      "Name: label, dtype: int64 (14406,)\n",
      "\n",
      "8376     1\n",
      "6111     0\n",
      "13983    1\n",
      "Name: label, dtype: int64 (3602,)\n",
      "\n"
     ]
    }
   ],
   "source": [
    "X_train, X_test, Y_train, Y_test = train_test_split(tweets.text, tweets.label, \n",
    "                                                    test_size=0.2, random_state=17, \n",
    "                                                    shuffle=True) # explicit default\n",
    "\n",
    "[print(dat.head(3), dat.shape, end=\"\\n\"*2) for dat in [X_train, X_test, Y_train, Y_test]];"
   ]
  },
  {
   "cell_type": "code",
   "execution_count": 6,
   "metadata": {
    "colab": {
     "base_uri": "https://localhost:8080/",
     "height": 163
    },
    "colab_type": "code",
    "executionInfo": {
     "elapsed": 1022,
     "status": "ok",
     "timestamp": 1591972757263,
     "user": {
      "displayName": "Eleftheria Ttl",
      "photoUrl": "https://lh3.googleusercontent.com/a-/AOh14GjEUn7VOujIAs9GyA_K_R9ukpn5Xo-J__z4rTCB=s64",
      "userId": "04117230757505482464"
     },
     "user_tz": -120
    },
    "id": "Jm-AOIhK9zut",
    "outputId": "2cc9fd38-c7bb-4fe6-b656-7124a893389a"
   },
   "outputs": [
    {
     "name": "stdout",
     "output_type": "stream",
     "text": [
      "Training label counts: \n",
      "1    8433\n",
      "0    5973\n",
      "Name: label, dtype: int64\n",
      "\n",
      "Test label counts: \n",
      "1    2138\n",
      "0    1464\n",
      "Name: label, dtype: int64\n"
     ]
    }
   ],
   "source": [
    "print(f\"Training label counts: \\n{Y_train.value_counts()}\", end=\"\\n\"*2)\n",
    "print(f\"Test label counts: \\n{Y_test.value_counts()}\")"
   ]
  },
  {
   "cell_type": "markdown",
   "metadata": {
    "colab_type": "text",
    "id": "3HdRAth9YQxX"
   },
   "source": [
    "# Word Vectorisations \n",
    "FBOW"
   ]
  },
  {
   "cell_type": "code",
   "execution_count": 7,
   "metadata": {
    "colab": {},
    "colab_type": "code",
    "id": "j5hnkhAuYZt-"
   },
   "outputs": [],
   "source": [
    "FBOW_vectorizer = CountVectorizer(stop_words = 'english', \n",
    "                                  binary=False, # Creates Word Frequency Vector; \n",
    "                                                # # np.unique(FBOW_train.toarray())\n",
    "                                  min_df = 10)\n",
    "FBOW_vectorizer.fit(X_train)\n",
    "X_train = FBOW_vectorizer.transform(X_train)\n",
    "X_test = FBOW_vectorizer.transform(X_test)"
   ]
  },
  {
   "cell_type": "markdown",
   "metadata": {
    "colab_type": "text",
    "id": "GRcmYvfIYgcw"
   },
   "source": [
    "# Scaler"
   ]
  },
  {
   "cell_type": "code",
   "execution_count": 8,
   "metadata": {
    "colab": {},
    "colab_type": "code",
    "id": "9fQG02_dYhxK"
   },
   "outputs": [],
   "source": [
    "#"
   ]
  },
  {
   "cell_type": "markdown",
   "metadata": {
    "colab_type": "text",
    "id": "zViBspW8Yl05"
   },
   "source": [
    "# CV"
   ]
  },
  {
   "cell_type": "code",
   "execution_count": 9,
   "metadata": {
    "colab": {},
    "colab_type": "code",
    "id": "7xA1X4y2Yki5"
   },
   "outputs": [],
   "source": [
    "kfcv = KFold(n_splits=5,shuffle=True,random_state=101)"
   ]
  },
  {
   "cell_type": "markdown",
   "metadata": {
    "colab_type": "text",
    "id": "TAniklhnYp25"
   },
   "source": [
    "# Classifier"
   ]
  },
  {
   "cell_type": "code",
   "execution_count": 10,
   "metadata": {
    "colab": {},
    "colab_type": "code",
    "id": "reyAVwTuYsDw"
   },
   "outputs": [],
   "source": [
    "param_grid = {\n",
    "            'penalty': ['none'],\n",
    "            'C': [.001, .01, .1, 1, 10, 100, 1000],\n",
    "            'solver': ['newton-cg', 'lbfgs','sag', 'saga'],\n",
    "            'multi_class': ['ovr'],\n",
    "            'max_iter' : [1000]\n",
    "            }\n",
    "clf = LogisticRegression()"
   ]
  },
  {
   "cell_type": "markdown",
   "metadata": {
    "colab_type": "text",
    "id": "-jiSAi-uYrcC"
   },
   "source": [
    "# Grid Search"
   ]
  },
  {
   "cell_type": "code",
   "execution_count": 11,
   "metadata": {
    "colab": {
     "base_uri": "https://localhost:8080/",
     "height": 375
    },
    "colab_type": "code",
    "executionInfo": {
     "elapsed": 88413,
     "status": "ok",
     "timestamp": 1591972865437,
     "user": {
      "displayName": "Eleftheria Ttl",
      "photoUrl": "https://lh3.googleusercontent.com/a-/AOh14GjEUn7VOujIAs9GyA_K_R9ukpn5Xo-J__z4rTCB=s64",
      "userId": "04117230757505482464"
     },
     "user_tz": -120
    },
    "id": "wVhq1bGEYroD",
    "outputId": "ab4b0236-8138-4bf7-8826-a000443185ce"
   },
   "outputs": [
    {
     "name": "stdout",
     "output_type": "stream",
     "text": [
      "Fitting 5 folds for each of 28 candidates, totalling 140 fits\n"
     ]
    },
    {
     "name": "stderr",
     "output_type": "stream",
     "text": [
      "[Parallel(n_jobs=-1)]: Using backend LokyBackend with 8 concurrent workers.\n",
      "[Parallel(n_jobs=-1)]: Done  25 tasks      | elapsed:  1.5min\n",
      "[Parallel(n_jobs=-1)]: Done 140 out of 140 | elapsed: 12.0min finished\n",
      "C:\\Users\\Eleftheria\\AppData\\Local\\Continuum\\anaconda3\\lib\\site-packages\\sklearn\\linear_model\\_logistic.py:1321: UserWarning: Setting penalty='none' will ignore the C and l1_ratio parameters\n",
      "  \"Setting penalty='none' will ignore the C and l1_ratio \"\n",
      "C:\\Users\\Eleftheria\\AppData\\Local\\Continuum\\anaconda3\\lib\\site-packages\\sklearn\\linear_model\\_sag.py:330: ConvergenceWarning: The max_iter was reached which means the coef_ did not converge\n",
      "  \"the coef_ did not converge\", ConvergenceWarning)\n"
     ]
    },
    {
     "data": {
      "text/plain": [
       "GridSearchCV(cv=KFold(n_splits=5, random_state=101, shuffle=True),\n",
       "             estimator=LogisticRegression(), n_jobs=-1,\n",
       "             param_grid={'C': [0.001, 0.01, 0.1, 1, 10, 100, 1000],\n",
       "                         'max_iter': [1000], 'multi_class': ['ovr'],\n",
       "                         'penalty': ['none'],\n",
       "                         'solver': ['newton-cg', 'lbfgs', 'sag', 'saga']},\n",
       "             scoring='accuracy', verbose=2)"
      ]
     },
     "execution_count": 11,
     "metadata": {},
     "output_type": "execute_result"
    }
   ],
   "source": [
    "grid_search = GridSearchCV(estimator = clf, param_grid = param_grid, \n",
    "                           cv=kfcv,n_jobs = -1, verbose =2, scoring='accuracy')\n",
    "grid_search.fit(X_train,Y_train)"
   ]
  },
  {
   "cell_type": "code",
   "execution_count": 12,
   "metadata": {
    "colab": {
     "base_uri": "https://localhost:8080/",
     "height": 293
    },
    "colab_type": "code",
    "executionInfo": {
     "elapsed": 941,
     "status": "ok",
     "timestamp": 1591972969850,
     "user": {
      "displayName": "Eleftheria Ttl",
      "photoUrl": "https://lh3.googleusercontent.com/a-/AOh14GjEUn7VOujIAs9GyA_K_R9ukpn5Xo-J__z4rTCB=s64",
      "userId": "04117230757505482464"
     },
     "user_tz": -120
    },
    "id": "9_UOQcv1Hoc3",
    "outputId": "f87382b6-69b9-4c86-d913-21c32468b0d6"
   },
   "outputs": [
    {
     "name": "stdout",
     "output_type": "stream",
     "text": [
      "Estimator that was chosen by the search, i.e. estimator which gave highest score (or smallest loss if specified) on the left out data\n",
      "\n",
      "LogisticRegression(C=0.001, max_iter=1000, multi_class='ovr', penalty='none',\n",
      "                   solver='saga')\n",
      "\n",
      "Score of best_estimator on the left out data.\n",
      "\n",
      "0.89\n",
      "\n",
      "\n",
      "\n",
      "Scorer function used on the held out data to choose the best parameters for the model.\n",
      "\n",
      "make_scorer(accuracy_score)\n"
     ]
    }
   ],
   "source": [
    "#print(\"Contains scores for all parameter combinations in param_grid. Each entry corresponds to one parameter setting. Each named tuple has the attributes: \\n--> parameters : a dict of parameter settings \\n--> mean_validation_score : the mean score over the cross-validation folds \\n--> cv_validation_scores : the list of scores for each fold\")\n",
    "#print()\n",
    "#print(grid_search.cv_results_)\n",
    "#print()\n",
    "print(\"Estimator that was chosen by the search, i.e. estimator which gave highest score (or smallest loss if specified) on the left out data\")\n",
    "print()\n",
    "print(grid_search.best_estimator_)\n",
    "print()\n",
    "print(\"Score of best_estimator on the left out data.\")\n",
    "print()\n",
    "print(round(grid_search.best_score_,3) )\n",
    "print()\n",
    "#print(\"Parameter setting that gave the best results on the hold out data.\")\n",
    "print()\n",
    "#print(grid_search.best_estimator_.get_params)\n",
    "print()\n",
    "print(\"Scorer function used on the held out data to choose the best parameters for the model.\")\n",
    "print()\n",
    "print(grid_search.scorer_)"
   ]
  },
  {
   "cell_type": "code",
   "execution_count": 13,
   "metadata": {
    "colab": {
     "base_uri": "https://localhost:8080/",
     "height": 50
    },
    "colab_type": "code",
    "executionInfo": {
     "elapsed": 874,
     "status": "ok",
     "timestamp": 1591972979914,
     "user": {
      "displayName": "Eleftheria Ttl",
      "photoUrl": "https://lh3.googleusercontent.com/a-/AOh14GjEUn7VOujIAs9GyA_K_R9ukpn5Xo-J__z4rTCB=s64",
      "userId": "04117230757505482464"
     },
     "user_tz": -120
    },
    "id": "HAhJ4GJ6ba4S",
    "outputId": "070ab74b-3413-4d9b-e8ca-008cedaffe06"
   },
   "outputs": [
    {
     "name": "stdout",
     "output_type": "stream",
     "text": [
      "Training Mean Accuracy: 1.0\n",
      "Test Mean Accuracy : 0.896\n"
     ]
    }
   ],
   "source": [
    "print('Training Mean Accuracy: {}'.format(round(grid_search.best_estimator_.score(X_train, Y_train))))\n",
    "\n",
    "print(\"Test Mean Accuracy : {:.3f}\".format(grid_search.best_estimator_.score(X_test, Y_test)))"
   ]
  },
  {
   "cell_type": "code",
   "execution_count": 14,
   "metadata": {
    "colab": {
     "base_uri": "https://localhost:8080/",
     "height": 50
    },
    "colab_type": "code",
    "executionInfo": {
     "elapsed": 793,
     "status": "ok",
     "timestamp": 1591972983597,
     "user": {
      "displayName": "Eleftheria Ttl",
      "photoUrl": "https://lh3.googleusercontent.com/a-/AOh14GjEUn7VOujIAs9GyA_K_R9ukpn5Xo-J__z4rTCB=s64",
      "userId": "04117230757505482464"
     },
     "user_tz": -120
    },
    "id": "pz58V-S0-EOH",
    "outputId": "49fcaa6c-fa22-4d44-8c31-9f3eb8ccb5ed"
   },
   "outputs": [
    {
     "name": "stdout",
     "output_type": "stream",
     "text": [
      "Training (1 - Brier Score): 0.975\n",
      "Test (1 - Brier Score): 0.919\n"
     ]
    }
   ],
   "source": [
    "proba_train = grid_search.predict_proba(X_train)[:, 1]\n",
    "proba_test = grid_search.predict_proba(X_test)[:, 1]\n",
    "BOW_logreg_noreg_brier_train = brier_score_loss(Y_train, proba_train)\n",
    "BOW_logreg_noreg_brier_test = brier_score_loss(Y_test, proba_test)\n",
    "print(f\"Training (1 - Brier Score): {1 - round(BOW_logreg_noreg_brier_train, 3)}\")\n",
    "print(f\"Test (1 - Brier Score): {1 - round(BOW_logreg_noreg_brier_test, 3)}\")\n",
    "\n"
   ]
  },
  {
   "cell_type": "code",
   "execution_count": null,
   "metadata": {
    "colab": {},
    "colab_type": "code",
    "id": "0-pET2V1---v"
   },
   "outputs": [],
   "source": []
  }
 ],
 "metadata": {
  "colab": {
   "authorship_tag": "ABX9TyPIhpBVPlPcH/Mrw5kbmyFG",
   "collapsed_sections": [],
   "name": "No Scaler.ipynb",
   "provenance": []
  },
  "kernelspec": {
   "display_name": "Python 3",
   "language": "python",
   "name": "python3"
  },
  "language_info": {
   "codemirror_mode": {
    "name": "ipython",
    "version": 3
   },
   "file_extension": ".py",
   "mimetype": "text/x-python",
   "name": "python",
   "nbconvert_exporter": "python",
   "pygments_lexer": "ipython3",
   "version": "3.7.4"
  }
 },
 "nbformat": 4,
 "nbformat_minor": 1
}
